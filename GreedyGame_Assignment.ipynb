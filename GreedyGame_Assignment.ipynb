{
  "cells": [
    {
      "cell_type": "markdown",
      "metadata": {
        "id": "view-in-github",
        "colab_type": "text"
      },
      "source": [
        "<a href=\"https://colab.research.google.com/github/AnannyaSagar/GreedyGame_assignment/blob/main/GreedyGame_Assignment.ipynb\" target=\"_parent\"><img src=\"https://colab.research.google.com/assets/colab-badge.svg\" alt=\"Open In Colab\"/></a>"
      ]
    },
    {
      "cell_type": "code",
      "execution_count": 3,
      "metadata": {
        "id": "96c1615a"
      },
      "outputs": [],
      "source": [
        "import numpy as np\n",
        "import pandas as pd"
      ],
      "id": "96c1615a"
    },
    {
      "cell_type": "code",
      "execution_count": 5,
      "metadata": {
        "colab": {
          "base_uri": "https://localhost:8080/"
        },
        "id": "ceXiGxh4Eoff",
        "outputId": "10bdc763-8f47-470b-82e9-06aad9dc5528"
      },
      "outputs": [
        {
          "output_type": "stream",
          "name": "stdout",
          "text": [
            "Mounted at /content/drive/\n"
          ]
        }
      ],
      "source": [
        "from google.colab import drive\n",
        "drive.mount('/content/drive/')"
      ],
      "id": "ceXiGxh4Eoff"
    },
    {
      "cell_type": "code",
      "execution_count": null,
      "metadata": {
        "id": "c0f772f8"
      },
      "outputs": [],
      "source": [
        "user_signup = pd.read_csv(\"/content/drive/MyDrive/Greedy Game/Q2_users signup.csv\")\n",
        "offer_initiation = pd.read_csv(\"/content/drive/MyDrive/Greedy Game/Q2_User offer data.csv\")\n",
        "offer_completion = pd.read_csv(\"/content/drive/MyDrive/Greedy Game/Q2_User offer completion data.csv\")\n",
        "rewards = pd.read_csv(\"/content/drive/MyDrive/Greedy Game/Q2_rewards details.csv\")"
      ],
      "id": "c0f772f8"
    },
    {
      "cell_type": "markdown",
      "metadata": {
        "id": "_5_GkDSSGMFA"
      },
      "source": [
        "## 1. user_signup data"
      ],
      "id": "_5_GkDSSGMFA"
    },
    {
      "cell_type": "markdown",
      "metadata": {
        "id": "_GsPMvAiFk7t"
      },
      "source": [
        "Looking at the top five rows of user_signup data"
      ],
      "id": "_GsPMvAiFk7t"
    },
    {
      "cell_type": "code",
      "execution_count": null,
      "metadata": {
        "colab": {
          "base_uri": "https://localhost:8080/",
          "height": 206
        },
        "id": "d39e9f8c",
        "outputId": "7bd89b91-83da-4bbe-c92a-4eb3aa2e1d87"
      },
      "outputs": [
        {
          "output_type": "execute_result",
          "data": {
            "text/plain": [
              "                                user_id app_id signed_up_on last_login_date\n",
              "0  c925ccad-98e7-4500-833e-a49aa066aeec  sikka   26-11-2022      26-11-2022\n",
              "1  7cdb9d2c-9644-42d0-8d44-50fa57747523  sikka   26-11-2022      26-11-2022\n",
              "2  e2dfd115-a8b0-4e3e-96e5-9b11e5f316f1  sikka   26-11-2022      28-11-2022\n",
              "3  f55000a3-dd68-44d8-b461-41c85d963ce2  sikka   26-11-2022      27-11-2022\n",
              "4  a6d5ed73-5c1c-4666-a592-f93ab4489cf5  sikka   26-11-2022      26-11-2022"
            ],
            "text/html": [
              "\n",
              "  <div id=\"df-eecaf94f-a9b5-4841-90a3-5bfd2fec63c5\">\n",
              "    <div class=\"colab-df-container\">\n",
              "      <div>\n",
              "<style scoped>\n",
              "    .dataframe tbody tr th:only-of-type {\n",
              "        vertical-align: middle;\n",
              "    }\n",
              "\n",
              "    .dataframe tbody tr th {\n",
              "        vertical-align: top;\n",
              "    }\n",
              "\n",
              "    .dataframe thead th {\n",
              "        text-align: right;\n",
              "    }\n",
              "</style>\n",
              "<table border=\"1\" class=\"dataframe\">\n",
              "  <thead>\n",
              "    <tr style=\"text-align: right;\">\n",
              "      <th></th>\n",
              "      <th>user_id</th>\n",
              "      <th>app_id</th>\n",
              "      <th>signed_up_on</th>\n",
              "      <th>last_login_date</th>\n",
              "    </tr>\n",
              "  </thead>\n",
              "  <tbody>\n",
              "    <tr>\n",
              "      <th>0</th>\n",
              "      <td>c925ccad-98e7-4500-833e-a49aa066aeec</td>\n",
              "      <td>sikka</td>\n",
              "      <td>26-11-2022</td>\n",
              "      <td>26-11-2022</td>\n",
              "    </tr>\n",
              "    <tr>\n",
              "      <th>1</th>\n",
              "      <td>7cdb9d2c-9644-42d0-8d44-50fa57747523</td>\n",
              "      <td>sikka</td>\n",
              "      <td>26-11-2022</td>\n",
              "      <td>26-11-2022</td>\n",
              "    </tr>\n",
              "    <tr>\n",
              "      <th>2</th>\n",
              "      <td>e2dfd115-a8b0-4e3e-96e5-9b11e5f316f1</td>\n",
              "      <td>sikka</td>\n",
              "      <td>26-11-2022</td>\n",
              "      <td>28-11-2022</td>\n",
              "    </tr>\n",
              "    <tr>\n",
              "      <th>3</th>\n",
              "      <td>f55000a3-dd68-44d8-b461-41c85d963ce2</td>\n",
              "      <td>sikka</td>\n",
              "      <td>26-11-2022</td>\n",
              "      <td>27-11-2022</td>\n",
              "    </tr>\n",
              "    <tr>\n",
              "      <th>4</th>\n",
              "      <td>a6d5ed73-5c1c-4666-a592-f93ab4489cf5</td>\n",
              "      <td>sikka</td>\n",
              "      <td>26-11-2022</td>\n",
              "      <td>26-11-2022</td>\n",
              "    </tr>\n",
              "  </tbody>\n",
              "</table>\n",
              "</div>\n",
              "      <button class=\"colab-df-convert\" onclick=\"convertToInteractive('df-eecaf94f-a9b5-4841-90a3-5bfd2fec63c5')\"\n",
              "              title=\"Convert this dataframe to an interactive table.\"\n",
              "              style=\"display:none;\">\n",
              "        \n",
              "  <svg xmlns=\"http://www.w3.org/2000/svg\" height=\"24px\"viewBox=\"0 0 24 24\"\n",
              "       width=\"24px\">\n",
              "    <path d=\"M0 0h24v24H0V0z\" fill=\"none\"/>\n",
              "    <path d=\"M18.56 5.44l.94 2.06.94-2.06 2.06-.94-2.06-.94-.94-2.06-.94 2.06-2.06.94zm-11 1L8.5 8.5l.94-2.06 2.06-.94-2.06-.94L8.5 2.5l-.94 2.06-2.06.94zm10 10l.94 2.06.94-2.06 2.06-.94-2.06-.94-.94-2.06-.94 2.06-2.06.94z\"/><path d=\"M17.41 7.96l-1.37-1.37c-.4-.4-.92-.59-1.43-.59-.52 0-1.04.2-1.43.59L10.3 9.45l-7.72 7.72c-.78.78-.78 2.05 0 2.83L4 21.41c.39.39.9.59 1.41.59.51 0 1.02-.2 1.41-.59l7.78-7.78 2.81-2.81c.8-.78.8-2.07 0-2.86zM5.41 20L4 18.59l7.72-7.72 1.47 1.35L5.41 20z\"/>\n",
              "  </svg>\n",
              "      </button>\n",
              "      \n",
              "  <style>\n",
              "    .colab-df-container {\n",
              "      display:flex;\n",
              "      flex-wrap:wrap;\n",
              "      gap: 12px;\n",
              "    }\n",
              "\n",
              "    .colab-df-convert {\n",
              "      background-color: #E8F0FE;\n",
              "      border: none;\n",
              "      border-radius: 50%;\n",
              "      cursor: pointer;\n",
              "      display: none;\n",
              "      fill: #1967D2;\n",
              "      height: 32px;\n",
              "      padding: 0 0 0 0;\n",
              "      width: 32px;\n",
              "    }\n",
              "\n",
              "    .colab-df-convert:hover {\n",
              "      background-color: #E2EBFA;\n",
              "      box-shadow: 0px 1px 2px rgba(60, 64, 67, 0.3), 0px 1px 3px 1px rgba(60, 64, 67, 0.15);\n",
              "      fill: #174EA6;\n",
              "    }\n",
              "\n",
              "    [theme=dark] .colab-df-convert {\n",
              "      background-color: #3B4455;\n",
              "      fill: #D2E3FC;\n",
              "    }\n",
              "\n",
              "    [theme=dark] .colab-df-convert:hover {\n",
              "      background-color: #434B5C;\n",
              "      box-shadow: 0px 1px 3px 1px rgba(0, 0, 0, 0.15);\n",
              "      filter: drop-shadow(0px 1px 2px rgba(0, 0, 0, 0.3));\n",
              "      fill: #FFFFFF;\n",
              "    }\n",
              "  </style>\n",
              "\n",
              "      <script>\n",
              "        const buttonEl =\n",
              "          document.querySelector('#df-eecaf94f-a9b5-4841-90a3-5bfd2fec63c5 button.colab-df-convert');\n",
              "        buttonEl.style.display =\n",
              "          google.colab.kernel.accessAllowed ? 'block' : 'none';\n",
              "\n",
              "        async function convertToInteractive(key) {\n",
              "          const element = document.querySelector('#df-eecaf94f-a9b5-4841-90a3-5bfd2fec63c5');\n",
              "          const dataTable =\n",
              "            await google.colab.kernel.invokeFunction('convertToInteractive',\n",
              "                                                     [key], {});\n",
              "          if (!dataTable) return;\n",
              "\n",
              "          const docLinkHtml = 'Like what you see? Visit the ' +\n",
              "            '<a target=\"_blank\" href=https://colab.research.google.com/notebooks/data_table.ipynb>data table notebook</a>'\n",
              "            + ' to learn more about interactive tables.';\n",
              "          element.innerHTML = '';\n",
              "          dataTable['output_type'] = 'display_data';\n",
              "          await google.colab.output.renderOutput(dataTable, element);\n",
              "          const docLink = document.createElement('div');\n",
              "          docLink.innerHTML = docLinkHtml;\n",
              "          element.appendChild(docLink);\n",
              "        }\n",
              "      </script>\n",
              "    </div>\n",
              "  </div>\n",
              "  "
            ]
          },
          "metadata": {},
          "execution_count": 143
        }
      ],
      "source": [
        "user_signup.head()"
      ],
      "id": "d39e9f8c"
    },
    {
      "cell_type": "markdown",
      "metadata": {
        "id": "AR_ZrzFGF9cs"
      },
      "source": [
        "Analysis of the columns and their types"
      ],
      "id": "AR_ZrzFGF9cs"
    },
    {
      "cell_type": "code",
      "execution_count": null,
      "metadata": {
        "colab": {
          "base_uri": "https://localhost:8080/"
        },
        "id": "_-PdjTr-F4oF",
        "outputId": "13cd2d41-254f-4ee3-f4fc-6625bbd93233"
      },
      "outputs": [
        {
          "output_type": "execute_result",
          "data": {
            "text/plain": [
              "user_id            object\n",
              "app_id             object\n",
              "signed_up_on       object\n",
              "last_login_date    object\n",
              "dtype: object"
            ]
          },
          "metadata": {},
          "execution_count": 144
        }
      ],
      "source": [
        "user_signup.dtypes"
      ],
      "id": "_-PdjTr-F4oF"
    },
    {
      "cell_type": "markdown",
      "metadata": {
        "id": "WwZGi9DJGH2Y"
      },
      "source": [
        "Looking for null_values"
      ],
      "id": "WwZGi9DJGH2Y"
    },
    {
      "cell_type": "code",
      "execution_count": null,
      "metadata": {
        "colab": {
          "base_uri": "https://localhost:8080/"
        },
        "id": "R4MVUuaFGCGS",
        "outputId": "37f90a8d-52b0-4d04-f16c-8d578706f6a3"
      },
      "outputs": [
        {
          "output_type": "execute_result",
          "data": {
            "text/plain": [
              "user_id            0\n",
              "app_id             0\n",
              "signed_up_on       0\n",
              "last_login_date    0\n",
              "dtype: int64"
            ]
          },
          "metadata": {},
          "execution_count": 145
        }
      ],
      "source": [
        "user_signup.isnull().sum()"
      ],
      "id": "R4MVUuaFGCGS"
    },
    {
      "cell_type": "markdown",
      "metadata": {
        "id": "DOIGCowiGTi0"
      },
      "source": [
        "There are no null values in the user_signup dataset."
      ],
      "id": "DOIGCowiGTi0"
    },
    {
      "cell_type": "markdown",
      "metadata": {
        "id": "r8qdyquCG0xt"
      },
      "source": [
        "Shape of user_signup data"
      ],
      "id": "r8qdyquCG0xt"
    },
    {
      "cell_type": "code",
      "execution_count": null,
      "metadata": {
        "colab": {
          "base_uri": "https://localhost:8080/"
        },
        "id": "bf84c252",
        "outputId": "57cc741c-d3c5-483e-c7db-3b20fb35f6a9"
      },
      "outputs": [
        {
          "output_type": "execute_result",
          "data": {
            "text/plain": [
              "(100, 4)"
            ]
          },
          "metadata": {},
          "execution_count": 146
        }
      ],
      "source": [
        "user_signup.shape"
      ],
      "id": "bf84c252"
    },
    {
      "cell_type": "markdown",
      "metadata": {
        "id": "cQxp6kLiGZxC"
      },
      "source": [
        "Converting last_login_date and signed_up_on into datetime format"
      ],
      "id": "cQxp6kLiGZxC"
    },
    {
      "cell_type": "code",
      "execution_count": null,
      "metadata": {
        "id": "fQUZkU3tGf67"
      },
      "outputs": [],
      "source": [
        "#Using to_datetime() to convert into datetime format\n",
        "user_signup['last_login_date'] = pd.to_datetime(user_signup['last_login_date']).dt.date\n",
        "user_signup['signed_up_on'] = pd.to_datetime(user_signup['signed_up_on'])"
      ],
      "id": "fQUZkU3tGf67"
    },
    {
      "cell_type": "code",
      "execution_count": null,
      "metadata": {
        "colab": {
          "base_uri": "https://localhost:8080/"
        },
        "id": "CealkuFeHM1T",
        "outputId": "86da967b-f70d-4b5a-ea51-d20ccf1d5383"
      },
      "outputs": [
        {
          "output_type": "execute_result",
          "data": {
            "text/plain": [
              "user_id                    object\n",
              "app_id                     object\n",
              "signed_up_on       datetime64[ns]\n",
              "last_login_date            object\n",
              "dtype: object"
            ]
          },
          "metadata": {},
          "execution_count": 148
        }
      ],
      "source": [
        "user_signup.dtypes"
      ],
      "id": "CealkuFeHM1T"
    },
    {
      "cell_type": "markdown",
      "metadata": {
        "id": "vDgJ5k8QHO9W"
      },
      "source": [
        "2. offer_initiation data"
      ],
      "id": "vDgJ5k8QHO9W"
    },
    {
      "cell_type": "markdown",
      "metadata": {
        "id": "c9fNbDfWHYCa"
      },
      "source": [
        "Looking at top five rows"
      ],
      "id": "c9fNbDfWHYCa"
    },
    {
      "cell_type": "code",
      "execution_count": null,
      "metadata": {
        "colab": {
          "base_uri": "https://localhost:8080/",
          "height": 354
        },
        "id": "37bc3497",
        "outputId": "821ff986-925d-4fef-b6ab-67486a0d3bec"
      },
      "outputs": [
        {
          "output_type": "execute_result",
          "data": {
            "text/plain": [
              "   Unnamed: 0                               user_id  offer_id   status  \\\n",
              "0           0  44f9c9f1-1ce1-4b04-8042-ddb1c548c589       792  ONGOING   \n",
              "1           1  e5c792a3-9cd9-4d10-a7b5-e5ee0f0f5fad      3462  ONGOING   \n",
              "2           2  033c38d4-fd46-45a2-b09a-18d637c54129      3462  ONGOING   \n",
              "3           3  8a488246-83d3-4028-b216-85ee8c3e504d      2328  ONGOING   \n",
              "4           4  aff26172-41d6-4e69-9b02-48011fe35804      3467  ONGOING   \n",
              "\n",
              "                         started_at completed_at  \\\n",
              "0  2022-11-26 07:25:38.995614+00:00          NaN   \n",
              "1  2022-11-26 01:19:42.059483+00:00          NaN   \n",
              "2  2022-11-26 14:12:39.365453+00:00          NaN   \n",
              "3  2022-11-26 02:51:44.438026+00:00          NaN   \n",
              "4  2022-11-26 11:44:25.915581+00:00          NaN   \n",
              "\n",
              "                         expires_at  \n",
              "0         2022-11-27 18:29:59+00:00  \n",
              "1  2022-11-28 01:19:42.066140+00:00  \n",
              "2  2022-11-28 14:12:39.369689+00:00  \n",
              "3  2022-11-28 02:51:44.441869+00:00  \n",
              "4  2022-11-28 11:44:25.921249+00:00  "
            ],
            "text/html": [
              "\n",
              "  <div id=\"df-35142ae4-58d7-4397-82bd-138d8da0e4f6\">\n",
              "    <div class=\"colab-df-container\">\n",
              "      <div>\n",
              "<style scoped>\n",
              "    .dataframe tbody tr th:only-of-type {\n",
              "        vertical-align: middle;\n",
              "    }\n",
              "\n",
              "    .dataframe tbody tr th {\n",
              "        vertical-align: top;\n",
              "    }\n",
              "\n",
              "    .dataframe thead th {\n",
              "        text-align: right;\n",
              "    }\n",
              "</style>\n",
              "<table border=\"1\" class=\"dataframe\">\n",
              "  <thead>\n",
              "    <tr style=\"text-align: right;\">\n",
              "      <th></th>\n",
              "      <th>Unnamed: 0</th>\n",
              "      <th>user_id</th>\n",
              "      <th>offer_id</th>\n",
              "      <th>status</th>\n",
              "      <th>started_at</th>\n",
              "      <th>completed_at</th>\n",
              "      <th>expires_at</th>\n",
              "    </tr>\n",
              "  </thead>\n",
              "  <tbody>\n",
              "    <tr>\n",
              "      <th>0</th>\n",
              "      <td>0</td>\n",
              "      <td>44f9c9f1-1ce1-4b04-8042-ddb1c548c589</td>\n",
              "      <td>792</td>\n",
              "      <td>ONGOING</td>\n",
              "      <td>2022-11-26 07:25:38.995614+00:00</td>\n",
              "      <td>NaN</td>\n",
              "      <td>2022-11-27 18:29:59+00:00</td>\n",
              "    </tr>\n",
              "    <tr>\n",
              "      <th>1</th>\n",
              "      <td>1</td>\n",
              "      <td>e5c792a3-9cd9-4d10-a7b5-e5ee0f0f5fad</td>\n",
              "      <td>3462</td>\n",
              "      <td>ONGOING</td>\n",
              "      <td>2022-11-26 01:19:42.059483+00:00</td>\n",
              "      <td>NaN</td>\n",
              "      <td>2022-11-28 01:19:42.066140+00:00</td>\n",
              "    </tr>\n",
              "    <tr>\n",
              "      <th>2</th>\n",
              "      <td>2</td>\n",
              "      <td>033c38d4-fd46-45a2-b09a-18d637c54129</td>\n",
              "      <td>3462</td>\n",
              "      <td>ONGOING</td>\n",
              "      <td>2022-11-26 14:12:39.365453+00:00</td>\n",
              "      <td>NaN</td>\n",
              "      <td>2022-11-28 14:12:39.369689+00:00</td>\n",
              "    </tr>\n",
              "    <tr>\n",
              "      <th>3</th>\n",
              "      <td>3</td>\n",
              "      <td>8a488246-83d3-4028-b216-85ee8c3e504d</td>\n",
              "      <td>2328</td>\n",
              "      <td>ONGOING</td>\n",
              "      <td>2022-11-26 02:51:44.438026+00:00</td>\n",
              "      <td>NaN</td>\n",
              "      <td>2022-11-28 02:51:44.441869+00:00</td>\n",
              "    </tr>\n",
              "    <tr>\n",
              "      <th>4</th>\n",
              "      <td>4</td>\n",
              "      <td>aff26172-41d6-4e69-9b02-48011fe35804</td>\n",
              "      <td>3467</td>\n",
              "      <td>ONGOING</td>\n",
              "      <td>2022-11-26 11:44:25.915581+00:00</td>\n",
              "      <td>NaN</td>\n",
              "      <td>2022-11-28 11:44:25.921249+00:00</td>\n",
              "    </tr>\n",
              "  </tbody>\n",
              "</table>\n",
              "</div>\n",
              "      <button class=\"colab-df-convert\" onclick=\"convertToInteractive('df-35142ae4-58d7-4397-82bd-138d8da0e4f6')\"\n",
              "              title=\"Convert this dataframe to an interactive table.\"\n",
              "              style=\"display:none;\">\n",
              "        \n",
              "  <svg xmlns=\"http://www.w3.org/2000/svg\" height=\"24px\"viewBox=\"0 0 24 24\"\n",
              "       width=\"24px\">\n",
              "    <path d=\"M0 0h24v24H0V0z\" fill=\"none\"/>\n",
              "    <path d=\"M18.56 5.44l.94 2.06.94-2.06 2.06-.94-2.06-.94-.94-2.06-.94 2.06-2.06.94zm-11 1L8.5 8.5l.94-2.06 2.06-.94-2.06-.94L8.5 2.5l-.94 2.06-2.06.94zm10 10l.94 2.06.94-2.06 2.06-.94-2.06-.94-.94-2.06-.94 2.06-2.06.94z\"/><path d=\"M17.41 7.96l-1.37-1.37c-.4-.4-.92-.59-1.43-.59-.52 0-1.04.2-1.43.59L10.3 9.45l-7.72 7.72c-.78.78-.78 2.05 0 2.83L4 21.41c.39.39.9.59 1.41.59.51 0 1.02-.2 1.41-.59l7.78-7.78 2.81-2.81c.8-.78.8-2.07 0-2.86zM5.41 20L4 18.59l7.72-7.72 1.47 1.35L5.41 20z\"/>\n",
              "  </svg>\n",
              "      </button>\n",
              "      \n",
              "  <style>\n",
              "    .colab-df-container {\n",
              "      display:flex;\n",
              "      flex-wrap:wrap;\n",
              "      gap: 12px;\n",
              "    }\n",
              "\n",
              "    .colab-df-convert {\n",
              "      background-color: #E8F0FE;\n",
              "      border: none;\n",
              "      border-radius: 50%;\n",
              "      cursor: pointer;\n",
              "      display: none;\n",
              "      fill: #1967D2;\n",
              "      height: 32px;\n",
              "      padding: 0 0 0 0;\n",
              "      width: 32px;\n",
              "    }\n",
              "\n",
              "    .colab-df-convert:hover {\n",
              "      background-color: #E2EBFA;\n",
              "      box-shadow: 0px 1px 2px rgba(60, 64, 67, 0.3), 0px 1px 3px 1px rgba(60, 64, 67, 0.15);\n",
              "      fill: #174EA6;\n",
              "    }\n",
              "\n",
              "    [theme=dark] .colab-df-convert {\n",
              "      background-color: #3B4455;\n",
              "      fill: #D2E3FC;\n",
              "    }\n",
              "\n",
              "    [theme=dark] .colab-df-convert:hover {\n",
              "      background-color: #434B5C;\n",
              "      box-shadow: 0px 1px 3px 1px rgba(0, 0, 0, 0.15);\n",
              "      filter: drop-shadow(0px 1px 2px rgba(0, 0, 0, 0.3));\n",
              "      fill: #FFFFFF;\n",
              "    }\n",
              "  </style>\n",
              "\n",
              "      <script>\n",
              "        const buttonEl =\n",
              "          document.querySelector('#df-35142ae4-58d7-4397-82bd-138d8da0e4f6 button.colab-df-convert');\n",
              "        buttonEl.style.display =\n",
              "          google.colab.kernel.accessAllowed ? 'block' : 'none';\n",
              "\n",
              "        async function convertToInteractive(key) {\n",
              "          const element = document.querySelector('#df-35142ae4-58d7-4397-82bd-138d8da0e4f6');\n",
              "          const dataTable =\n",
              "            await google.colab.kernel.invokeFunction('convertToInteractive',\n",
              "                                                     [key], {});\n",
              "          if (!dataTable) return;\n",
              "\n",
              "          const docLinkHtml = 'Like what you see? Visit the ' +\n",
              "            '<a target=\"_blank\" href=https://colab.research.google.com/notebooks/data_table.ipynb>data table notebook</a>'\n",
              "            + ' to learn more about interactive tables.';\n",
              "          element.innerHTML = '';\n",
              "          dataTable['output_type'] = 'display_data';\n",
              "          await google.colab.output.renderOutput(dataTable, element);\n",
              "          const docLink = document.createElement('div');\n",
              "          docLink.innerHTML = docLinkHtml;\n",
              "          element.appendChild(docLink);\n",
              "        }\n",
              "      </script>\n",
              "    </div>\n",
              "  </div>\n",
              "  "
            ]
          },
          "metadata": {},
          "execution_count": 149
        }
      ],
      "source": [
        "offer_initiation.head()"
      ],
      "id": "37bc3497"
    },
    {
      "cell_type": "code",
      "execution_count": null,
      "metadata": {
        "colab": {
          "base_uri": "https://localhost:8080/"
        },
        "id": "7abfac3b",
        "outputId": "ef6d0b9a-a2f4-4a33-d26d-7f1eae705172"
      },
      "outputs": [
        {
          "output_type": "execute_result",
          "data": {
            "text/plain": [
              "(499, 7)"
            ]
          },
          "metadata": {},
          "execution_count": 150
        }
      ],
      "source": [
        "offer_initiation.shape"
      ],
      "id": "7abfac3b"
    },
    {
      "cell_type": "code",
      "execution_count": null,
      "metadata": {
        "colab": {
          "base_uri": "https://localhost:8080/"
        },
        "id": "f064f4d4",
        "outputId": "2afb3326-15dd-4a9a-a76e-dec2d33d64e9"
      },
      "outputs": [
        {
          "output_type": "execute_result",
          "data": {
            "text/plain": [
              "Unnamed: 0        0\n",
              "user_id           0\n",
              "offer_id          0\n",
              "status            0\n",
              "started_at        0\n",
              "completed_at    436\n",
              "expires_at       63\n",
              "dtype: int64"
            ]
          },
          "metadata": {},
          "execution_count": 151
        }
      ],
      "source": [
        "offer_initiation.isnull().sum()"
      ],
      "id": "f064f4d4"
    },
    {
      "cell_type": "markdown",
      "metadata": {
        "id": "tKpaJ3GgH6KB"
      },
      "source": [
        "There are 436 null values in the completed_at column of the dataset. And 63 values at expires_at."
      ],
      "id": "tKpaJ3GgH6KB"
    },
    {
      "cell_type": "code",
      "execution_count": null,
      "metadata": {
        "colab": {
          "base_uri": "https://localhost:8080/"
        },
        "id": "GMWRzkU2IHx8",
        "outputId": "f48db1cf-1d1b-444e-d628-142c5d772169"
      },
      "outputs": [
        {
          "output_type": "execute_result",
          "data": {
            "text/plain": [
              "ONGOING      436\n",
              "COMPLETED     63\n",
              "Name: status, dtype: int64"
            ]
          },
          "metadata": {},
          "execution_count": 152
        }
      ],
      "source": [
        "offer_initiation['status'].value_counts()"
      ],
      "id": "GMWRzkU2IHx8"
    },
    {
      "cell_type": "markdown",
      "metadata": {
        "id": "-L2g24aEIZMI"
      },
      "source": [
        "There are 436 values with ongoing status. Therefore the null values are for those users whose offer is still ongoing. "
      ],
      "id": "-L2g24aEIZMI"
    },
    {
      "cell_type": "markdown",
      "metadata": {
        "id": "du1onaniI0lk"
      },
      "source": [
        "We will replace the null values in the completed at column by \"not completed\""
      ],
      "id": "du1onaniI0lk"
    },
    {
      "cell_type": "markdown",
      "metadata": {
        "id": "spfJaCcxJIyU"
      },
      "source": [
        "We will drop the \"Unnamed:0\" column"
      ],
      "id": "spfJaCcxJIyU"
    },
    {
      "cell_type": "code",
      "execution_count": null,
      "metadata": {
        "id": "CqL8LbDPMoi5"
      },
      "outputs": [],
      "source": [
        "offer_initiation['started_at'] = pd.to_datetime(offer_initiation['started_at'])"
      ],
      "id": "CqL8LbDPMoi5"
    },
    {
      "cell_type": "code",
      "execution_count": null,
      "metadata": {
        "id": "0kfTN-WTJH8j"
      },
      "outputs": [],
      "source": [
        "offer_initiation = offer_initiation.drop('Unnamed: 0',axis=1)"
      ],
      "id": "0kfTN-WTJH8j"
    },
    {
      "cell_type": "code",
      "execution_count": null,
      "metadata": {
        "colab": {
          "base_uri": "https://localhost:8080/"
        },
        "id": "UAWAeWdYJZxp",
        "outputId": "1ecdd8c1-ca07-4007-a981-2083a4c1954b"
      },
      "outputs": [
        {
          "output_type": "execute_result",
          "data": {
            "text/plain": [
              "Index(['user_id', 'offer_id', 'status', 'started_at', 'completed_at',\n",
              "       'expires_at'],\n",
              "      dtype='object')"
            ]
          },
          "metadata": {},
          "execution_count": 155
        }
      ],
      "source": [
        "offer_initiation.columns"
      ],
      "id": "UAWAeWdYJZxp"
    },
    {
      "cell_type": "markdown",
      "metadata": {
        "id": "nY023axgJen9"
      },
      "source": [
        "# 3. offer_completion data"
      ],
      "id": "nY023axgJen9"
    },
    {
      "cell_type": "code",
      "execution_count": null,
      "metadata": {
        "colab": {
          "base_uri": "https://localhost:8080/",
          "height": 206
        },
        "id": "1fb74f6f",
        "outputId": "4e181530-42e7-445b-817c-4134960fdc01"
      },
      "outputs": [
        {
          "output_type": "execute_result",
          "data": {
            "text/plain": [
              "   Unnamed: 0  reward_id                               user_id        date  \\\n",
              "0           0       3712  4cb29e43-9f23-42fe-bab8-2422f42e7a91  2022-11-29   \n",
              "1           1        935  4cb29e43-9f23-42fe-bab8-2422f42e7a91  2022-11-29   \n",
              "2           2       3416  44f9c9f1-1ce1-4b04-8042-ddb1c548c589  2022-11-28   \n",
              "3           3       3720  55e70808-0ed9-44fd-9d87-819ba9dc4d3e  2022-11-27   \n",
              "4           4       3735  4cb29e43-9f23-42fe-bab8-2422f42e7a91  2022-11-29   \n",
              "\n",
              "  app_id  \n",
              "0  sikka  \n",
              "1  sikka  \n",
              "2  sikka  \n",
              "3  sikka  \n",
              "4  sikka  "
            ],
            "text/html": [
              "\n",
              "  <div id=\"df-35a1d5e2-0c47-4ccd-8fc3-42530afb68e2\">\n",
              "    <div class=\"colab-df-container\">\n",
              "      <div>\n",
              "<style scoped>\n",
              "    .dataframe tbody tr th:only-of-type {\n",
              "        vertical-align: middle;\n",
              "    }\n",
              "\n",
              "    .dataframe tbody tr th {\n",
              "        vertical-align: top;\n",
              "    }\n",
              "\n",
              "    .dataframe thead th {\n",
              "        text-align: right;\n",
              "    }\n",
              "</style>\n",
              "<table border=\"1\" class=\"dataframe\">\n",
              "  <thead>\n",
              "    <tr style=\"text-align: right;\">\n",
              "      <th></th>\n",
              "      <th>Unnamed: 0</th>\n",
              "      <th>reward_id</th>\n",
              "      <th>user_id</th>\n",
              "      <th>date</th>\n",
              "      <th>app_id</th>\n",
              "    </tr>\n",
              "  </thead>\n",
              "  <tbody>\n",
              "    <tr>\n",
              "      <th>0</th>\n",
              "      <td>0</td>\n",
              "      <td>3712</td>\n",
              "      <td>4cb29e43-9f23-42fe-bab8-2422f42e7a91</td>\n",
              "      <td>2022-11-29</td>\n",
              "      <td>sikka</td>\n",
              "    </tr>\n",
              "    <tr>\n",
              "      <th>1</th>\n",
              "      <td>1</td>\n",
              "      <td>935</td>\n",
              "      <td>4cb29e43-9f23-42fe-bab8-2422f42e7a91</td>\n",
              "      <td>2022-11-29</td>\n",
              "      <td>sikka</td>\n",
              "    </tr>\n",
              "    <tr>\n",
              "      <th>2</th>\n",
              "      <td>2</td>\n",
              "      <td>3416</td>\n",
              "      <td>44f9c9f1-1ce1-4b04-8042-ddb1c548c589</td>\n",
              "      <td>2022-11-28</td>\n",
              "      <td>sikka</td>\n",
              "    </tr>\n",
              "    <tr>\n",
              "      <th>3</th>\n",
              "      <td>3</td>\n",
              "      <td>3720</td>\n",
              "      <td>55e70808-0ed9-44fd-9d87-819ba9dc4d3e</td>\n",
              "      <td>2022-11-27</td>\n",
              "      <td>sikka</td>\n",
              "    </tr>\n",
              "    <tr>\n",
              "      <th>4</th>\n",
              "      <td>4</td>\n",
              "      <td>3735</td>\n",
              "      <td>4cb29e43-9f23-42fe-bab8-2422f42e7a91</td>\n",
              "      <td>2022-11-29</td>\n",
              "      <td>sikka</td>\n",
              "    </tr>\n",
              "  </tbody>\n",
              "</table>\n",
              "</div>\n",
              "      <button class=\"colab-df-convert\" onclick=\"convertToInteractive('df-35a1d5e2-0c47-4ccd-8fc3-42530afb68e2')\"\n",
              "              title=\"Convert this dataframe to an interactive table.\"\n",
              "              style=\"display:none;\">\n",
              "        \n",
              "  <svg xmlns=\"http://www.w3.org/2000/svg\" height=\"24px\"viewBox=\"0 0 24 24\"\n",
              "       width=\"24px\">\n",
              "    <path d=\"M0 0h24v24H0V0z\" fill=\"none\"/>\n",
              "    <path d=\"M18.56 5.44l.94 2.06.94-2.06 2.06-.94-2.06-.94-.94-2.06-.94 2.06-2.06.94zm-11 1L8.5 8.5l.94-2.06 2.06-.94-2.06-.94L8.5 2.5l-.94 2.06-2.06.94zm10 10l.94 2.06.94-2.06 2.06-.94-2.06-.94-.94-2.06-.94 2.06-2.06.94z\"/><path d=\"M17.41 7.96l-1.37-1.37c-.4-.4-.92-.59-1.43-.59-.52 0-1.04.2-1.43.59L10.3 9.45l-7.72 7.72c-.78.78-.78 2.05 0 2.83L4 21.41c.39.39.9.59 1.41.59.51 0 1.02-.2 1.41-.59l7.78-7.78 2.81-2.81c.8-.78.8-2.07 0-2.86zM5.41 20L4 18.59l7.72-7.72 1.47 1.35L5.41 20z\"/>\n",
              "  </svg>\n",
              "      </button>\n",
              "      \n",
              "  <style>\n",
              "    .colab-df-container {\n",
              "      display:flex;\n",
              "      flex-wrap:wrap;\n",
              "      gap: 12px;\n",
              "    }\n",
              "\n",
              "    .colab-df-convert {\n",
              "      background-color: #E8F0FE;\n",
              "      border: none;\n",
              "      border-radius: 50%;\n",
              "      cursor: pointer;\n",
              "      display: none;\n",
              "      fill: #1967D2;\n",
              "      height: 32px;\n",
              "      padding: 0 0 0 0;\n",
              "      width: 32px;\n",
              "    }\n",
              "\n",
              "    .colab-df-convert:hover {\n",
              "      background-color: #E2EBFA;\n",
              "      box-shadow: 0px 1px 2px rgba(60, 64, 67, 0.3), 0px 1px 3px 1px rgba(60, 64, 67, 0.15);\n",
              "      fill: #174EA6;\n",
              "    }\n",
              "\n",
              "    [theme=dark] .colab-df-convert {\n",
              "      background-color: #3B4455;\n",
              "      fill: #D2E3FC;\n",
              "    }\n",
              "\n",
              "    [theme=dark] .colab-df-convert:hover {\n",
              "      background-color: #434B5C;\n",
              "      box-shadow: 0px 1px 3px 1px rgba(0, 0, 0, 0.15);\n",
              "      filter: drop-shadow(0px 1px 2px rgba(0, 0, 0, 0.3));\n",
              "      fill: #FFFFFF;\n",
              "    }\n",
              "  </style>\n",
              "\n",
              "      <script>\n",
              "        const buttonEl =\n",
              "          document.querySelector('#df-35a1d5e2-0c47-4ccd-8fc3-42530afb68e2 button.colab-df-convert');\n",
              "        buttonEl.style.display =\n",
              "          google.colab.kernel.accessAllowed ? 'block' : 'none';\n",
              "\n",
              "        async function convertToInteractive(key) {\n",
              "          const element = document.querySelector('#df-35a1d5e2-0c47-4ccd-8fc3-42530afb68e2');\n",
              "          const dataTable =\n",
              "            await google.colab.kernel.invokeFunction('convertToInteractive',\n",
              "                                                     [key], {});\n",
              "          if (!dataTable) return;\n",
              "\n",
              "          const docLinkHtml = 'Like what you see? Visit the ' +\n",
              "            '<a target=\"_blank\" href=https://colab.research.google.com/notebooks/data_table.ipynb>data table notebook</a>'\n",
              "            + ' to learn more about interactive tables.';\n",
              "          element.innerHTML = '';\n",
              "          dataTable['output_type'] = 'display_data';\n",
              "          await google.colab.output.renderOutput(dataTable, element);\n",
              "          const docLink = document.createElement('div');\n",
              "          docLink.innerHTML = docLinkHtml;\n",
              "          element.appendChild(docLink);\n",
              "        }\n",
              "      </script>\n",
              "    </div>\n",
              "  </div>\n",
              "  "
            ]
          },
          "metadata": {},
          "execution_count": 156
        }
      ],
      "source": [
        "offer_completion.head()"
      ],
      "id": "1fb74f6f"
    },
    {
      "cell_type": "code",
      "execution_count": null,
      "metadata": {
        "colab": {
          "base_uri": "https://localhost:8080/"
        },
        "id": "SLy69jADJuyo",
        "outputId": "e8d6bec0-84f8-4760-94fe-3ac7bdc5481c"
      },
      "outputs": [
        {
          "output_type": "execute_result",
          "data": {
            "text/plain": [
              "(70, 5)"
            ]
          },
          "metadata": {},
          "execution_count": 157
        }
      ],
      "source": [
        "offer_completion.shape"
      ],
      "id": "SLy69jADJuyo"
    },
    {
      "cell_type": "code",
      "execution_count": null,
      "metadata": {
        "colab": {
          "base_uri": "https://localhost:8080/"
        },
        "id": "9461c5a7",
        "outputId": "2d1f419c-2990-4136-f5e3-cc6878441b60"
      },
      "outputs": [
        {
          "output_type": "execute_result",
          "data": {
            "text/plain": [
              "Unnamed: 0    0\n",
              "reward_id     0\n",
              "user_id       0\n",
              "date          0\n",
              "app_id        0\n",
              "dtype: int64"
            ]
          },
          "metadata": {},
          "execution_count": 158
        }
      ],
      "source": [
        "offer_completion.isnull().sum()"
      ],
      "id": "9461c5a7"
    },
    {
      "cell_type": "code",
      "execution_count": null,
      "metadata": {
        "colab": {
          "base_uri": "https://localhost:8080/"
        },
        "id": "fwFNNbPkK80c",
        "outputId": "5926145d-11ef-4346-da14-01952883dd83"
      },
      "outputs": [
        {
          "output_type": "execute_result",
          "data": {
            "text/plain": [
              "Unnamed: 0     int64\n",
              "reward_id      int64\n",
              "user_id       object\n",
              "date          object\n",
              "app_id        object\n",
              "dtype: object"
            ]
          },
          "metadata": {},
          "execution_count": 159
        }
      ],
      "source": [
        "offer_completion.dtypes"
      ],
      "id": "fwFNNbPkK80c"
    },
    {
      "cell_type": "code",
      "execution_count": null,
      "metadata": {
        "id": "26UsDLr4K3XO"
      },
      "outputs": [],
      "source": [
        "offer_completion['date'] = pd.to_datetime(offer_completion['date'])"
      ],
      "id": "26UsDLr4K3XO"
    },
    {
      "cell_type": "markdown",
      "metadata": {
        "id": "EIlNd7UjJ-RU"
      },
      "source": [
        "Dropping the \"Unnamed:0\" column from the dataset "
      ],
      "id": "EIlNd7UjJ-RU"
    },
    {
      "cell_type": "code",
      "execution_count": null,
      "metadata": {
        "id": "6b520600"
      },
      "outputs": [],
      "source": [
        "offer_completion = offer_completion.drop('Unnamed: 0',axis = 1)"
      ],
      "id": "6b520600"
    },
    {
      "cell_type": "markdown",
      "metadata": {
        "id": "maSSs4BHKeIo"
      },
      "source": [
        "3. Rewards Details data"
      ],
      "id": "maSSs4BHKeIo"
    },
    {
      "cell_type": "code",
      "execution_count": null,
      "metadata": {
        "colab": {
          "base_uri": "https://localhost:8080/",
          "height": 206
        },
        "id": "UQ-ZFrNFKaYy",
        "outputId": "03b16a5e-e304-4146-ad35-90f3eb794745"
      },
      "outputs": [
        {
          "output_type": "execute_result",
          "data": {
            "text/plain": [
              "   Unnamed: 0  offer_id  reward_id       label_in_english  \\\n",
              "0           0       369        451           Download APK   \n",
              "1           1       400        488               Download   \n",
              "2           2       402        491               Download   \n",
              "3           3       447        541        Register on App   \n",
              "4           4       478        586  Complete Registration   \n",
              "\n",
              "   total_payout_in_paise  total_revenue_in_paise  \n",
              "0                    500                       0  \n",
              "1                     30                       0  \n",
              "2                    500                       0  \n",
              "3                    500                       0  \n",
              "4                    500                       0  "
            ],
            "text/html": [
              "\n",
              "  <div id=\"df-ac5fdae9-cf61-4214-b68b-15390015b34e\">\n",
              "    <div class=\"colab-df-container\">\n",
              "      <div>\n",
              "<style scoped>\n",
              "    .dataframe tbody tr th:only-of-type {\n",
              "        vertical-align: middle;\n",
              "    }\n",
              "\n",
              "    .dataframe tbody tr th {\n",
              "        vertical-align: top;\n",
              "    }\n",
              "\n",
              "    .dataframe thead th {\n",
              "        text-align: right;\n",
              "    }\n",
              "</style>\n",
              "<table border=\"1\" class=\"dataframe\">\n",
              "  <thead>\n",
              "    <tr style=\"text-align: right;\">\n",
              "      <th></th>\n",
              "      <th>Unnamed: 0</th>\n",
              "      <th>offer_id</th>\n",
              "      <th>reward_id</th>\n",
              "      <th>label_in_english</th>\n",
              "      <th>total_payout_in_paise</th>\n",
              "      <th>total_revenue_in_paise</th>\n",
              "    </tr>\n",
              "  </thead>\n",
              "  <tbody>\n",
              "    <tr>\n",
              "      <th>0</th>\n",
              "      <td>0</td>\n",
              "      <td>369</td>\n",
              "      <td>451</td>\n",
              "      <td>Download APK</td>\n",
              "      <td>500</td>\n",
              "      <td>0</td>\n",
              "    </tr>\n",
              "    <tr>\n",
              "      <th>1</th>\n",
              "      <td>1</td>\n",
              "      <td>400</td>\n",
              "      <td>488</td>\n",
              "      <td>Download</td>\n",
              "      <td>30</td>\n",
              "      <td>0</td>\n",
              "    </tr>\n",
              "    <tr>\n",
              "      <th>2</th>\n",
              "      <td>2</td>\n",
              "      <td>402</td>\n",
              "      <td>491</td>\n",
              "      <td>Download</td>\n",
              "      <td>500</td>\n",
              "      <td>0</td>\n",
              "    </tr>\n",
              "    <tr>\n",
              "      <th>3</th>\n",
              "      <td>3</td>\n",
              "      <td>447</td>\n",
              "      <td>541</td>\n",
              "      <td>Register on App</td>\n",
              "      <td>500</td>\n",
              "      <td>0</td>\n",
              "    </tr>\n",
              "    <tr>\n",
              "      <th>4</th>\n",
              "      <td>4</td>\n",
              "      <td>478</td>\n",
              "      <td>586</td>\n",
              "      <td>Complete Registration</td>\n",
              "      <td>500</td>\n",
              "      <td>0</td>\n",
              "    </tr>\n",
              "  </tbody>\n",
              "</table>\n",
              "</div>\n",
              "      <button class=\"colab-df-convert\" onclick=\"convertToInteractive('df-ac5fdae9-cf61-4214-b68b-15390015b34e')\"\n",
              "              title=\"Convert this dataframe to an interactive table.\"\n",
              "              style=\"display:none;\">\n",
              "        \n",
              "  <svg xmlns=\"http://www.w3.org/2000/svg\" height=\"24px\"viewBox=\"0 0 24 24\"\n",
              "       width=\"24px\">\n",
              "    <path d=\"M0 0h24v24H0V0z\" fill=\"none\"/>\n",
              "    <path d=\"M18.56 5.44l.94 2.06.94-2.06 2.06-.94-2.06-.94-.94-2.06-.94 2.06-2.06.94zm-11 1L8.5 8.5l.94-2.06 2.06-.94-2.06-.94L8.5 2.5l-.94 2.06-2.06.94zm10 10l.94 2.06.94-2.06 2.06-.94-2.06-.94-.94-2.06-.94 2.06-2.06.94z\"/><path d=\"M17.41 7.96l-1.37-1.37c-.4-.4-.92-.59-1.43-.59-.52 0-1.04.2-1.43.59L10.3 9.45l-7.72 7.72c-.78.78-.78 2.05 0 2.83L4 21.41c.39.39.9.59 1.41.59.51 0 1.02-.2 1.41-.59l7.78-7.78 2.81-2.81c.8-.78.8-2.07 0-2.86zM5.41 20L4 18.59l7.72-7.72 1.47 1.35L5.41 20z\"/>\n",
              "  </svg>\n",
              "      </button>\n",
              "      \n",
              "  <style>\n",
              "    .colab-df-container {\n",
              "      display:flex;\n",
              "      flex-wrap:wrap;\n",
              "      gap: 12px;\n",
              "    }\n",
              "\n",
              "    .colab-df-convert {\n",
              "      background-color: #E8F0FE;\n",
              "      border: none;\n",
              "      border-radius: 50%;\n",
              "      cursor: pointer;\n",
              "      display: none;\n",
              "      fill: #1967D2;\n",
              "      height: 32px;\n",
              "      padding: 0 0 0 0;\n",
              "      width: 32px;\n",
              "    }\n",
              "\n",
              "    .colab-df-convert:hover {\n",
              "      background-color: #E2EBFA;\n",
              "      box-shadow: 0px 1px 2px rgba(60, 64, 67, 0.3), 0px 1px 3px 1px rgba(60, 64, 67, 0.15);\n",
              "      fill: #174EA6;\n",
              "    }\n",
              "\n",
              "    [theme=dark] .colab-df-convert {\n",
              "      background-color: #3B4455;\n",
              "      fill: #D2E3FC;\n",
              "    }\n",
              "\n",
              "    [theme=dark] .colab-df-convert:hover {\n",
              "      background-color: #434B5C;\n",
              "      box-shadow: 0px 1px 3px 1px rgba(0, 0, 0, 0.15);\n",
              "      filter: drop-shadow(0px 1px 2px rgba(0, 0, 0, 0.3));\n",
              "      fill: #FFFFFF;\n",
              "    }\n",
              "  </style>\n",
              "\n",
              "      <script>\n",
              "        const buttonEl =\n",
              "          document.querySelector('#df-ac5fdae9-cf61-4214-b68b-15390015b34e button.colab-df-convert');\n",
              "        buttonEl.style.display =\n",
              "          google.colab.kernel.accessAllowed ? 'block' : 'none';\n",
              "\n",
              "        async function convertToInteractive(key) {\n",
              "          const element = document.querySelector('#df-ac5fdae9-cf61-4214-b68b-15390015b34e');\n",
              "          const dataTable =\n",
              "            await google.colab.kernel.invokeFunction('convertToInteractive',\n",
              "                                                     [key], {});\n",
              "          if (!dataTable) return;\n",
              "\n",
              "          const docLinkHtml = 'Like what you see? Visit the ' +\n",
              "            '<a target=\"_blank\" href=https://colab.research.google.com/notebooks/data_table.ipynb>data table notebook</a>'\n",
              "            + ' to learn more about interactive tables.';\n",
              "          element.innerHTML = '';\n",
              "          dataTable['output_type'] = 'display_data';\n",
              "          await google.colab.output.renderOutput(dataTable, element);\n",
              "          const docLink = document.createElement('div');\n",
              "          docLink.innerHTML = docLinkHtml;\n",
              "          element.appendChild(docLink);\n",
              "        }\n",
              "      </script>\n",
              "    </div>\n",
              "  </div>\n",
              "  "
            ]
          },
          "metadata": {},
          "execution_count": 162
        }
      ],
      "source": [
        "rewards.head()"
      ],
      "id": "UQ-ZFrNFKaYy"
    },
    {
      "cell_type": "code",
      "execution_count": null,
      "metadata": {
        "colab": {
          "base_uri": "https://localhost:8080/"
        },
        "id": "I8Z8luf_KrPw",
        "outputId": "e2870fc7-f276-4f8f-e5a0-8bd2b507a82f"
      },
      "outputs": [
        {
          "output_type": "execute_result",
          "data": {
            "text/plain": [
              "(2716, 6)"
            ]
          },
          "metadata": {},
          "execution_count": 163
        }
      ],
      "source": [
        "rewards.shape"
      ],
      "id": "I8Z8luf_KrPw"
    },
    {
      "cell_type": "code",
      "execution_count": null,
      "metadata": {
        "colab": {
          "base_uri": "https://localhost:8080/"
        },
        "id": "DC4B_5sJK0HM",
        "outputId": "eb6d6f8d-248e-4528-8917-b79f6fdb3c82"
      },
      "outputs": [
        {
          "output_type": "execute_result",
          "data": {
            "text/plain": [
              "Unnamed: 0                 0\n",
              "offer_id                   0\n",
              "reward_id                  0\n",
              "label_in_english          15\n",
              "total_payout_in_paise      0\n",
              "total_revenue_in_paise     0\n",
              "dtype: int64"
            ]
          },
          "metadata": {},
          "execution_count": 164
        }
      ],
      "source": [
        "rewards.isnull().sum()"
      ],
      "id": "DC4B_5sJK0HM"
    },
    {
      "cell_type": "markdown",
      "metadata": {
        "id": "j7B6PdvXLb08"
      },
      "source": [
        "Let us carry out the required analyis to find which app performs better \"Sikka\" or \"Sikka Pro\""
      ],
      "id": "j7B6PdvXLb08"
    },
    {
      "cell_type": "markdown",
      "metadata": {
        "id": "unilCj_fLsDI"
      },
      "source": [
        "Firstly, let us analyse offer Initiation by users"
      ],
      "id": "unilCj_fLsDI"
    },
    {
      "cell_type": "markdown",
      "metadata": {
        "id": "EXb_Ai-5L3K1"
      },
      "source": [
        "To carry out the analysis we will first merge the datasets user_signup and offer_initiation."
      ],
      "id": "EXb_Ai-5L3K1"
    },
    {
      "cell_type": "code",
      "execution_count": null,
      "metadata": {
        "colab": {
          "base_uri": "https://localhost:8080/"
        },
        "id": "i6G77_LZMS_X",
        "outputId": "5fe29b15-ed6e-4b2b-9d74-f878eba81901"
      },
      "outputs": [
        {
          "output_type": "execute_result",
          "data": {
            "text/plain": [
              "(100, 4)"
            ]
          },
          "metadata": {},
          "execution_count": 165
        }
      ],
      "source": [
        "user_signup.shape"
      ],
      "id": "i6G77_LZMS_X"
    },
    {
      "cell_type": "code",
      "execution_count": null,
      "metadata": {
        "colab": {
          "base_uri": "https://localhost:8080/"
        },
        "id": "T7a4fHBnMbRO",
        "outputId": "ede2c5af-fa25-4085-bdee-d1ca70b8d4a5"
      },
      "outputs": [
        {
          "output_type": "execute_result",
          "data": {
            "text/plain": [
              "Index(['user_id', 'app_id', 'signed_up_on', 'last_login_date'], dtype='object')"
            ]
          },
          "metadata": {},
          "execution_count": 166
        }
      ],
      "source": [
        "user_signup.columns"
      ],
      "id": "T7a4fHBnMbRO"
    },
    {
      "cell_type": "code",
      "execution_count": null,
      "metadata": {
        "colab": {
          "base_uri": "https://localhost:8080/"
        },
        "id": "hVUPBoiXMVP5",
        "outputId": "3221a5af-1284-4995-adb0-47e38e0ad03c"
      },
      "outputs": [
        {
          "output_type": "execute_result",
          "data": {
            "text/plain": [
              "Index(['user_id', 'offer_id', 'status', 'started_at', 'completed_at',\n",
              "       'expires_at'],\n",
              "      dtype='object')"
            ]
          },
          "metadata": {},
          "execution_count": 167
        }
      ],
      "source": [
        "offer_initiation.columns"
      ],
      "id": "hVUPBoiXMVP5"
    },
    {
      "cell_type": "code",
      "execution_count": null,
      "metadata": {
        "id": "aQug2qqZLXRn"
      },
      "outputs": [],
      "source": [
        "#Merge datasets user_signup and offer_initiation.\n",
        "user_initiation_data = pd.merge(user_signup,offer_initiation,on='user_id')"
      ],
      "id": "aQug2qqZLXRn"
    },
    {
      "cell_type": "code",
      "execution_count": null,
      "metadata": {
        "colab": {
          "base_uri": "https://localhost:8080/",
          "height": 530
        },
        "id": "oCm00z9qMHkJ",
        "outputId": "9fba743e-4061-4ba9-b9fa-ccb0a12bdfe9"
      },
      "outputs": [
        {
          "output_type": "execute_result",
          "data": {
            "text/plain": [
              "                                user_id app_id signed_up_on last_login_date  \\\n",
              "0  c925ccad-98e7-4500-833e-a49aa066aeec  sikka   2022-11-26      2022-11-26   \n",
              "1  c925ccad-98e7-4500-833e-a49aa066aeec  sikka   2022-11-26      2022-11-26   \n",
              "2  c925ccad-98e7-4500-833e-a49aa066aeec  sikka   2022-11-26      2022-11-26   \n",
              "3  c925ccad-98e7-4500-833e-a49aa066aeec  sikka   2022-11-26      2022-11-26   \n",
              "4  c925ccad-98e7-4500-833e-a49aa066aeec  sikka   2022-11-26      2022-11-26   \n",
              "\n",
              "   offer_id   status                       started_at completed_at  \\\n",
              "0      3534  ONGOING 2022-11-26 00:05:44.859932+00:00          NaN   \n",
              "1      3505  ONGOING 2022-11-26 00:19:47.467175+00:00          NaN   \n",
              "2      3237  ONGOING 2022-11-26 00:20:42.687283+00:00          NaN   \n",
              "3      3451  ONGOING 2022-11-26 00:21:33.127670+00:00          NaN   \n",
              "4       792  ONGOING 2022-11-26 00:26:52.872562+00:00          NaN   \n",
              "\n",
              "                         expires_at  \n",
              "0  2022-11-28 00:05:44.865124+00:00  \n",
              "1  2022-11-28 00:19:47.470456+00:00  \n",
              "2  2022-11-28 00:20:42.692107+00:00  \n",
              "3  2022-11-28 00:21:33.133124+00:00  \n",
              "4         2022-11-27 18:29:59+00:00  "
            ],
            "text/html": [
              "\n",
              "  <div id=\"df-fc3438a9-6b33-4c1f-99ae-8873285bbe24\">\n",
              "    <div class=\"colab-df-container\">\n",
              "      <div>\n",
              "<style scoped>\n",
              "    .dataframe tbody tr th:only-of-type {\n",
              "        vertical-align: middle;\n",
              "    }\n",
              "\n",
              "    .dataframe tbody tr th {\n",
              "        vertical-align: top;\n",
              "    }\n",
              "\n",
              "    .dataframe thead th {\n",
              "        text-align: right;\n",
              "    }\n",
              "</style>\n",
              "<table border=\"1\" class=\"dataframe\">\n",
              "  <thead>\n",
              "    <tr style=\"text-align: right;\">\n",
              "      <th></th>\n",
              "      <th>user_id</th>\n",
              "      <th>app_id</th>\n",
              "      <th>signed_up_on</th>\n",
              "      <th>last_login_date</th>\n",
              "      <th>offer_id</th>\n",
              "      <th>status</th>\n",
              "      <th>started_at</th>\n",
              "      <th>completed_at</th>\n",
              "      <th>expires_at</th>\n",
              "    </tr>\n",
              "  </thead>\n",
              "  <tbody>\n",
              "    <tr>\n",
              "      <th>0</th>\n",
              "      <td>c925ccad-98e7-4500-833e-a49aa066aeec</td>\n",
              "      <td>sikka</td>\n",
              "      <td>2022-11-26</td>\n",
              "      <td>2022-11-26</td>\n",
              "      <td>3534</td>\n",
              "      <td>ONGOING</td>\n",
              "      <td>2022-11-26 00:05:44.859932+00:00</td>\n",
              "      <td>NaN</td>\n",
              "      <td>2022-11-28 00:05:44.865124+00:00</td>\n",
              "    </tr>\n",
              "    <tr>\n",
              "      <th>1</th>\n",
              "      <td>c925ccad-98e7-4500-833e-a49aa066aeec</td>\n",
              "      <td>sikka</td>\n",
              "      <td>2022-11-26</td>\n",
              "      <td>2022-11-26</td>\n",
              "      <td>3505</td>\n",
              "      <td>ONGOING</td>\n",
              "      <td>2022-11-26 00:19:47.467175+00:00</td>\n",
              "      <td>NaN</td>\n",
              "      <td>2022-11-28 00:19:47.470456+00:00</td>\n",
              "    </tr>\n",
              "    <tr>\n",
              "      <th>2</th>\n",
              "      <td>c925ccad-98e7-4500-833e-a49aa066aeec</td>\n",
              "      <td>sikka</td>\n",
              "      <td>2022-11-26</td>\n",
              "      <td>2022-11-26</td>\n",
              "      <td>3237</td>\n",
              "      <td>ONGOING</td>\n",
              "      <td>2022-11-26 00:20:42.687283+00:00</td>\n",
              "      <td>NaN</td>\n",
              "      <td>2022-11-28 00:20:42.692107+00:00</td>\n",
              "    </tr>\n",
              "    <tr>\n",
              "      <th>3</th>\n",
              "      <td>c925ccad-98e7-4500-833e-a49aa066aeec</td>\n",
              "      <td>sikka</td>\n",
              "      <td>2022-11-26</td>\n",
              "      <td>2022-11-26</td>\n",
              "      <td>3451</td>\n",
              "      <td>ONGOING</td>\n",
              "      <td>2022-11-26 00:21:33.127670+00:00</td>\n",
              "      <td>NaN</td>\n",
              "      <td>2022-11-28 00:21:33.133124+00:00</td>\n",
              "    </tr>\n",
              "    <tr>\n",
              "      <th>4</th>\n",
              "      <td>c925ccad-98e7-4500-833e-a49aa066aeec</td>\n",
              "      <td>sikka</td>\n",
              "      <td>2022-11-26</td>\n",
              "      <td>2022-11-26</td>\n",
              "      <td>792</td>\n",
              "      <td>ONGOING</td>\n",
              "      <td>2022-11-26 00:26:52.872562+00:00</td>\n",
              "      <td>NaN</td>\n",
              "      <td>2022-11-27 18:29:59+00:00</td>\n",
              "    </tr>\n",
              "  </tbody>\n",
              "</table>\n",
              "</div>\n",
              "      <button class=\"colab-df-convert\" onclick=\"convertToInteractive('df-fc3438a9-6b33-4c1f-99ae-8873285bbe24')\"\n",
              "              title=\"Convert this dataframe to an interactive table.\"\n",
              "              style=\"display:none;\">\n",
              "        \n",
              "  <svg xmlns=\"http://www.w3.org/2000/svg\" height=\"24px\"viewBox=\"0 0 24 24\"\n",
              "       width=\"24px\">\n",
              "    <path d=\"M0 0h24v24H0V0z\" fill=\"none\"/>\n",
              "    <path d=\"M18.56 5.44l.94 2.06.94-2.06 2.06-.94-2.06-.94-.94-2.06-.94 2.06-2.06.94zm-11 1L8.5 8.5l.94-2.06 2.06-.94-2.06-.94L8.5 2.5l-.94 2.06-2.06.94zm10 10l.94 2.06.94-2.06 2.06-.94-2.06-.94-.94-2.06-.94 2.06-2.06.94z\"/><path d=\"M17.41 7.96l-1.37-1.37c-.4-.4-.92-.59-1.43-.59-.52 0-1.04.2-1.43.59L10.3 9.45l-7.72 7.72c-.78.78-.78 2.05 0 2.83L4 21.41c.39.39.9.59 1.41.59.51 0 1.02-.2 1.41-.59l7.78-7.78 2.81-2.81c.8-.78.8-2.07 0-2.86zM5.41 20L4 18.59l7.72-7.72 1.47 1.35L5.41 20z\"/>\n",
              "  </svg>\n",
              "      </button>\n",
              "      \n",
              "  <style>\n",
              "    .colab-df-container {\n",
              "      display:flex;\n",
              "      flex-wrap:wrap;\n",
              "      gap: 12px;\n",
              "    }\n",
              "\n",
              "    .colab-df-convert {\n",
              "      background-color: #E8F0FE;\n",
              "      border: none;\n",
              "      border-radius: 50%;\n",
              "      cursor: pointer;\n",
              "      display: none;\n",
              "      fill: #1967D2;\n",
              "      height: 32px;\n",
              "      padding: 0 0 0 0;\n",
              "      width: 32px;\n",
              "    }\n",
              "\n",
              "    .colab-df-convert:hover {\n",
              "      background-color: #E2EBFA;\n",
              "      box-shadow: 0px 1px 2px rgba(60, 64, 67, 0.3), 0px 1px 3px 1px rgba(60, 64, 67, 0.15);\n",
              "      fill: #174EA6;\n",
              "    }\n",
              "\n",
              "    [theme=dark] .colab-df-convert {\n",
              "      background-color: #3B4455;\n",
              "      fill: #D2E3FC;\n",
              "    }\n",
              "\n",
              "    [theme=dark] .colab-df-convert:hover {\n",
              "      background-color: #434B5C;\n",
              "      box-shadow: 0px 1px 3px 1px rgba(0, 0, 0, 0.15);\n",
              "      filter: drop-shadow(0px 1px 2px rgba(0, 0, 0, 0.3));\n",
              "      fill: #FFFFFF;\n",
              "    }\n",
              "  </style>\n",
              "\n",
              "      <script>\n",
              "        const buttonEl =\n",
              "          document.querySelector('#df-fc3438a9-6b33-4c1f-99ae-8873285bbe24 button.colab-df-convert');\n",
              "        buttonEl.style.display =\n",
              "          google.colab.kernel.accessAllowed ? 'block' : 'none';\n",
              "\n",
              "        async function convertToInteractive(key) {\n",
              "          const element = document.querySelector('#df-fc3438a9-6b33-4c1f-99ae-8873285bbe24');\n",
              "          const dataTable =\n",
              "            await google.colab.kernel.invokeFunction('convertToInteractive',\n",
              "                                                     [key], {});\n",
              "          if (!dataTable) return;\n",
              "\n",
              "          const docLinkHtml = 'Like what you see? Visit the ' +\n",
              "            '<a target=\"_blank\" href=https://colab.research.google.com/notebooks/data_table.ipynb>data table notebook</a>'\n",
              "            + ' to learn more about interactive tables.';\n",
              "          element.innerHTML = '';\n",
              "          dataTable['output_type'] = 'display_data';\n",
              "          await google.colab.output.renderOutput(dataTable, element);\n",
              "          const docLink = document.createElement('div');\n",
              "          docLink.innerHTML = docLinkHtml;\n",
              "          element.appendChild(docLink);\n",
              "        }\n",
              "      </script>\n",
              "    </div>\n",
              "  </div>\n",
              "  "
            ]
          },
          "metadata": {},
          "execution_count": 169
        }
      ],
      "source": [
        "user_initiation_data.head()"
      ],
      "id": "oCm00z9qMHkJ"
    },
    {
      "cell_type": "code",
      "execution_count": null,
      "metadata": {
        "colab": {
          "base_uri": "https://localhost:8080/"
        },
        "id": "n1N5Ew4RNTpU",
        "outputId": "86b773c6-3f84-462a-a9b9-b98320afd1a6"
      },
      "outputs": [
        {
          "output_type": "execute_result",
          "data": {
            "text/plain": [
              "user_id                         object\n",
              "app_id                          object\n",
              "signed_up_on            datetime64[ns]\n",
              "last_login_date                 object\n",
              "offer_id                         int64\n",
              "status                          object\n",
              "started_at         datetime64[ns, UTC]\n",
              "completed_at                    object\n",
              "expires_at                      object\n",
              "dtype: object"
            ]
          },
          "metadata": {},
          "execution_count": 170
        }
      ],
      "source": [
        "user_initiation_data.dtypes"
      ],
      "id": "n1N5Ew4RNTpU"
    },
    {
      "cell_type": "code",
      "execution_count": null,
      "metadata": {
        "colab": {
          "base_uri": "https://localhost:8080/"
        },
        "id": "_-XdJiHRN0QR",
        "outputId": "2cd89a28-15d4-4b3a-eb1f-e895be92ea81"
      },
      "outputs": [
        {
          "output_type": "execute_result",
          "data": {
            "text/plain": [
              "user_id              0\n",
              "app_id               0\n",
              "signed_up_on         0\n",
              "last_login_date      0\n",
              "offer_id             0\n",
              "status               0\n",
              "started_at           0\n",
              "completed_at       436\n",
              "expires_at          63\n",
              "dtype: int64"
            ]
          },
          "metadata": {},
          "execution_count": 171
        }
      ],
      "source": [
        "user_initiation_data.isnull().sum()"
      ],
      "id": "_-XdJiHRN0QR"
    },
    {
      "cell_type": "code",
      "execution_count": null,
      "metadata": {
        "id": "2Ek8FF0dN5lU"
      },
      "outputs": [],
      "source": [
        "offer_initiation_by_app = user_initiation_data.groupby(['app_id','started_at'])['user_id'].count()"
      ],
      "id": "2Ek8FF0dN5lU"
    },
    {
      "cell_type": "code",
      "execution_count": null,
      "metadata": {
        "colab": {
          "base_uri": "https://localhost:8080/"
        },
        "id": "QXOpGAuXPt6M",
        "outputId": "1ee74641-2039-46a4-ac93-6e9843769e3c"
      },
      "outputs": [
        {
          "output_type": "execute_result",
          "data": {
            "text/plain": [
              "app_id     started_at                      \n",
              "sikka      2022-11-26 00:03:03.462440+00:00    1\n",
              "           2022-11-26 00:04:13.885525+00:00    1\n",
              "           2022-11-26 00:05:38.867282+00:00    1\n",
              "           2022-11-26 00:05:44.859932+00:00    1\n",
              "           2022-11-26 00:06:18.862567+00:00    1\n",
              "                                              ..\n",
              "sikka_pro  2022-11-29 07:13:49.719542+00:00    1\n",
              "           2022-11-29 07:35:05.496512+00:00    1\n",
              "           2022-11-29 08:03:35.042177+00:00    1\n",
              "           2022-11-29 09:30:42.164276+00:00    1\n",
              "           2022-11-29 10:20:30.486481+00:00    1\n",
              "Name: user_id, Length: 499, dtype: int64"
            ]
          },
          "metadata": {},
          "execution_count": 173
        }
      ],
      "source": [
        "user_initiation_data.groupby(['app_id','started_at'])['user_id'].count()"
      ],
      "id": "QXOpGAuXPt6M"
    },
    {
      "cell_type": "code",
      "execution_count": null,
      "metadata": {
        "id": "6KdyfF9AObOt"
      },
      "outputs": [],
      "source": [
        "offer_initiation_by_app = pd.DataFrame(offer_initiation_by_app).reset_index()"
      ],
      "id": "6KdyfF9AObOt"
    },
    {
      "cell_type": "code",
      "execution_count": null,
      "metadata": {
        "colab": {
          "base_uri": "https://localhost:8080/"
        },
        "id": "OCvBFTNlP0az",
        "outputId": "70c2a8f6-b64e-4f5f-f8dc-a831a235e8ae"
      },
      "outputs": [
        {
          "output_type": "execute_result",
          "data": {
            "text/plain": [
              "app_id     signed_up_on\n",
              "sikka      2022-11-26      262\n",
              "sikka_pro  2022-11-26      237\n",
              "Name: user_id, dtype: int64"
            ]
          },
          "metadata": {},
          "execution_count": 175
        }
      ],
      "source": [
        "user_initiation_data.groupby(['app_id','signed_up_on'])['user_id'].count()"
      ],
      "id": "OCvBFTNlP0az"
    },
    {
      "cell_type": "code",
      "execution_count": null,
      "metadata": {
        "id": "8kL_ArZmRfDQ"
      },
      "outputs": [],
      "source": [
        "user_initiation_data['started_date'] = user_initiation_data['started_at'].dt.date"
      ],
      "id": "8kL_ArZmRfDQ"
    },
    {
      "cell_type": "code",
      "execution_count": null,
      "metadata": {
        "id": "7nAPRHpDPRgb"
      },
      "outputs": [],
      "source": [
        "users_by_app_per_day = user_initiation_data.groupby(['app_id','started_date'])['user_id'].count().reset_index()"
      ],
      "id": "7nAPRHpDPRgb"
    },
    {
      "cell_type": "code",
      "execution_count": null,
      "metadata": {
        "id": "SC1ENw4SVGn9"
      },
      "outputs": [],
      "source": [
        "users_by_app_per_day = users_by_app_per_day.rename(columns = {'user_id':'user_count'})"
      ],
      "id": "SC1ENw4SVGn9"
    },
    {
      "cell_type": "code",
      "execution_count": null,
      "metadata": {
        "colab": {
          "base_uri": "https://localhost:8080/",
          "height": 300
        },
        "id": "dTac2a56Vod6",
        "outputId": "fbad08ee-3ab3-4394-cc38-fbe7c6ebcb83"
      },
      "outputs": [
        {
          "output_type": "execute_result",
          "data": {
            "text/plain": [
              "      app_id started_date  user_count\n",
              "0      sikka   2022-11-26         177\n",
              "1      sikka   2022-11-27          28\n",
              "2      sikka   2022-11-28          35\n",
              "3      sikka   2022-11-29          22\n",
              "4  sikka_pro   2022-11-26         111\n",
              "5  sikka_pro   2022-11-27          48\n",
              "6  sikka_pro   2022-11-28          54\n",
              "7  sikka_pro   2022-11-29          24"
            ],
            "text/html": [
              "\n",
              "  <div id=\"df-3406748c-5213-4c7b-ae37-d12ad148c225\">\n",
              "    <div class=\"colab-df-container\">\n",
              "      <div>\n",
              "<style scoped>\n",
              "    .dataframe tbody tr th:only-of-type {\n",
              "        vertical-align: middle;\n",
              "    }\n",
              "\n",
              "    .dataframe tbody tr th {\n",
              "        vertical-align: top;\n",
              "    }\n",
              "\n",
              "    .dataframe thead th {\n",
              "        text-align: right;\n",
              "    }\n",
              "</style>\n",
              "<table border=\"1\" class=\"dataframe\">\n",
              "  <thead>\n",
              "    <tr style=\"text-align: right;\">\n",
              "      <th></th>\n",
              "      <th>app_id</th>\n",
              "      <th>started_date</th>\n",
              "      <th>user_count</th>\n",
              "    </tr>\n",
              "  </thead>\n",
              "  <tbody>\n",
              "    <tr>\n",
              "      <th>0</th>\n",
              "      <td>sikka</td>\n",
              "      <td>2022-11-26</td>\n",
              "      <td>177</td>\n",
              "    </tr>\n",
              "    <tr>\n",
              "      <th>1</th>\n",
              "      <td>sikka</td>\n",
              "      <td>2022-11-27</td>\n",
              "      <td>28</td>\n",
              "    </tr>\n",
              "    <tr>\n",
              "      <th>2</th>\n",
              "      <td>sikka</td>\n",
              "      <td>2022-11-28</td>\n",
              "      <td>35</td>\n",
              "    </tr>\n",
              "    <tr>\n",
              "      <th>3</th>\n",
              "      <td>sikka</td>\n",
              "      <td>2022-11-29</td>\n",
              "      <td>22</td>\n",
              "    </tr>\n",
              "    <tr>\n",
              "      <th>4</th>\n",
              "      <td>sikka_pro</td>\n",
              "      <td>2022-11-26</td>\n",
              "      <td>111</td>\n",
              "    </tr>\n",
              "    <tr>\n",
              "      <th>5</th>\n",
              "      <td>sikka_pro</td>\n",
              "      <td>2022-11-27</td>\n",
              "      <td>48</td>\n",
              "    </tr>\n",
              "    <tr>\n",
              "      <th>6</th>\n",
              "      <td>sikka_pro</td>\n",
              "      <td>2022-11-28</td>\n",
              "      <td>54</td>\n",
              "    </tr>\n",
              "    <tr>\n",
              "      <th>7</th>\n",
              "      <td>sikka_pro</td>\n",
              "      <td>2022-11-29</td>\n",
              "      <td>24</td>\n",
              "    </tr>\n",
              "  </tbody>\n",
              "</table>\n",
              "</div>\n",
              "      <button class=\"colab-df-convert\" onclick=\"convertToInteractive('df-3406748c-5213-4c7b-ae37-d12ad148c225')\"\n",
              "              title=\"Convert this dataframe to an interactive table.\"\n",
              "              style=\"display:none;\">\n",
              "        \n",
              "  <svg xmlns=\"http://www.w3.org/2000/svg\" height=\"24px\"viewBox=\"0 0 24 24\"\n",
              "       width=\"24px\">\n",
              "    <path d=\"M0 0h24v24H0V0z\" fill=\"none\"/>\n",
              "    <path d=\"M18.56 5.44l.94 2.06.94-2.06 2.06-.94-2.06-.94-.94-2.06-.94 2.06-2.06.94zm-11 1L8.5 8.5l.94-2.06 2.06-.94-2.06-.94L8.5 2.5l-.94 2.06-2.06.94zm10 10l.94 2.06.94-2.06 2.06-.94-2.06-.94-.94-2.06-.94 2.06-2.06.94z\"/><path d=\"M17.41 7.96l-1.37-1.37c-.4-.4-.92-.59-1.43-.59-.52 0-1.04.2-1.43.59L10.3 9.45l-7.72 7.72c-.78.78-.78 2.05 0 2.83L4 21.41c.39.39.9.59 1.41.59.51 0 1.02-.2 1.41-.59l7.78-7.78 2.81-2.81c.8-.78.8-2.07 0-2.86zM5.41 20L4 18.59l7.72-7.72 1.47 1.35L5.41 20z\"/>\n",
              "  </svg>\n",
              "      </button>\n",
              "      \n",
              "  <style>\n",
              "    .colab-df-container {\n",
              "      display:flex;\n",
              "      flex-wrap:wrap;\n",
              "      gap: 12px;\n",
              "    }\n",
              "\n",
              "    .colab-df-convert {\n",
              "      background-color: #E8F0FE;\n",
              "      border: none;\n",
              "      border-radius: 50%;\n",
              "      cursor: pointer;\n",
              "      display: none;\n",
              "      fill: #1967D2;\n",
              "      height: 32px;\n",
              "      padding: 0 0 0 0;\n",
              "      width: 32px;\n",
              "    }\n",
              "\n",
              "    .colab-df-convert:hover {\n",
              "      background-color: #E2EBFA;\n",
              "      box-shadow: 0px 1px 2px rgba(60, 64, 67, 0.3), 0px 1px 3px 1px rgba(60, 64, 67, 0.15);\n",
              "      fill: #174EA6;\n",
              "    }\n",
              "\n",
              "    [theme=dark] .colab-df-convert {\n",
              "      background-color: #3B4455;\n",
              "      fill: #D2E3FC;\n",
              "    }\n",
              "\n",
              "    [theme=dark] .colab-df-convert:hover {\n",
              "      background-color: #434B5C;\n",
              "      box-shadow: 0px 1px 3px 1px rgba(0, 0, 0, 0.15);\n",
              "      filter: drop-shadow(0px 1px 2px rgba(0, 0, 0, 0.3));\n",
              "      fill: #FFFFFF;\n",
              "    }\n",
              "  </style>\n",
              "\n",
              "      <script>\n",
              "        const buttonEl =\n",
              "          document.querySelector('#df-3406748c-5213-4c7b-ae37-d12ad148c225 button.colab-df-convert');\n",
              "        buttonEl.style.display =\n",
              "          google.colab.kernel.accessAllowed ? 'block' : 'none';\n",
              "\n",
              "        async function convertToInteractive(key) {\n",
              "          const element = document.querySelector('#df-3406748c-5213-4c7b-ae37-d12ad148c225');\n",
              "          const dataTable =\n",
              "            await google.colab.kernel.invokeFunction('convertToInteractive',\n",
              "                                                     [key], {});\n",
              "          if (!dataTable) return;\n",
              "\n",
              "          const docLinkHtml = 'Like what you see? Visit the ' +\n",
              "            '<a target=\"_blank\" href=https://colab.research.google.com/notebooks/data_table.ipynb>data table notebook</a>'\n",
              "            + ' to learn more about interactive tables.';\n",
              "          element.innerHTML = '';\n",
              "          dataTable['output_type'] = 'display_data';\n",
              "          await google.colab.output.renderOutput(dataTable, element);\n",
              "          const docLink = document.createElement('div');\n",
              "          docLink.innerHTML = docLinkHtml;\n",
              "          element.appendChild(docLink);\n",
              "        }\n",
              "      </script>\n",
              "    </div>\n",
              "  </div>\n",
              "  "
            ]
          },
          "metadata": {},
          "execution_count": 179
        }
      ],
      "source": [
        "users_by_app_per_day"
      ],
      "id": "dTac2a56Vod6"
    },
    {
      "cell_type": "code",
      "execution_count": null,
      "metadata": {
        "colab": {
          "base_uri": "https://localhost:8080/"
        },
        "id": "GKDj-U3thAC1",
        "outputId": "154e7798-7d7a-49f1-94d2-bef222b2bd21"
      },
      "outputs": [
        {
          "output_type": "execute_result",
          "data": {
            "text/plain": [
              "app_id          object\n",
              "started_date    object\n",
              "user_count       int64\n",
              "dtype: object"
            ]
          },
          "metadata": {},
          "execution_count": 180
        }
      ],
      "source": [
        "users_by_app_per_day.dtypes"
      ],
      "id": "GKDj-U3thAC1"
    },
    {
      "cell_type": "code",
      "execution_count": null,
      "metadata": {
        "id": "W4hYqzuXSFpu"
      },
      "outputs": [],
      "source": [
        "import matplotlib.pyplot as plt\n",
        "import seaborn as sns"
      ],
      "id": "W4hYqzuXSFpu"
    },
    {
      "cell_type": "code",
      "execution_count": null,
      "metadata": {
        "colab": {
          "base_uri": "https://localhost:8080/",
          "height": 295
        },
        "id": "vB5zR5TvTRgC",
        "outputId": "6e1b30a7-f8ea-471c-b860-df3ecd65c268"
      },
      "outputs": [
        {
          "output_type": "display_data",
          "data": {
            "text/plain": [
              "<Figure size 432x288 with 1 Axes>"
            ],
            "image/png": "[encoded data removed]"
          },
          "metadata": {
            "needs_background": "light"
          }
        }
      ],
      "source": [
        "sns.barplot(y='user_count', x='started_date', data=users_by_app_per_day, hue='app_id',palette = 'Paired')\n",
        "plt.xlabel('Started Date')\n",
        "plt.ylabel('Number of Users')\n",
        "plt.title('Comparison of App IDs')\n",
        "plt.show()"
      ],
      "id": "vB5zR5TvTRgC"
    },
    {
      "cell_type": "code",
      "execution_count": null,
      "metadata": {
        "id": "7rdhA4zCV3A8"
      },
      "outputs": [],
      "source": [
        "users_per_app = user_initiation_data.groupby('app_id')['user_id'].count().reset_index()"
      ],
      "id": "7rdhA4zCV3A8"
    },
    {
      "cell_type": "code",
      "execution_count": null,
      "metadata": {
        "colab": {
          "base_uri": "https://localhost:8080/",
          "height": 112
        },
        "id": "90Zze4W0a3fI",
        "outputId": "615627b2-84f4-42fb-a3d1-40744b653b6a"
      },
      "outputs": [
        {
          "output_type": "execute_result",
          "data": {
            "text/plain": [
              "      app_id  user_id\n",
              "0      sikka      262\n",
              "1  sikka_pro      237"
            ],
            "text/html": [
              "\n",
              "  <div id=\"df-f435bfa8-38b4-4ed1-91ee-5a64fd23a300\">\n",
              "    <div class=\"colab-df-container\">\n",
              "      <div>\n",
              "<style scoped>\n",
              "    .dataframe tbody tr th:only-of-type {\n",
              "        vertical-align: middle;\n",
              "    }\n",
              "\n",
              "    .dataframe tbody tr th {\n",
              "        vertical-align: top;\n",
              "    }\n",
              "\n",
              "    .dataframe thead th {\n",
              "        text-align: right;\n",
              "    }\n",
              "</style>\n",
              "<table border=\"1\" class=\"dataframe\">\n",
              "  <thead>\n",
              "    <tr style=\"text-align: right;\">\n",
              "      <th></th>\n",
              "      <th>app_id</th>\n",
              "      <th>user_id</th>\n",
              "    </tr>\n",
              "  </thead>\n",
              "  <tbody>\n",
              "    <tr>\n",
              "      <th>0</th>\n",
              "      <td>sikka</td>\n",
              "      <td>262</td>\n",
              "    </tr>\n",
              "    <tr>\n",
              "      <th>1</th>\n",
              "      <td>sikka_pro</td>\n",
              "      <td>237</td>\n",
              "    </tr>\n",
              "  </tbody>\n",
              "</table>\n",
              "</div>\n",
              "      <button class=\"colab-df-convert\" onclick=\"convertToInteractive('df-f435bfa8-38b4-4ed1-91ee-5a64fd23a300')\"\n",
              "              title=\"Convert this dataframe to an interactive table.\"\n",
              "              style=\"display:none;\">\n",
              "        \n",
              "  <svg xmlns=\"http://www.w3.org/2000/svg\" height=\"24px\"viewBox=\"0 0 24 24\"\n",
              "       width=\"24px\">\n",
              "    <path d=\"M0 0h24v24H0V0z\" fill=\"none\"/>\n",
              "    <path d=\"M18.56 5.44l.94 2.06.94-2.06 2.06-.94-2.06-.94-.94-2.06-.94 2.06-2.06.94zm-11 1L8.5 8.5l.94-2.06 2.06-.94-2.06-.94L8.5 2.5l-.94 2.06-2.06.94zm10 10l.94 2.06.94-2.06 2.06-.94-2.06-.94-.94-2.06-.94 2.06-2.06.94z\"/><path d=\"M17.41 7.96l-1.37-1.37c-.4-.4-.92-.59-1.43-.59-.52 0-1.04.2-1.43.59L10.3 9.45l-7.72 7.72c-.78.78-.78 2.05 0 2.83L4 21.41c.39.39.9.59 1.41.59.51 0 1.02-.2 1.41-.59l7.78-7.78 2.81-2.81c.8-.78.8-2.07 0-2.86zM5.41 20L4 18.59l7.72-7.72 1.47 1.35L5.41 20z\"/>\n",
              "  </svg>\n",
              "      </button>\n",
              "      \n",
              "  <style>\n",
              "    .colab-df-container {\n",
              "      display:flex;\n",
              "      flex-wrap:wrap;\n",
              "      gap: 12px;\n",
              "    }\n",
              "\n",
              "    .colab-df-convert {\n",
              "      background-color: #E8F0FE;\n",
              "      border: none;\n",
              "      border-radius: 50%;\n",
              "      cursor: pointer;\n",
              "      display: none;\n",
              "      fill: #1967D2;\n",
              "      height: 32px;\n",
              "      padding: 0 0 0 0;\n",
              "      width: 32px;\n",
              "    }\n",
              "\n",
              "    .colab-df-convert:hover {\n",
              "      background-color: #E2EBFA;\n",
              "      box-shadow: 0px 1px 2px rgba(60, 64, 67, 0.3), 0px 1px 3px 1px rgba(60, 64, 67, 0.15);\n",
              "      fill: #174EA6;\n",
              "    }\n",
              "\n",
              "    [theme=dark] .colab-df-convert {\n",
              "      background-color: #3B4455;\n",
              "      fill: #D2E3FC;\n",
              "    }\n",
              "\n",
              "    [theme=dark] .colab-df-convert:hover {\n",
              "      background-color: #434B5C;\n",
              "      box-shadow: 0px 1px 3px 1px rgba(0, 0, 0, 0.15);\n",
              "      filter: drop-shadow(0px 1px 2px rgba(0, 0, 0, 0.3));\n",
              "      fill: #FFFFFF;\n",
              "    }\n",
              "  </style>\n",
              "\n",
              "      <script>\n",
              "        const buttonEl =\n",
              "          document.querySelector('#df-f435bfa8-38b4-4ed1-91ee-5a64fd23a300 button.colab-df-convert');\n",
              "        buttonEl.style.display =\n",
              "          google.colab.kernel.accessAllowed ? 'block' : 'none';\n",
              "\n",
              "        async function convertToInteractive(key) {\n",
              "          const element = document.querySelector('#df-f435bfa8-38b4-4ed1-91ee-5a64fd23a300');\n",
              "          const dataTable =\n",
              "            await google.colab.kernel.invokeFunction('convertToInteractive',\n",
              "                                                     [key], {});\n",
              "          if (!dataTable) return;\n",
              "\n",
              "          const docLinkHtml = 'Like what you see? Visit the ' +\n",
              "            '<a target=\"_blank\" href=https://colab.research.google.com/notebooks/data_table.ipynb>data table notebook</a>'\n",
              "            + ' to learn more about interactive tables.';\n",
              "          element.innerHTML = '';\n",
              "          dataTable['output_type'] = 'display_data';\n",
              "          await google.colab.output.renderOutput(dataTable, element);\n",
              "          const docLink = document.createElement('div');\n",
              "          docLink.innerHTML = docLinkHtml;\n",
              "          element.appendChild(docLink);\n",
              "        }\n",
              "      </script>\n",
              "    </div>\n",
              "  </div>\n",
              "  "
            ]
          },
          "metadata": {},
          "execution_count": 184
        }
      ],
      "source": [
        "users_per_app"
      ],
      "id": "90Zze4W0a3fI"
    },
    {
      "cell_type": "code",
      "execution_count": null,
      "metadata": {
        "colab": {
          "base_uri": "https://localhost:8080/",
          "height": 427
        },
        "id": "q6aSSMrhXhKE",
        "outputId": "2e13f1ce-e7c2-4ee0-b687-01efc8c17f49"
      },
      "outputs": [
        {
          "output_type": "display_data",
          "data": {
            "text/plain": [
              "<Figure size 504x504 with 1 Axes>"
            ],
            "image/png": "[encoded data removed]"
          },
          "metadata": {}
        }
      ],
      "source": [
        "plt.figure(figsize = [7,7])\n",
        "sns.color_palette(palette=\"Paired\")\n",
        "plt.pie(users_per_app['user_id'],labels = ['Sikka',\"Sikka Pro\"], autopct='%1.1f%%',colors = ['#add8e6','#3b79a2'])\n",
        "plt.title('User Count per App')\n",
        "plt.show()"
      ],
      "id": "q6aSSMrhXhKE"
    },
    {
      "cell_type": "markdown",
      "metadata": {
        "id": "1N-z-o16df6M"
      },
      "source": [
        "Offer Completion by users"
      ],
      "id": "1N-z-o16df6M"
    },
    {
      "cell_type": "code",
      "execution_count": null,
      "metadata": {
        "id": "QuMgnjhleQpz"
      },
      "outputs": [],
      "source": [
        "offer_completion['date'] = offer_completion['date'].dt.date"
      ],
      "id": "QuMgnjhleQpz"
    },
    {
      "cell_type": "code",
      "execution_count": null,
      "metadata": {
        "id": "VoqiFharZNdm"
      },
      "outputs": [],
      "source": [
        "users_offer_completed_per_app_per_day = offer_completion.groupby(['app_id','date'])['user_id'].count().reset_index()"
      ],
      "id": "VoqiFharZNdm"
    },
    {
      "cell_type": "code",
      "execution_count": null,
      "metadata": {
        "id": "JB59ReSZfZzH"
      },
      "outputs": [],
      "source": [
        "users_offer_completed_per_app_per_day = users_offer_completed_per_app_per_day.rename(columns = {'user_id':'user_count'})"
      ],
      "id": "JB59ReSZfZzH"
    },
    {
      "cell_type": "code",
      "execution_count": null,
      "metadata": {
        "colab": {
          "base_uri": "https://localhost:8080/"
        },
        "id": "X4xwY3wHgjbC",
        "outputId": "594e38c1-4ec5-44b7-ab7b-cbea3916d654"
      },
      "outputs": [
        {
          "output_type": "execute_result",
          "data": {
            "text/plain": [
              "app_id        object\n",
              "date          object\n",
              "user_count     int64\n",
              "dtype: object"
            ]
          },
          "metadata": {},
          "execution_count": 189
        }
      ],
      "source": [
        "users_offer_completed_per_app_per_day.dtypes"
      ],
      "id": "X4xwY3wHgjbC"
    },
    {
      "cell_type": "code",
      "execution_count": null,
      "metadata": {
        "colab": {
          "base_uri": "https://localhost:8080/",
          "height": 300
        },
        "id": "SpbPdstohPc1",
        "outputId": "aba4f2ff-e903-4c3e-d529-86a281c0e647"
      },
      "outputs": [
        {
          "output_type": "execute_result",
          "data": {
            "text/plain": [
              "      app_id        date  user_count\n",
              "0      sikka  2022-11-26          15\n",
              "1      sikka  2022-11-27           2\n",
              "2      sikka  2022-11-28           5\n",
              "3      sikka  2022-11-29           5\n",
              "4  sikka_pro  2022-11-26          19\n",
              "5  sikka_pro  2022-11-27           8\n",
              "6  sikka_pro  2022-11-28          10\n",
              "7  sikka_pro  2022-11-29           6"
            ],
            "text/html": [
              "\n",
              "  <div id=\"df-6b7b93e8-6219-4c49-ab0d-a775f5565427\">\n",
              "    <div class=\"colab-df-container\">\n",
              "      <div>\n",
              "<style scoped>\n",
              "    .dataframe tbody tr th:only-of-type {\n",
              "        vertical-align: middle;\n",
              "    }\n",
              "\n",
              "    .dataframe tbody tr th {\n",
              "        vertical-align: top;\n",
              "    }\n",
              "\n",
              "    .dataframe thead th {\n",
              "        text-align: right;\n",
              "    }\n",
              "</style>\n",
              "<table border=\"1\" class=\"dataframe\">\n",
              "  <thead>\n",
              "    <tr style=\"text-align: right;\">\n",
              "      <th></th>\n",
              "      <th>app_id</th>\n",
              "      <th>date</th>\n",
              "      <th>user_count</th>\n",
              "    </tr>\n",
              "  </thead>\n",
              "  <tbody>\n",
              "    <tr>\n",
              "      <th>0</th>\n",
              "      <td>sikka</td>\n",
              "      <td>2022-11-26</td>\n",
              "      <td>15</td>\n",
              "    </tr>\n",
              "    <tr>\n",
              "      <th>1</th>\n",
              "      <td>sikka</td>\n",
              "      <td>2022-11-27</td>\n",
              "      <td>2</td>\n",
              "    </tr>\n",
              "    <tr>\n",
              "      <th>2</th>\n",
              "      <td>sikka</td>\n",
              "      <td>2022-11-28</td>\n",
              "      <td>5</td>\n",
              "    </tr>\n",
              "    <tr>\n",
              "      <th>3</th>\n",
              "      <td>sikka</td>\n",
              "      <td>2022-11-29</td>\n",
              "      <td>5</td>\n",
              "    </tr>\n",
              "    <tr>\n",
              "      <th>4</th>\n",
              "      <td>sikka_pro</td>\n",
              "      <td>2022-11-26</td>\n",
              "      <td>19</td>\n",
              "    </tr>\n",
              "    <tr>\n",
              "      <th>5</th>\n",
              "      <td>sikka_pro</td>\n",
              "      <td>2022-11-27</td>\n",
              "      <td>8</td>\n",
              "    </tr>\n",
              "    <tr>\n",
              "      <th>6</th>\n",
              "      <td>sikka_pro</td>\n",
              "      <td>2022-11-28</td>\n",
              "      <td>10</td>\n",
              "    </tr>\n",
              "    <tr>\n",
              "      <th>7</th>\n",
              "      <td>sikka_pro</td>\n",
              "      <td>2022-11-29</td>\n",
              "      <td>6</td>\n",
              "    </tr>\n",
              "  </tbody>\n",
              "</table>\n",
              "</div>\n",
              "      <button class=\"colab-df-convert\" onclick=\"convertToInteractive('df-6b7b93e8-6219-4c49-ab0d-a775f5565427')\"\n",
              "              title=\"Convert this dataframe to an interactive table.\"\n",
              "              style=\"display:none;\">\n",
              "        \n",
              "  <svg xmlns=\"http://www.w3.org/2000/svg\" height=\"24px\"viewBox=\"0 0 24 24\"\n",
              "       width=\"24px\">\n",
              "    <path d=\"M0 0h24v24H0V0z\" fill=\"none\"/>\n",
              "    <path d=\"M18.56 5.44l.94 2.06.94-2.06 2.06-.94-2.06-.94-.94-2.06-.94 2.06-2.06.94zm-11 1L8.5 8.5l.94-2.06 2.06-.94-2.06-.94L8.5 2.5l-.94 2.06-2.06.94zm10 10l.94 2.06.94-2.06 2.06-.94-2.06-.94-.94-2.06-.94 2.06-2.06.94z\"/><path d=\"M17.41 7.96l-1.37-1.37c-.4-.4-.92-.59-1.43-.59-.52 0-1.04.2-1.43.59L10.3 9.45l-7.72 7.72c-.78.78-.78 2.05 0 2.83L4 21.41c.39.39.9.59 1.41.59.51 0 1.02-.2 1.41-.59l7.78-7.78 2.81-2.81c.8-.78.8-2.07 0-2.86zM5.41 20L4 18.59l7.72-7.72 1.47 1.35L5.41 20z\"/>\n",
              "  </svg>\n",
              "      </button>\n",
              "      \n",
              "  <style>\n",
              "    .colab-df-container {\n",
              "      display:flex;\n",
              "      flex-wrap:wrap;\n",
              "      gap: 12px;\n",
              "    }\n",
              "\n",
              "    .colab-df-convert {\n",
              "      background-color: #E8F0FE;\n",
              "      border: none;\n",
              "      border-radius: 50%;\n",
              "      cursor: pointer;\n",
              "      display: none;\n",
              "      fill: #1967D2;\n",
              "      height: 32px;\n",
              "      padding: 0 0 0 0;\n",
              "      width: 32px;\n",
              "    }\n",
              "\n",
              "    .colab-df-convert:hover {\n",
              "      background-color: #E2EBFA;\n",
              "      box-shadow: 0px 1px 2px rgba(60, 64, 67, 0.3), 0px 1px 3px 1px rgba(60, 64, 67, 0.15);\n",
              "      fill: #174EA6;\n",
              "    }\n",
              "\n",
              "    [theme=dark] .colab-df-convert {\n",
              "      background-color: #3B4455;\n",
              "      fill: #D2E3FC;\n",
              "    }\n",
              "\n",
              "    [theme=dark] .colab-df-convert:hover {\n",
              "      background-color: #434B5C;\n",
              "      box-shadow: 0px 1px 3px 1px rgba(0, 0, 0, 0.15);\n",
              "      filter: drop-shadow(0px 1px 2px rgba(0, 0, 0, 0.3));\n",
              "      fill: #FFFFFF;\n",
              "    }\n",
              "  </style>\n",
              "\n",
              "      <script>\n",
              "        const buttonEl =\n",
              "          document.querySelector('#df-6b7b93e8-6219-4c49-ab0d-a775f5565427 button.colab-df-convert');\n",
              "        buttonEl.style.display =\n",
              "          google.colab.kernel.accessAllowed ? 'block' : 'none';\n",
              "\n",
              "        async function convertToInteractive(key) {\n",
              "          const element = document.querySelector('#df-6b7b93e8-6219-4c49-ab0d-a775f5565427');\n",
              "          const dataTable =\n",
              "            await google.colab.kernel.invokeFunction('convertToInteractive',\n",
              "                                                     [key], {});\n",
              "          if (!dataTable) return;\n",
              "\n",
              "          const docLinkHtml = 'Like what you see? Visit the ' +\n",
              "            '<a target=\"_blank\" href=https://colab.research.google.com/notebooks/data_table.ipynb>data table notebook</a>'\n",
              "            + ' to learn more about interactive tables.';\n",
              "          element.innerHTML = '';\n",
              "          dataTable['output_type'] = 'display_data';\n",
              "          await google.colab.output.renderOutput(dataTable, element);\n",
              "          const docLink = document.createElement('div');\n",
              "          docLink.innerHTML = docLinkHtml;\n",
              "          element.appendChild(docLink);\n",
              "        }\n",
              "      </script>\n",
              "    </div>\n",
              "  </div>\n",
              "  "
            ]
          },
          "metadata": {},
          "execution_count": 190
        }
      ],
      "source": [
        "users_offer_completed_per_app_per_day"
      ],
      "id": "SpbPdstohPc1"
    },
    {
      "cell_type": "code",
      "execution_count": null,
      "metadata": {
        "colab": {
          "base_uri": "https://localhost:8080/",
          "height": 458
        },
        "id": "3775JslNeNoT",
        "outputId": "5ae8b511-90a1-4524-cdfa-cda92f99308e"
      },
      "outputs": [
        {
          "output_type": "display_data",
          "data": {
            "text/plain": [
              "<Figure size 576x504 with 1 Axes>"
            ],
            "image/png": "[encoded data removed]"
          },
          "metadata": {
            "needs_background": "light"
          }
        }
      ],
      "source": [
        "\n",
        "plt.figure(figsize= (8,7))\n",
        "sns.barplot(y='user_count', x='date', data=users_offer_completed_per_app_per_day, hue='app_id', palette ='flare')\n",
        "plt.xlabel('Offer Completion Date')\n",
        "plt.ylabel('Number of Users')\n",
        "plt.title('Comparison of App IDs')\n",
        "plt.show()"
      ],
      "id": "3775JslNeNoT"
    },
    {
      "cell_type": "code",
      "execution_count": null,
      "metadata": {
        "id": "YaJOM1qZfnwP"
      },
      "outputs": [],
      "source": [
        "offerCompletionUsers_per_app = offer_completion.groupby('app_id')['user_id'].count().reset_index()"
      ],
      "id": "YaJOM1qZfnwP"
    },
    {
      "cell_type": "code",
      "execution_count": null,
      "metadata": {
        "colab": {
          "base_uri": "https://localhost:8080/",
          "height": 112
        },
        "id": "EiOcJnRmj2zo",
        "outputId": "271f4306-c316-43fd-afef-d5b0cb573a62"
      },
      "outputs": [
        {
          "output_type": "execute_result",
          "data": {
            "text/plain": [
              "      app_id  user_id\n",
              "0      sikka       27\n",
              "1  sikka_pro       43"
            ],
            "text/html": [
              "\n",
              "  <div id=\"df-df20582a-1d2b-4a59-943d-03f6cee20dc9\">\n",
              "    <div class=\"colab-df-container\">\n",
              "      <div>\n",
              "<style scoped>\n",
              "    .dataframe tbody tr th:only-of-type {\n",
              "        vertical-align: middle;\n",
              "    }\n",
              "\n",
              "    .dataframe tbody tr th {\n",
              "        vertical-align: top;\n",
              "    }\n",
              "\n",
              "    .dataframe thead th {\n",
              "        text-align: right;\n",
              "    }\n",
              "</style>\n",
              "<table border=\"1\" class=\"dataframe\">\n",
              "  <thead>\n",
              "    <tr style=\"text-align: right;\">\n",
              "      <th></th>\n",
              "      <th>app_id</th>\n",
              "      <th>user_id</th>\n",
              "    </tr>\n",
              "  </thead>\n",
              "  <tbody>\n",
              "    <tr>\n",
              "      <th>0</th>\n",
              "      <td>sikka</td>\n",
              "      <td>27</td>\n",
              "    </tr>\n",
              "    <tr>\n",
              "      <th>1</th>\n",
              "      <td>sikka_pro</td>\n",
              "      <td>43</td>\n",
              "    </tr>\n",
              "  </tbody>\n",
              "</table>\n",
              "</div>\n",
              "      <button class=\"colab-df-convert\" onclick=\"convertToInteractive('df-df20582a-1d2b-4a59-943d-03f6cee20dc9')\"\n",
              "              title=\"Convert this dataframe to an interactive table.\"\n",
              "              style=\"display:none;\">\n",
              "        \n",
              "  <svg xmlns=\"http://www.w3.org/2000/svg\" height=\"24px\"viewBox=\"0 0 24 24\"\n",
              "       width=\"24px\">\n",
              "    <path d=\"M0 0h24v24H0V0z\" fill=\"none\"/>\n",
              "    <path d=\"M18.56 5.44l.94 2.06.94-2.06 2.06-.94-2.06-.94-.94-2.06-.94 2.06-2.06.94zm-11 1L8.5 8.5l.94-2.06 2.06-.94-2.06-.94L8.5 2.5l-.94 2.06-2.06.94zm10 10l.94 2.06.94-2.06 2.06-.94-2.06-.94-.94-2.06-.94 2.06-2.06.94z\"/><path d=\"M17.41 7.96l-1.37-1.37c-.4-.4-.92-.59-1.43-.59-.52 0-1.04.2-1.43.59L10.3 9.45l-7.72 7.72c-.78.78-.78 2.05 0 2.83L4 21.41c.39.39.9.59 1.41.59.51 0 1.02-.2 1.41-.59l7.78-7.78 2.81-2.81c.8-.78.8-2.07 0-2.86zM5.41 20L4 18.59l7.72-7.72 1.47 1.35L5.41 20z\"/>\n",
              "  </svg>\n",
              "      </button>\n",
              "      \n",
              "  <style>\n",
              "    .colab-df-container {\n",
              "      display:flex;\n",
              "      flex-wrap:wrap;\n",
              "      gap: 12px;\n",
              "    }\n",
              "\n",
              "    .colab-df-convert {\n",
              "      background-color: #E8F0FE;\n",
              "      border: none;\n",
              "      border-radius: 50%;\n",
              "      cursor: pointer;\n",
              "      display: none;\n",
              "      fill: #1967D2;\n",
              "      height: 32px;\n",
              "      padding: 0 0 0 0;\n",
              "      width: 32px;\n",
              "    }\n",
              "\n",
              "    .colab-df-convert:hover {\n",
              "      background-color: #E2EBFA;\n",
              "      box-shadow: 0px 1px 2px rgba(60, 64, 67, 0.3), 0px 1px 3px 1px rgba(60, 64, 67, 0.15);\n",
              "      fill: #174EA6;\n",
              "    }\n",
              "\n",
              "    [theme=dark] .colab-df-convert {\n",
              "      background-color: #3B4455;\n",
              "      fill: #D2E3FC;\n",
              "    }\n",
              "\n",
              "    [theme=dark] .colab-df-convert:hover {\n",
              "      background-color: #434B5C;\n",
              "      box-shadow: 0px 1px 3px 1px rgba(0, 0, 0, 0.15);\n",
              "      filter: drop-shadow(0px 1px 2px rgba(0, 0, 0, 0.3));\n",
              "      fill: #FFFFFF;\n",
              "    }\n",
              "  </style>\n",
              "\n",
              "      <script>\n",
              "        const buttonEl =\n",
              "          document.querySelector('#df-df20582a-1d2b-4a59-943d-03f6cee20dc9 button.colab-df-convert');\n",
              "        buttonEl.style.display =\n",
              "          google.colab.kernel.accessAllowed ? 'block' : 'none';\n",
              "\n",
              "        async function convertToInteractive(key) {\n",
              "          const element = document.querySelector('#df-df20582a-1d2b-4a59-943d-03f6cee20dc9');\n",
              "          const dataTable =\n",
              "            await google.colab.kernel.invokeFunction('convertToInteractive',\n",
              "                                                     [key], {});\n",
              "          if (!dataTable) return;\n",
              "\n",
              "          const docLinkHtml = 'Like what you see? Visit the ' +\n",
              "            '<a target=\"_blank\" href=https://colab.research.google.com/notebooks/data_table.ipynb>data table notebook</a>'\n",
              "            + ' to learn more about interactive tables.';\n",
              "          element.innerHTML = '';\n",
              "          dataTable['output_type'] = 'display_data';\n",
              "          await google.colab.output.renderOutput(dataTable, element);\n",
              "          const docLink = document.createElement('div');\n",
              "          docLink.innerHTML = docLinkHtml;\n",
              "          element.appendChild(docLink);\n",
              "        }\n",
              "      </script>\n",
              "    </div>\n",
              "  </div>\n",
              "  "
            ]
          },
          "metadata": {},
          "execution_count": 193
        }
      ],
      "source": [
        "offerCompletionUsers_per_app"
      ],
      "id": "EiOcJnRmj2zo"
    },
    {
      "cell_type": "code",
      "execution_count": null,
      "metadata": {
        "colab": {
          "base_uri": "https://localhost:8080/",
          "height": 427
        },
        "id": "PYeiGhVZj4t_",
        "outputId": "3a360cf2-a180-4449-a0c4-1c0b831646fe"
      },
      "outputs": [
        {
          "output_type": "display_data",
          "data": {
            "text/plain": [
              "<Figure size 504x504 with 1 Axes>"
            ],
            "image/png": "[encoded data removed]"
          },
          "metadata": {}
        }
      ],
      "source": [
        "plt.figure(figsize = [7,7])\n",
        "plt.pie(offerCompletionUsers_per_app['user_id'],labels = ['Sikka',\"Sikka Pro\"], autopct='%1.1f%%',colors = ['#d896d8','#be64be'])\n",
        "plt.title('Completed Offer Users per App')\n",
        "plt.show()"
      ],
      "id": "PYeiGhVZj4t_"
    },
    {
      "cell_type": "markdown",
      "metadata": {
        "id": "nqeI3My9oDVS"
      },
      "source": [
        "Rewards earned by users"
      ],
      "id": "nqeI3My9oDVS"
    },
    {
      "cell_type": "code",
      "execution_count": null,
      "metadata": {
        "id": "kXn65LUcnMv6"
      },
      "outputs": [],
      "source": [
        "#Merging offer completion data and rewards detaild dataset\n",
        "\n",
        "rewards_earned = pd.merge(offer_completion,rewards, on = 'reward_id')"
      ],
      "id": "kXn65LUcnMv6"
    },
    {
      "cell_type": "code",
      "execution_count": null,
      "metadata": {
        "colab": {
          "base_uri": "https://localhost:8080/",
          "height": 547
        },
        "id": "Q9De-wM8olhm",
        "outputId": "98d01a7a-ebfd-4be7-dd4e-4574fd7151df"
      },
      "outputs": [
        {
          "output_type": "execute_result",
          "data": {
            "text/plain": [
              "   reward_id                               user_id        date     app_id  \\\n",
              "0       3712  4cb29e43-9f23-42fe-bab8-2422f42e7a91  2022-11-29      sikka   \n",
              "1        935  4cb29e43-9f23-42fe-bab8-2422f42e7a91  2022-11-29      sikka   \n",
              "2        935  c925ccad-98e7-4500-833e-a49aa066aeec  2022-11-26      sikka   \n",
              "3        935  3db62aad-421b-474e-9b1e-8a88ff370d4f  2022-11-26      sikka   \n",
              "4        935  805763d6-87b3-40c7-bb84-dd663669c836  2022-11-27  sikka_pro   \n",
              "\n",
              "   Unnamed: 0  offer_id       label_in_english  total_payout_in_paise  \\\n",
              "0        2678      3520  Complete Registration                    500   \n",
              "1         441       792  Complete Registration                    200   \n",
              "2         441       792  Complete Registration                    200   \n",
              "3         441       792  Complete Registration                    200   \n",
              "4         441       792  Complete Registration                    200   \n",
              "\n",
              "   total_revenue_in_paise  \n",
              "0                    1758  \n",
              "1                       0  \n",
              "2                       0  \n",
              "3                       0  \n",
              "4                       0  "
            ],
            "text/html": [
              "\n",
              "  <div id=\"df-6b1ddbd1-43f5-4b02-8b9e-282a191d322d\">\n",
              "    <div class=\"colab-df-container\">\n",
              "      <div>\n",
              "<style scoped>\n",
              "    .dataframe tbody tr th:only-of-type {\n",
              "        vertical-align: middle;\n",
              "    }\n",
              "\n",
              "    .dataframe tbody tr th {\n",
              "        vertical-align: top;\n",
              "    }\n",
              "\n",
              "    .dataframe thead th {\n",
              "        text-align: right;\n",
              "    }\n",
              "</style>\n",
              "<table border=\"1\" class=\"dataframe\">\n",
              "  <thead>\n",
              "    <tr style=\"text-align: right;\">\n",
              "      <th></th>\n",
              "      <th>reward_id</th>\n",
              "      <th>user_id</th>\n",
              "      <th>date</th>\n",
              "      <th>app_id</th>\n",
              "      <th>Unnamed: 0</th>\n",
              "      <th>offer_id</th>\n",
              "      <th>label_in_english</th>\n",
              "      <th>total_payout_in_paise</th>\n",
              "      <th>total_revenue_in_paise</th>\n",
              "    </tr>\n",
              "  </thead>\n",
              "  <tbody>\n",
              "    <tr>\n",
              "      <th>0</th>\n",
              "      <td>3712</td>\n",
              "      <td>4cb29e43-9f23-42fe-bab8-2422f42e7a91</td>\n",
              "      <td>2022-11-29</td>\n",
              "      <td>sikka</td>\n",
              "      <td>2678</td>\n",
              "      <td>3520</td>\n",
              "      <td>Complete Registration</td>\n",
              "      <td>500</td>\n",
              "      <td>1758</td>\n",
              "    </tr>\n",
              "    <tr>\n",
              "      <th>1</th>\n",
              "      <td>935</td>\n",
              "      <td>4cb29e43-9f23-42fe-bab8-2422f42e7a91</td>\n",
              "      <td>2022-11-29</td>\n",
              "      <td>sikka</td>\n",
              "      <td>441</td>\n",
              "      <td>792</td>\n",
              "      <td>Complete Registration</td>\n",
              "      <td>200</td>\n",
              "      <td>0</td>\n",
              "    </tr>\n",
              "    <tr>\n",
              "      <th>2</th>\n",
              "      <td>935</td>\n",
              "      <td>c925ccad-98e7-4500-833e-a49aa066aeec</td>\n",
              "      <td>2022-11-26</td>\n",
              "      <td>sikka</td>\n",
              "      <td>441</td>\n",
              "      <td>792</td>\n",
              "      <td>Complete Registration</td>\n",
              "      <td>200</td>\n",
              "      <td>0</td>\n",
              "    </tr>\n",
              "    <tr>\n",
              "      <th>3</th>\n",
              "      <td>935</td>\n",
              "      <td>3db62aad-421b-474e-9b1e-8a88ff370d4f</td>\n",
              "      <td>2022-11-26</td>\n",
              "      <td>sikka</td>\n",
              "      <td>441</td>\n",
              "      <td>792</td>\n",
              "      <td>Complete Registration</td>\n",
              "      <td>200</td>\n",
              "      <td>0</td>\n",
              "    </tr>\n",
              "    <tr>\n",
              "      <th>4</th>\n",
              "      <td>935</td>\n",
              "      <td>805763d6-87b3-40c7-bb84-dd663669c836</td>\n",
              "      <td>2022-11-27</td>\n",
              "      <td>sikka_pro</td>\n",
              "      <td>441</td>\n",
              "      <td>792</td>\n",
              "      <td>Complete Registration</td>\n",
              "      <td>200</td>\n",
              "      <td>0</td>\n",
              "    </tr>\n",
              "  </tbody>\n",
              "</table>\n",
              "</div>\n",
              "      <button class=\"colab-df-convert\" onclick=\"convertToInteractive('df-6b1ddbd1-43f5-4b02-8b9e-282a191d322d')\"\n",
              "              title=\"Convert this dataframe to an interactive table.\"\n",
              "              style=\"display:none;\">\n",
              "        \n",
              "  <svg xmlns=\"http://www.w3.org/2000/svg\" height=\"24px\"viewBox=\"0 0 24 24\"\n",
              "       width=\"24px\">\n",
              "    <path d=\"M0 0h24v24H0V0z\" fill=\"none\"/>\n",
              "    <path d=\"M18.56 5.44l.94 2.06.94-2.06 2.06-.94-2.06-.94-.94-2.06-.94 2.06-2.06.94zm-11 1L8.5 8.5l.94-2.06 2.06-.94-2.06-.94L8.5 2.5l-.94 2.06-2.06.94zm10 10l.94 2.06.94-2.06 2.06-.94-2.06-.94-.94-2.06-.94 2.06-2.06.94z\"/><path d=\"M17.41 7.96l-1.37-1.37c-.4-.4-.92-.59-1.43-.59-.52 0-1.04.2-1.43.59L10.3 9.45l-7.72 7.72c-.78.78-.78 2.05 0 2.83L4 21.41c.39.39.9.59 1.41.59.51 0 1.02-.2 1.41-.59l7.78-7.78 2.81-2.81c.8-.78.8-2.07 0-2.86zM5.41 20L4 18.59l7.72-7.72 1.47 1.35L5.41 20z\"/>\n",
              "  </svg>\n",
              "      </button>\n",
              "      \n",
              "  <style>\n",
              "    .colab-df-container {\n",
              "      display:flex;\n",
              "      flex-wrap:wrap;\n",
              "      gap: 12px;\n",
              "    }\n",
              "\n",
              "    .colab-df-convert {\n",
              "      background-color: #E8F0FE;\n",
              "      border: none;\n",
              "      border-radius: 50%;\n",
              "      cursor: pointer;\n",
              "      display: none;\n",
              "      fill: #1967D2;\n",
              "      height: 32px;\n",
              "      padding: 0 0 0 0;\n",
              "      width: 32px;\n",
              "    }\n",
              "\n",
              "    .colab-df-convert:hover {\n",
              "      background-color: #E2EBFA;\n",
              "      box-shadow: 0px 1px 2px rgba(60, 64, 67, 0.3), 0px 1px 3px 1px rgba(60, 64, 67, 0.15);\n",
              "      fill: #174EA6;\n",
              "    }\n",
              "\n",
              "    [theme=dark] .colab-df-convert {\n",
              "      background-color: #3B4455;\n",
              "      fill: #D2E3FC;\n",
              "    }\n",
              "\n",
              "    [theme=dark] .colab-df-convert:hover {\n",
              "      background-color: #434B5C;\n",
              "      box-shadow: 0px 1px 3px 1px rgba(0, 0, 0, 0.15);\n",
              "      filter: drop-shadow(0px 1px 2px rgba(0, 0, 0, 0.3));\n",
              "      fill: #FFFFFF;\n",
              "    }\n",
              "  </style>\n",
              "\n",
              "      <script>\n",
              "        const buttonEl =\n",
              "          document.querySelector('#df-6b1ddbd1-43f5-4b02-8b9e-282a191d322d button.colab-df-convert');\n",
              "        buttonEl.style.display =\n",
              "          google.colab.kernel.accessAllowed ? 'block' : 'none';\n",
              "\n",
              "        async function convertToInteractive(key) {\n",
              "          const element = document.querySelector('#df-6b1ddbd1-43f5-4b02-8b9e-282a191d322d');\n",
              "          const dataTable =\n",
              "            await google.colab.kernel.invokeFunction('convertToInteractive',\n",
              "                                                     [key], {});\n",
              "          if (!dataTable) return;\n",
              "\n",
              "          const docLinkHtml = 'Like what you see? Visit the ' +\n",
              "            '<a target=\"_blank\" href=https://colab.research.google.com/notebooks/data_table.ipynb>data table notebook</a>'\n",
              "            + ' to learn more about interactive tables.';\n",
              "          element.innerHTML = '';\n",
              "          dataTable['output_type'] = 'display_data';\n",
              "          await google.colab.output.renderOutput(dataTable, element);\n",
              "          const docLink = document.createElement('div');\n",
              "          docLink.innerHTML = docLinkHtml;\n",
              "          element.appendChild(docLink);\n",
              "        }\n",
              "      </script>\n",
              "    </div>\n",
              "  </div>\n",
              "  "
            ]
          },
          "metadata": {},
          "execution_count": 196
        }
      ],
      "source": [
        "rewards_earned.head()"
      ],
      "id": "Q9De-wM8olhm"
    },
    {
      "cell_type": "code",
      "execution_count": null,
      "metadata": {
        "colab": {
          "base_uri": "https://localhost:8080/"
        },
        "id": "kfVdBPjTotOd",
        "outputId": "a89c16d3-9fcb-4a7d-ce03-ef46c4264a7d"
      },
      "outputs": [
        {
          "output_type": "execute_result",
          "data": {
            "text/plain": [
              "(70, 9)"
            ]
          },
          "metadata": {},
          "execution_count": 197
        }
      ],
      "source": [
        "rewards_earned.shape"
      ],
      "id": "kfVdBPjTotOd"
    },
    {
      "cell_type": "code",
      "execution_count": null,
      "metadata": {
        "colab": {
          "base_uri": "https://localhost:8080/"
        },
        "id": "03ryN024owo2",
        "outputId": "3137a183-c3a4-4f4c-928d-3e856db7851b"
      },
      "outputs": [
        {
          "output_type": "execute_result",
          "data": {
            "text/plain": [
              "reward_id                 0\n",
              "user_id                   0\n",
              "date                      0\n",
              "app_id                    0\n",
              "Unnamed: 0                0\n",
              "offer_id                  0\n",
              "label_in_english          0\n",
              "total_payout_in_paise     0\n",
              "total_revenue_in_paise    0\n",
              "dtype: int64"
            ]
          },
          "metadata": {},
          "execution_count": 198
        }
      ],
      "source": [
        "rewards_earned.isnull().sum()"
      ],
      "id": "03ryN024owo2"
    },
    {
      "cell_type": "code",
      "execution_count": null,
      "metadata": {
        "id": "lkjn5VOSpLk0"
      },
      "outputs": [],
      "source": [
        "rewards_earned = rewards_earned.drop(\"Unnamed: 0\",axis =1)"
      ],
      "id": "lkjn5VOSpLk0"
    },
    {
      "cell_type": "code",
      "execution_count": null,
      "metadata": {
        "id": "w1dJ3jXmpzli"
      },
      "outputs": [],
      "source": [
        "rewards_earned_per_app = rewards_earned.groupby('app_id')['total_payout_in_paise'].sum().reset_index()"
      ],
      "id": "w1dJ3jXmpzli"
    },
    {
      "cell_type": "code",
      "execution_count": null,
      "metadata": {
        "colab": {
          "base_uri": "https://localhost:8080/",
          "height": 112
        },
        "id": "sWhE5YPLqnrY",
        "outputId": "f3ad127c-f5d5-4c31-cd18-2408f6613856"
      },
      "outputs": [
        {
          "output_type": "execute_result",
          "data": {
            "text/plain": [
              "      app_id  total_payout_in_paise\n",
              "0      sikka                  18466\n",
              "1  sikka_pro                  19618"
            ],
            "text/html": [
              "\n",
              "  <div id=\"df-4cd7aac6-a670-4b96-84c0-8c61c6d02acb\">\n",
              "    <div class=\"colab-df-container\">\n",
              "      <div>\n",
              "<style scoped>\n",
              "    .dataframe tbody tr th:only-of-type {\n",
              "        vertical-align: middle;\n",
              "    }\n",
              "\n",
              "    .dataframe tbody tr th {\n",
              "        vertical-align: top;\n",
              "    }\n",
              "\n",
              "    .dataframe thead th {\n",
              "        text-align: right;\n",
              "    }\n",
              "</style>\n",
              "<table border=\"1\" class=\"dataframe\">\n",
              "  <thead>\n",
              "    <tr style=\"text-align: right;\">\n",
              "      <th></th>\n",
              "      <th>app_id</th>\n",
              "      <th>total_payout_in_paise</th>\n",
              "    </tr>\n",
              "  </thead>\n",
              "  <tbody>\n",
              "    <tr>\n",
              "      <th>0</th>\n",
              "      <td>sikka</td>\n",
              "      <td>18466</td>\n",
              "    </tr>\n",
              "    <tr>\n",
              "      <th>1</th>\n",
              "      <td>sikka_pro</td>\n",
              "      <td>19618</td>\n",
              "    </tr>\n",
              "  </tbody>\n",
              "</table>\n",
              "</div>\n",
              "      <button class=\"colab-df-convert\" onclick=\"convertToInteractive('df-4cd7aac6-a670-4b96-84c0-8c61c6d02acb')\"\n",
              "              title=\"Convert this dataframe to an interactive table.\"\n",
              "              style=\"display:none;\">\n",
              "        \n",
              "  <svg xmlns=\"http://www.w3.org/2000/svg\" height=\"24px\"viewBox=\"0 0 24 24\"\n",
              "       width=\"24px\">\n",
              "    <path d=\"M0 0h24v24H0V0z\" fill=\"none\"/>\n",
              "    <path d=\"M18.56 5.44l.94 2.06.94-2.06 2.06-.94-2.06-.94-.94-2.06-.94 2.06-2.06.94zm-11 1L8.5 8.5l.94-2.06 2.06-.94-2.06-.94L8.5 2.5l-.94 2.06-2.06.94zm10 10l.94 2.06.94-2.06 2.06-.94-2.06-.94-.94-2.06-.94 2.06-2.06.94z\"/><path d=\"M17.41 7.96l-1.37-1.37c-.4-.4-.92-.59-1.43-.59-.52 0-1.04.2-1.43.59L10.3 9.45l-7.72 7.72c-.78.78-.78 2.05 0 2.83L4 21.41c.39.39.9.59 1.41.59.51 0 1.02-.2 1.41-.59l7.78-7.78 2.81-2.81c.8-.78.8-2.07 0-2.86zM5.41 20L4 18.59l7.72-7.72 1.47 1.35L5.41 20z\"/>\n",
              "  </svg>\n",
              "      </button>\n",
              "      \n",
              "  <style>\n",
              "    .colab-df-container {\n",
              "      display:flex;\n",
              "      flex-wrap:wrap;\n",
              "      gap: 12px;\n",
              "    }\n",
              "\n",
              "    .colab-df-convert {\n",
              "      background-color: #E8F0FE;\n",
              "      border: none;\n",
              "      border-radius: 50%;\n",
              "      cursor: pointer;\n",
              "      display: none;\n",
              "      fill: #1967D2;\n",
              "      height: 32px;\n",
              "      padding: 0 0 0 0;\n",
              "      width: 32px;\n",
              "    }\n",
              "\n",
              "    .colab-df-convert:hover {\n",
              "      background-color: #E2EBFA;\n",
              "      box-shadow: 0px 1px 2px rgba(60, 64, 67, 0.3), 0px 1px 3px 1px rgba(60, 64, 67, 0.15);\n",
              "      fill: #174EA6;\n",
              "    }\n",
              "\n",
              "    [theme=dark] .colab-df-convert {\n",
              "      background-color: #3B4455;\n",
              "      fill: #D2E3FC;\n",
              "    }\n",
              "\n",
              "    [theme=dark] .colab-df-convert:hover {\n",
              "      background-color: #434B5C;\n",
              "      box-shadow: 0px 1px 3px 1px rgba(0, 0, 0, 0.15);\n",
              "      filter: drop-shadow(0px 1px 2px rgba(0, 0, 0, 0.3));\n",
              "      fill: #FFFFFF;\n",
              "    }\n",
              "  </style>\n",
              "\n",
              "      <script>\n",
              "        const buttonEl =\n",
              "          document.querySelector('#df-4cd7aac6-a670-4b96-84c0-8c61c6d02acb button.colab-df-convert');\n",
              "        buttonEl.style.display =\n",
              "          google.colab.kernel.accessAllowed ? 'block' : 'none';\n",
              "\n",
              "        async function convertToInteractive(key) {\n",
              "          const element = document.querySelector('#df-4cd7aac6-a670-4b96-84c0-8c61c6d02acb');\n",
              "          const dataTable =\n",
              "            await google.colab.kernel.invokeFunction('convertToInteractive',\n",
              "                                                     [key], {});\n",
              "          if (!dataTable) return;\n",
              "\n",
              "          const docLinkHtml = 'Like what you see? Visit the ' +\n",
              "            '<a target=\"_blank\" href=https://colab.research.google.com/notebooks/data_table.ipynb>data table notebook</a>'\n",
              "            + ' to learn more about interactive tables.';\n",
              "          element.innerHTML = '';\n",
              "          dataTable['output_type'] = 'display_data';\n",
              "          await google.colab.output.renderOutput(dataTable, element);\n",
              "          const docLink = document.createElement('div');\n",
              "          docLink.innerHTML = docLinkHtml;\n",
              "          element.appendChild(docLink);\n",
              "        }\n",
              "      </script>\n",
              "    </div>\n",
              "  </div>\n",
              "  "
            ]
          },
          "metadata": {},
          "execution_count": 201
        }
      ],
      "source": [
        "rewards_earned_per_app"
      ],
      "id": "sWhE5YPLqnrY"
    },
    {
      "cell_type": "code",
      "execution_count": null,
      "metadata": {
        "id": "s4dnMEUgqqIG"
      },
      "outputs": [],
      "source": [
        "num_rewards_earned_per_app = rewards_earned.groupby('app_id')['user_id'].count().reset_index()"
      ],
      "id": "s4dnMEUgqqIG"
    },
    {
      "cell_type": "code",
      "execution_count": null,
      "metadata": {
        "colab": {
          "base_uri": "https://localhost:8080/",
          "height": 112
        },
        "id": "Hmfn94Z6q4pL",
        "outputId": "2bd2bb7b-8999-413c-9a30-4e2ccef5f2ec"
      },
      "outputs": [
        {
          "output_type": "execute_result",
          "data": {
            "text/plain": [
              "      app_id  user_id\n",
              "0      sikka       27\n",
              "1  sikka_pro       43"
            ],
            "text/html": [
              "\n",
              "  <div id=\"df-75fee0f5-33f1-49c4-b7e2-1b816409ffd0\">\n",
              "    <div class=\"colab-df-container\">\n",
              "      <div>\n",
              "<style scoped>\n",
              "    .dataframe tbody tr th:only-of-type {\n",
              "        vertical-align: middle;\n",
              "    }\n",
              "\n",
              "    .dataframe tbody tr th {\n",
              "        vertical-align: top;\n",
              "    }\n",
              "\n",
              "    .dataframe thead th {\n",
              "        text-align: right;\n",
              "    }\n",
              "</style>\n",
              "<table border=\"1\" class=\"dataframe\">\n",
              "  <thead>\n",
              "    <tr style=\"text-align: right;\">\n",
              "      <th></th>\n",
              "      <th>app_id</th>\n",
              "      <th>user_id</th>\n",
              "    </tr>\n",
              "  </thead>\n",
              "  <tbody>\n",
              "    <tr>\n",
              "      <th>0</th>\n",
              "      <td>sikka</td>\n",
              "      <td>27</td>\n",
              "    </tr>\n",
              "    <tr>\n",
              "      <th>1</th>\n",
              "      <td>sikka_pro</td>\n",
              "      <td>43</td>\n",
              "    </tr>\n",
              "  </tbody>\n",
              "</table>\n",
              "</div>\n",
              "      <button class=\"colab-df-convert\" onclick=\"convertToInteractive('df-75fee0f5-33f1-49c4-b7e2-1b816409ffd0')\"\n",
              "              title=\"Convert this dataframe to an interactive table.\"\n",
              "              style=\"display:none;\">\n",
              "        \n",
              "  <svg xmlns=\"http://www.w3.org/2000/svg\" height=\"24px\"viewBox=\"0 0 24 24\"\n",
              "       width=\"24px\">\n",
              "    <path d=\"M0 0h24v24H0V0z\" fill=\"none\"/>\n",
              "    <path d=\"M18.56 5.44l.94 2.06.94-2.06 2.06-.94-2.06-.94-.94-2.06-.94 2.06-2.06.94zm-11 1L8.5 8.5l.94-2.06 2.06-.94-2.06-.94L8.5 2.5l-.94 2.06-2.06.94zm10 10l.94 2.06.94-2.06 2.06-.94-2.06-.94-.94-2.06-.94 2.06-2.06.94z\"/><path d=\"M17.41 7.96l-1.37-1.37c-.4-.4-.92-.59-1.43-.59-.52 0-1.04.2-1.43.59L10.3 9.45l-7.72 7.72c-.78.78-.78 2.05 0 2.83L4 21.41c.39.39.9.59 1.41.59.51 0 1.02-.2 1.41-.59l7.78-7.78 2.81-2.81c.8-.78.8-2.07 0-2.86zM5.41 20L4 18.59l7.72-7.72 1.47 1.35L5.41 20z\"/>\n",
              "  </svg>\n",
              "      </button>\n",
              "      \n",
              "  <style>\n",
              "    .colab-df-container {\n",
              "      display:flex;\n",
              "      flex-wrap:wrap;\n",
              "      gap: 12px;\n",
              "    }\n",
              "\n",
              "    .colab-df-convert {\n",
              "      background-color: #E8F0FE;\n",
              "      border: none;\n",
              "      border-radius: 50%;\n",
              "      cursor: pointer;\n",
              "      display: none;\n",
              "      fill: #1967D2;\n",
              "      height: 32px;\n",
              "      padding: 0 0 0 0;\n",
              "      width: 32px;\n",
              "    }\n",
              "\n",
              "    .colab-df-convert:hover {\n",
              "      background-color: #E2EBFA;\n",
              "      box-shadow: 0px 1px 2px rgba(60, 64, 67, 0.3), 0px 1px 3px 1px rgba(60, 64, 67, 0.15);\n",
              "      fill: #174EA6;\n",
              "    }\n",
              "\n",
              "    [theme=dark] .colab-df-convert {\n",
              "      background-color: #3B4455;\n",
              "      fill: #D2E3FC;\n",
              "    }\n",
              "\n",
              "    [theme=dark] .colab-df-convert:hover {\n",
              "      background-color: #434B5C;\n",
              "      box-shadow: 0px 1px 3px 1px rgba(0, 0, 0, 0.15);\n",
              "      filter: drop-shadow(0px 1px 2px rgba(0, 0, 0, 0.3));\n",
              "      fill: #FFFFFF;\n",
              "    }\n",
              "  </style>\n",
              "\n",
              "      <script>\n",
              "        const buttonEl =\n",
              "          document.querySelector('#df-75fee0f5-33f1-49c4-b7e2-1b816409ffd0 button.colab-df-convert');\n",
              "        buttonEl.style.display =\n",
              "          google.colab.kernel.accessAllowed ? 'block' : 'none';\n",
              "\n",
              "        async function convertToInteractive(key) {\n",
              "          const element = document.querySelector('#df-75fee0f5-33f1-49c4-b7e2-1b816409ffd0');\n",
              "          const dataTable =\n",
              "            await google.colab.kernel.invokeFunction('convertToInteractive',\n",
              "                                                     [key], {});\n",
              "          if (!dataTable) return;\n",
              "\n",
              "          const docLinkHtml = 'Like what you see? Visit the ' +\n",
              "            '<a target=\"_blank\" href=https://colab.research.google.com/notebooks/data_table.ipynb>data table notebook</a>'\n",
              "            + ' to learn more about interactive tables.';\n",
              "          element.innerHTML = '';\n",
              "          dataTable['output_type'] = 'display_data';\n",
              "          await google.colab.output.renderOutput(dataTable, element);\n",
              "          const docLink = document.createElement('div');\n",
              "          docLink.innerHTML = docLinkHtml;\n",
              "          element.appendChild(docLink);\n",
              "        }\n",
              "      </script>\n",
              "    </div>\n",
              "  </div>\n",
              "  "
            ]
          },
          "metadata": {},
          "execution_count": 203
        }
      ],
      "source": [
        "num_rewards_earned_per_app"
      ],
      "id": "Hmfn94Z6q4pL"
    },
    {
      "cell_type": "code",
      "execution_count": null,
      "metadata": {
        "colab": {
          "base_uri": "https://localhost:8080/",
          "height": 296
        },
        "id": "Z7RwvEvxrEsn",
        "outputId": "9a3be5fe-2988-4df3-9707-16795eccd418"
      },
      "outputs": [
        {
          "output_type": "display_data",
          "data": {
            "text/plain": [
              "<Figure size 432x288 with 1 Axes>"
            ],
            "image/png": "[encoded data removed]"
          },
          "metadata": {
            "needs_background": "light"
          }
        }
      ],
      "source": [
        "sns.barplot(y='total_payout_in_paise', x='app_id', data= rewards_earned_per_app, hue='app_id',palette = 'crest')\n",
        "plt.xlabel('App')\n",
        "plt.ylabel('Total Payout')\n",
        "plt.title('Total Payout per App')\n",
        "plt.legend('',frameon=False)\n",
        "plt.show()"
      ],
      "id": "Z7RwvEvxrEsn"
    },
    {
      "cell_type": "code",
      "execution_count": null,
      "metadata": {
        "colab": {
          "base_uri": "https://localhost:8080/",
          "height": 427
        },
        "id": "ek2XgmBZsRe1",
        "outputId": "9f96f2a0-2e54-46a5-a437-f599f192131f"
      },
      "outputs": [
        {
          "output_type": "display_data",
          "data": {
            "text/plain": [
              "<Figure size 504x504 with 1 Axes>"
            ],
            "image/png": "[encoded data removed]"
          },
          "metadata": {}
        }
      ],
      "source": [
        "\n",
        "\n",
        "plt.figure(figsize = [7,7])\n",
        "sns.color_palette(palette=\"Paired\")\n",
        "plt.pie(num_rewards_earned_per_app['user_id'],labels = ['Sikka',\"Sikka Pro\"], autopct='%1.1f%%',colors = ['#96d8b8','#66aa82'])\n",
        "plt.title('Rewards Earned per App')\n",
        "plt.show()"
      ],
      "id": "ek2XgmBZsRe1"
    },
    {
      "cell_type": "markdown",
      "metadata": {
        "id": "z7Mn-8-Ov8vk"
      },
      "source": [
        "Revenue generated per app"
      ],
      "id": "z7Mn-8-Ov8vk"
    },
    {
      "cell_type": "code",
      "execution_count": null,
      "metadata": {
        "id": "Mhxo_nArvK1u"
      },
      "outputs": [],
      "source": [
        "\n",
        "#Merging offer completion data and rewards detaild dataset\n",
        "\n",
        "revenue =pd.merge(user_signup,rewards_earned, on = ['user_id','app_id'])"
      ],
      "id": "Mhxo_nArvK1u"
    },
    {
      "cell_type": "code",
      "execution_count": null,
      "metadata": {
        "colab": {
          "base_uri": "https://localhost:8080/",
          "height": 1000
        },
        "id": "zXS4MuSKw4Ur",
        "outputId": "5846c0c6-f891-45a2-f66b-8a06fe06ad58"
      },
      "outputs": [
        {
          "output_type": "execute_result",
          "data": {
            "text/plain": [
              "                                 user_id     app_id signed_up_on  \\\n",
              "0   c925ccad-98e7-4500-833e-a49aa066aeec      sikka   2022-11-26   \n",
              "1   f55000a3-dd68-44d8-b461-41c85d963ce2      sikka   2022-11-26   \n",
              "2   55e70808-0ed9-44fd-9d87-819ba9dc4d3e      sikka   2022-11-26   \n",
              "3   55e70808-0ed9-44fd-9d87-819ba9dc4d3e      sikka   2022-11-26   \n",
              "4   55e70808-0ed9-44fd-9d87-819ba9dc4d3e      sikka   2022-11-26   \n",
              "..                                   ...        ...          ...   \n",
              "65  805763d6-87b3-40c7-bb84-dd663669c836  sikka_pro   2022-11-26   \n",
              "66  805763d6-87b3-40c7-bb84-dd663669c836  sikka_pro   2022-11-26   \n",
              "67  792b3da8-618b-4bbe-996c-63f45820327a  sikka_pro   2022-11-26   \n",
              "68  0e205d6d-d50b-4dba-a0cd-0355b4f2cc49  sikka_pro   2022-11-26   \n",
              "69  0e205d6d-d50b-4dba-a0cd-0355b4f2cc49  sikka_pro   2022-11-26   \n",
              "\n",
              "   last_login_date  reward_id        date  offer_id        label_in_english  \\\n",
              "0       2022-11-26        935  2022-11-26       792   Complete Registration   \n",
              "1       2022-11-27       3172  2022-11-26      2945                Download   \n",
              "2       2022-11-29        935  2022-11-26       792   Complete Registration   \n",
              "3       2022-11-29       3720  2022-11-27      3528  Complete Registration.   \n",
              "4       2022-11-29       3702  2022-11-26      3510                Register   \n",
              "..             ...        ...         ...       ...                     ...   \n",
              "65      2022-11-27       3156  2022-11-27      2931                Download   \n",
              "66      2022-11-27       3572  2022-11-27      3382                Register   \n",
              "67      2022-11-27       3172  2022-11-26      2945                Download   \n",
              "68      2022-11-29       3722  2022-11-29      3529                 Install   \n",
              "69      2022-11-29       3569  2022-11-29      3379   Complete Registration   \n",
              "\n",
              "    total_payout_in_paise  total_revenue_in_paise  \n",
              "0                     200                       0  \n",
              "1                      34                     100  \n",
              "2                     200                       0  \n",
              "3                     250                     700  \n",
              "4                     600                    2000  \n",
              "..                    ...                     ...  \n",
              "65                     50                     300  \n",
              "66                    800                    4000  \n",
              "67                     34                     100  \n",
              "68                    200                     600  \n",
              "69                    600                    5600  \n",
              "\n",
              "[70 rows x 10 columns]"
            ],
            "text/html": [
              "\n",
              "  <div id=\"df-a3752ab4-7724-4465-a2cf-0322263bbf4c\">\n",
              "    <div class=\"colab-df-container\">\n",
              "      <div>\n",
              "<style scoped>\n",
              "    .dataframe tbody tr th:only-of-type {\n",
              "        vertical-align: middle;\n",
              "    }\n",
              "\n",
              "    .dataframe tbody tr th {\n",
              "        vertical-align: top;\n",
              "    }\n",
              "\n",
              "    .dataframe thead th {\n",
              "        text-align: right;\n",
              "    }\n",
              "</style>\n",
              "<table border=\"1\" class=\"dataframe\">\n",
              "  <thead>\n",
              "    <tr style=\"text-align: right;\">\n",
              "      <th></th>\n",
              "      <th>user_id</th>\n",
              "      <th>app_id</th>\n",
              "      <th>signed_up_on</th>\n",
              "      <th>last_login_date</th>\n",
              "      <th>reward_id</th>\n",
              "      <th>date</th>\n",
              "      <th>offer_id</th>\n",
              "      <th>label_in_english</th>\n",
              "      <th>total_payout_in_paise</th>\n",
              "      <th>total_revenue_in_paise</th>\n",
              "    </tr>\n",
              "  </thead>\n",
              "  <tbody>\n",
              "    <tr>\n",
              "      <th>0</th>\n",
              "      <td>c925ccad-98e7-4500-833e-a49aa066aeec</td>\n",
              "      <td>sikka</td>\n",
              "      <td>2022-11-26</td>\n",
              "      <td>2022-11-26</td>\n",
              "      <td>935</td>\n",
              "      <td>2022-11-26</td>\n",
              "      <td>792</td>\n",
              "      <td>Complete Registration</td>\n",
              "      <td>200</td>\n",
              "      <td>0</td>\n",
              "    </tr>\n",
              "    <tr>\n",
              "      <th>1</th>\n",
              "      <td>f55000a3-dd68-44d8-b461-41c85d963ce2</td>\n",
              "      <td>sikka</td>\n",
              "      <td>2022-11-26</td>\n",
              "      <td>2022-11-27</td>\n",
              "      <td>3172</td>\n",
              "      <td>2022-11-26</td>\n",
              "      <td>2945</td>\n",
              "      <td>Download</td>\n",
              "      <td>34</td>\n",
              "      <td>100</td>\n",
              "    </tr>\n",
              "    <tr>\n",
              "      <th>2</th>\n",
              "      <td>55e70808-0ed9-44fd-9d87-819ba9dc4d3e</td>\n",
              "      <td>sikka</td>\n",
              "      <td>2022-11-26</td>\n",
              "      <td>2022-11-29</td>\n",
              "      <td>935</td>\n",
              "      <td>2022-11-26</td>\n",
              "      <td>792</td>\n",
              "      <td>Complete Registration</td>\n",
              "      <td>200</td>\n",
              "      <td>0</td>\n",
              "    </tr>\n",
              "    <tr>\n",
              "      <th>3</th>\n",
              "      <td>55e70808-0ed9-44fd-9d87-819ba9dc4d3e</td>\n",
              "      <td>sikka</td>\n",
              "      <td>2022-11-26</td>\n",
              "      <td>2022-11-29</td>\n",
              "      <td>3720</td>\n",
              "      <td>2022-11-27</td>\n",
              "      <td>3528</td>\n",
              "      <td>Complete Registration.</td>\n",
              "      <td>250</td>\n",
              "      <td>700</td>\n",
              "    </tr>\n",
              "    <tr>\n",
              "      <th>4</th>\n",
              "      <td>55e70808-0ed9-44fd-9d87-819ba9dc4d3e</td>\n",
              "      <td>sikka</td>\n",
              "      <td>2022-11-26</td>\n",
              "      <td>2022-11-29</td>\n",
              "      <td>3702</td>\n",
              "      <td>2022-11-26</td>\n",
              "      <td>3510</td>\n",
              "      <td>Register</td>\n",
              "      <td>600</td>\n",
              "      <td>2000</td>\n",
              "    </tr>\n",
              "    <tr>\n",
              "      <th>...</th>\n",
              "      <td>...</td>\n",
              "      <td>...</td>\n",
              "      <td>...</td>\n",
              "      <td>...</td>\n",
              "      <td>...</td>\n",
              "      <td>...</td>\n",
              "      <td>...</td>\n",
              "      <td>...</td>\n",
              "      <td>...</td>\n",
              "      <td>...</td>\n",
              "    </tr>\n",
              "    <tr>\n",
              "      <th>65</th>\n",
              "      <td>805763d6-87b3-40c7-bb84-dd663669c836</td>\n",
              "      <td>sikka_pro</td>\n",
              "      <td>2022-11-26</td>\n",
              "      <td>2022-11-27</td>\n",
              "      <td>3156</td>\n",
              "      <td>2022-11-27</td>\n",
              "      <td>2931</td>\n",
              "      <td>Download</td>\n",
              "      <td>50</td>\n",
              "      <td>300</td>\n",
              "    </tr>\n",
              "    <tr>\n",
              "      <th>66</th>\n",
              "      <td>805763d6-87b3-40c7-bb84-dd663669c836</td>\n",
              "      <td>sikka_pro</td>\n",
              "      <td>2022-11-26</td>\n",
              "      <td>2022-11-27</td>\n",
              "      <td>3572</td>\n",
              "      <td>2022-11-27</td>\n",
              "      <td>3382</td>\n",
              "      <td>Register</td>\n",
              "      <td>800</td>\n",
              "      <td>4000</td>\n",
              "    </tr>\n",
              "    <tr>\n",
              "      <th>67</th>\n",
              "      <td>792b3da8-618b-4bbe-996c-63f45820327a</td>\n",
              "      <td>sikka_pro</td>\n",
              "      <td>2022-11-26</td>\n",
              "      <td>2022-11-27</td>\n",
              "      <td>3172</td>\n",
              "      <td>2022-11-26</td>\n",
              "      <td>2945</td>\n",
              "      <td>Download</td>\n",
              "      <td>34</td>\n",
              "      <td>100</td>\n",
              "    </tr>\n",
              "    <tr>\n",
              "      <th>68</th>\n",
              "      <td>0e205d6d-d50b-4dba-a0cd-0355b4f2cc49</td>\n",
              "      <td>sikka_pro</td>\n",
              "      <td>2022-11-26</td>\n",
              "      <td>2022-11-29</td>\n",
              "      <td>3722</td>\n",
              "      <td>2022-11-29</td>\n",
              "      <td>3529</td>\n",
              "      <td>Install</td>\n",
              "      <td>200</td>\n",
              "      <td>600</td>\n",
              "    </tr>\n",
              "    <tr>\n",
              "      <th>69</th>\n",
              "      <td>0e205d6d-d50b-4dba-a0cd-0355b4f2cc49</td>\n",
              "      <td>sikka_pro</td>\n",
              "      <td>2022-11-26</td>\n",
              "      <td>2022-11-29</td>\n",
              "      <td>3569</td>\n",
              "      <td>2022-11-29</td>\n",
              "      <td>3379</td>\n",
              "      <td>Complete Registration</td>\n",
              "      <td>600</td>\n",
              "      <td>5600</td>\n",
              "    </tr>\n",
              "  </tbody>\n",
              "</table>\n",
              "<p>70 rows × 10 columns</p>\n",
              "</div>\n",
              "      <button class=\"colab-df-convert\" onclick=\"convertToInteractive('df-a3752ab4-7724-4465-a2cf-0322263bbf4c')\"\n",
              "              title=\"Convert this dataframe to an interactive table.\"\n",
              "              style=\"display:none;\">\n",
              "        \n",
              "  <svg xmlns=\"http://www.w3.org/2000/svg\" height=\"24px\"viewBox=\"0 0 24 24\"\n",
              "       width=\"24px\">\n",
              "    <path d=\"M0 0h24v24H0V0z\" fill=\"none\"/>\n",
              "    <path d=\"M18.56 5.44l.94 2.06.94-2.06 2.06-.94-2.06-.94-.94-2.06-.94 2.06-2.06.94zm-11 1L8.5 8.5l.94-2.06 2.06-.94-2.06-.94L8.5 2.5l-.94 2.06-2.06.94zm10 10l.94 2.06.94-2.06 2.06-.94-2.06-.94-.94-2.06-.94 2.06-2.06.94z\"/><path d=\"M17.41 7.96l-1.37-1.37c-.4-.4-.92-.59-1.43-.59-.52 0-1.04.2-1.43.59L10.3 9.45l-7.72 7.72c-.78.78-.78 2.05 0 2.83L4 21.41c.39.39.9.59 1.41.59.51 0 1.02-.2 1.41-.59l7.78-7.78 2.81-2.81c.8-.78.8-2.07 0-2.86zM5.41 20L4 18.59l7.72-7.72 1.47 1.35L5.41 20z\"/>\n",
              "  </svg>\n",
              "      </button>\n",
              "      \n",
              "  <style>\n",
              "    .colab-df-container {\n",
              "      display:flex;\n",
              "      flex-wrap:wrap;\n",
              "      gap: 12px;\n",
              "    }\n",
              "\n",
              "    .colab-df-convert {\n",
              "      background-color: #E8F0FE;\n",
              "      border: none;\n",
              "      border-radius: 50%;\n",
              "      cursor: pointer;\n",
              "      display: none;\n",
              "      fill: #1967D2;\n",
              "      height: 32px;\n",
              "      padding: 0 0 0 0;\n",
              "      width: 32px;\n",
              "    }\n",
              "\n",
              "    .colab-df-convert:hover {\n",
              "      background-color: #E2EBFA;\n",
              "      box-shadow: 0px 1px 2px rgba(60, 64, 67, 0.3), 0px 1px 3px 1px rgba(60, 64, 67, 0.15);\n",
              "      fill: #174EA6;\n",
              "    }\n",
              "\n",
              "    [theme=dark] .colab-df-convert {\n",
              "      background-color: #3B4455;\n",
              "      fill: #D2E3FC;\n",
              "    }\n",
              "\n",
              "    [theme=dark] .colab-df-convert:hover {\n",
              "      background-color: #434B5C;\n",
              "      box-shadow: 0px 1px 3px 1px rgba(0, 0, 0, 0.15);\n",
              "      filter: drop-shadow(0px 1px 2px rgba(0, 0, 0, 0.3));\n",
              "      fill: #FFFFFF;\n",
              "    }\n",
              "  </style>\n",
              "\n",
              "      <script>\n",
              "        const buttonEl =\n",
              "          document.querySelector('#df-a3752ab4-7724-4465-a2cf-0322263bbf4c button.colab-df-convert');\n",
              "        buttonEl.style.display =\n",
              "          google.colab.kernel.accessAllowed ? 'block' : 'none';\n",
              "\n",
              "        async function convertToInteractive(key) {\n",
              "          const element = document.querySelector('#df-a3752ab4-7724-4465-a2cf-0322263bbf4c');\n",
              "          const dataTable =\n",
              "            await google.colab.kernel.invokeFunction('convertToInteractive',\n",
              "                                                     [key], {});\n",
              "          if (!dataTable) return;\n",
              "\n",
              "          const docLinkHtml = 'Like what you see? Visit the ' +\n",
              "            '<a target=\"_blank\" href=https://colab.research.google.com/notebooks/data_table.ipynb>data table notebook</a>'\n",
              "            + ' to learn more about interactive tables.';\n",
              "          element.innerHTML = '';\n",
              "          dataTable['output_type'] = 'display_data';\n",
              "          await google.colab.output.renderOutput(dataTable, element);\n",
              "          const docLink = document.createElement('div');\n",
              "          docLink.innerHTML = docLinkHtml;\n",
              "          element.appendChild(docLink);\n",
              "        }\n",
              "      </script>\n",
              "    </div>\n",
              "  </div>\n",
              "  "
            ]
          },
          "metadata": {},
          "execution_count": 207
        }
      ],
      "source": [
        "revenue"
      ],
      "id": "zXS4MuSKw4Ur"
    },
    {
      "cell_type": "code",
      "execution_count": null,
      "metadata": {
        "id": "VNTC1XFCwm8P"
      },
      "outputs": [],
      "source": [
        "revenue_per_app = revenue.groupby(\"app_id\")['total_revenue_in_paise'].sum().reset_index()"
      ],
      "id": "VNTC1XFCwm8P"
    },
    {
      "cell_type": "code",
      "execution_count": null,
      "metadata": {
        "colab": {
          "base_uri": "https://localhost:8080/",
          "height": 427
        },
        "id": "pApIASujxEdG",
        "outputId": "645b3ebe-680e-4f73-90a1-fbef5daac31d"
      },
      "outputs": [
        {
          "output_type": "display_data",
          "data": {
            "text/plain": [
              "<Figure size 504x504 with 1 Axes>"
            ],
            "image/png": "[encoded data removed]"
          },
          "metadata": {}
        }
      ],
      "source": [
        "plt.figure(figsize = [7,7])\n",
        "sns.color_palette(palette=\"Paired\")\n",
        "plt.pie(revenue_per_app['total_revenue_in_paise'],labels = ['Sikka',\"Sikka Pro\"], autopct='%1.1f%%',colors = ['#ce95b2','#5c0432'])\n",
        "plt.title('Revenue generated per App')\n",
        "plt.show()"
      ],
      "id": "pApIASujxEdG"
    },
    {
      "cell_type": "code",
      "execution_count": null,
      "metadata": {
        "id": "3ECKxGQnyEzU"
      },
      "outputs": [],
      "source": [
        "revenue_per_app_per_day = revenue.groupby([\"app_id\",\"last_login_date\"])['total_revenue_in_paise'].sum().reset_index()"
      ],
      "id": "3ECKxGQnyEzU"
    },
    {
      "cell_type": "code",
      "execution_count": null,
      "metadata": {
        "id": "TVcY1nucykXI"
      },
      "outputs": [],
      "source": [
        "revenue_per_app_per_day['total_revenue'] = revenue_per_app_per_day['total_revenue_in_paise']/100"
      ],
      "id": "TVcY1nucykXI"
    },
    {
      "cell_type": "code",
      "execution_count": null,
      "metadata": {
        "colab": {
          "base_uri": "https://localhost:8080/",
          "height": 300
        },
        "id": "lGTiIIuC0gfF",
        "outputId": "d8169946-518d-4449-a8e9-6128f5b53eb3"
      },
      "outputs": [
        {
          "output_type": "execute_result",
          "data": {
            "text/plain": [
              "      app_id last_login_date  total_revenue_in_paise  total_revenue\n",
              "0      sikka      2022-11-26                    2706          27.06\n",
              "1      sikka      2022-11-27                     100           1.00\n",
              "2      sikka      2022-11-28                     800           8.00\n",
              "3      sikka      2022-11-29                   36081         360.81\n",
              "4  sikka_pro      2022-11-26                    6625          66.25\n",
              "5  sikka_pro      2022-11-27                    6600          66.00\n",
              "6  sikka_pro      2022-11-28                    4104          41.04\n",
              "7  sikka_pro      2022-11-29                   23128         231.28"
            ],
            "text/html": [
              "\n",
              "  <div id=\"df-913a3191-dc71-4d5a-b89f-2de3759a2ce0\">\n",
              "    <div class=\"colab-df-container\">\n",
              "      <div>\n",
              "<style scoped>\n",
              "    .dataframe tbody tr th:only-of-type {\n",
              "        vertical-align: middle;\n",
              "    }\n",
              "\n",
              "    .dataframe tbody tr th {\n",
              "        vertical-align: top;\n",
              "    }\n",
              "\n",
              "    .dataframe thead th {\n",
              "        text-align: right;\n",
              "    }\n",
              "</style>\n",
              "<table border=\"1\" class=\"dataframe\">\n",
              "  <thead>\n",
              "    <tr style=\"text-align: right;\">\n",
              "      <th></th>\n",
              "      <th>app_id</th>\n",
              "      <th>last_login_date</th>\n",
              "      <th>total_revenue_in_paise</th>\n",
              "      <th>total_revenue</th>\n",
              "    </tr>\n",
              "  </thead>\n",
              "  <tbody>\n",
              "    <tr>\n",
              "      <th>0</th>\n",
              "      <td>sikka</td>\n",
              "      <td>2022-11-26</td>\n",
              "      <td>2706</td>\n",
              "      <td>27.06</td>\n",
              "    </tr>\n",
              "    <tr>\n",
              "      <th>1</th>\n",
              "      <td>sikka</td>\n",
              "      <td>2022-11-27</td>\n",
              "      <td>100</td>\n",
              "      <td>1.00</td>\n",
              "    </tr>\n",
              "    <tr>\n",
              "      <th>2</th>\n",
              "      <td>sikka</td>\n",
              "      <td>2022-11-28</td>\n",
              "      <td>800</td>\n",
              "      <td>8.00</td>\n",
              "    </tr>\n",
              "    <tr>\n",
              "      <th>3</th>\n",
              "      <td>sikka</td>\n",
              "      <td>2022-11-29</td>\n",
              "      <td>36081</td>\n",
              "      <td>360.81</td>\n",
              "    </tr>\n",
              "    <tr>\n",
              "      <th>4</th>\n",
              "      <td>sikka_pro</td>\n",
              "      <td>2022-11-26</td>\n",
              "      <td>6625</td>\n",
              "      <td>66.25</td>\n",
              "    </tr>\n",
              "    <tr>\n",
              "      <th>5</th>\n",
              "      <td>sikka_pro</td>\n",
              "      <td>2022-11-27</td>\n",
              "      <td>6600</td>\n",
              "      <td>66.00</td>\n",
              "    </tr>\n",
              "    <tr>\n",
              "      <th>6</th>\n",
              "      <td>sikka_pro</td>\n",
              "      <td>2022-11-28</td>\n",
              "      <td>4104</td>\n",
              "      <td>41.04</td>\n",
              "    </tr>\n",
              "    <tr>\n",
              "      <th>7</th>\n",
              "      <td>sikka_pro</td>\n",
              "      <td>2022-11-29</td>\n",
              "      <td>23128</td>\n",
              "      <td>231.28</td>\n",
              "    </tr>\n",
              "  </tbody>\n",
              "</table>\n",
              "</div>\n",
              "      <button class=\"colab-df-convert\" onclick=\"convertToInteractive('df-913a3191-dc71-4d5a-b89f-2de3759a2ce0')\"\n",
              "              title=\"Convert this dataframe to an interactive table.\"\n",
              "              style=\"display:none;\">\n",
              "        \n",
              "  <svg xmlns=\"http://www.w3.org/2000/svg\" height=\"24px\"viewBox=\"0 0 24 24\"\n",
              "       width=\"24px\">\n",
              "    <path d=\"M0 0h24v24H0V0z\" fill=\"none\"/>\n",
              "    <path d=\"M18.56 5.44l.94 2.06.94-2.06 2.06-.94-2.06-.94-.94-2.06-.94 2.06-2.06.94zm-11 1L8.5 8.5l.94-2.06 2.06-.94-2.06-.94L8.5 2.5l-.94 2.06-2.06.94zm10 10l.94 2.06.94-2.06 2.06-.94-2.06-.94-.94-2.06-.94 2.06-2.06.94z\"/><path d=\"M17.41 7.96l-1.37-1.37c-.4-.4-.92-.59-1.43-.59-.52 0-1.04.2-1.43.59L10.3 9.45l-7.72 7.72c-.78.78-.78 2.05 0 2.83L4 21.41c.39.39.9.59 1.41.59.51 0 1.02-.2 1.41-.59l7.78-7.78 2.81-2.81c.8-.78.8-2.07 0-2.86zM5.41 20L4 18.59l7.72-7.72 1.47 1.35L5.41 20z\"/>\n",
              "  </svg>\n",
              "      </button>\n",
              "      \n",
              "  <style>\n",
              "    .colab-df-container {\n",
              "      display:flex;\n",
              "      flex-wrap:wrap;\n",
              "      gap: 12px;\n",
              "    }\n",
              "\n",
              "    .colab-df-convert {\n",
              "      background-color: #E8F0FE;\n",
              "      border: none;\n",
              "      border-radius: 50%;\n",
              "      cursor: pointer;\n",
              "      display: none;\n",
              "      fill: #1967D2;\n",
              "      height: 32px;\n",
              "      padding: 0 0 0 0;\n",
              "      width: 32px;\n",
              "    }\n",
              "\n",
              "    .colab-df-convert:hover {\n",
              "      background-color: #E2EBFA;\n",
              "      box-shadow: 0px 1px 2px rgba(60, 64, 67, 0.3), 0px 1px 3px 1px rgba(60, 64, 67, 0.15);\n",
              "      fill: #174EA6;\n",
              "    }\n",
              "\n",
              "    [theme=dark] .colab-df-convert {\n",
              "      background-color: #3B4455;\n",
              "      fill: #D2E3FC;\n",
              "    }\n",
              "\n",
              "    [theme=dark] .colab-df-convert:hover {\n",
              "      background-color: #434B5C;\n",
              "      box-shadow: 0px 1px 3px 1px rgba(0, 0, 0, 0.15);\n",
              "      filter: drop-shadow(0px 1px 2px rgba(0, 0, 0, 0.3));\n",
              "      fill: #FFFFFF;\n",
              "    }\n",
              "  </style>\n",
              "\n",
              "      <script>\n",
              "        const buttonEl =\n",
              "          document.querySelector('#df-913a3191-dc71-4d5a-b89f-2de3759a2ce0 button.colab-df-convert');\n",
              "        buttonEl.style.display =\n",
              "          google.colab.kernel.accessAllowed ? 'block' : 'none';\n",
              "\n",
              "        async function convertToInteractive(key) {\n",
              "          const element = document.querySelector('#df-913a3191-dc71-4d5a-b89f-2de3759a2ce0');\n",
              "          const dataTable =\n",
              "            await google.colab.kernel.invokeFunction('convertToInteractive',\n",
              "                                                     [key], {});\n",
              "          if (!dataTable) return;\n",
              "\n",
              "          const docLinkHtml = 'Like what you see? Visit the ' +\n",
              "            '<a target=\"_blank\" href=https://colab.research.google.com/notebooks/data_table.ipynb>data table notebook</a>'\n",
              "            + ' to learn more about interactive tables.';\n",
              "          element.innerHTML = '';\n",
              "          dataTable['output_type'] = 'display_data';\n",
              "          await google.colab.output.renderOutput(dataTable, element);\n",
              "          const docLink = document.createElement('div');\n",
              "          docLink.innerHTML = docLinkHtml;\n",
              "          element.appendChild(docLink);\n",
              "        }\n",
              "      </script>\n",
              "    </div>\n",
              "  </div>\n",
              "  "
            ]
          },
          "metadata": {},
          "execution_count": 212
        }
      ],
      "source": [
        "revenue_per_app_per_day"
      ],
      "id": "lGTiIIuC0gfF"
    },
    {
      "cell_type": "code",
      "execution_count": null,
      "metadata": {
        "colab": {
          "base_uri": "https://localhost:8080/",
          "height": 458
        },
        "id": "pfP9EXacymX9",
        "outputId": "409e1316-ff8b-4a41-e1f3-f4b2283806fa"
      },
      "outputs": [
        {
          "output_type": "display_data",
          "data": {
            "text/plain": [
              "<Figure size 576x504 with 1 Axes>"
            ],
            "image/png": "[encoded data removed]"
          },
          "metadata": {
            "needs_background": "light"
          }
        }
      ],
      "source": [
        "\n",
        "plt.figure(figsize= (8,7))\n",
        "sns.barplot(y='total_revenue', x='last_login_date', data=revenue_per_app_per_day, hue='app_id', palette ='mako')\n",
        "plt.xlabel('Date')\n",
        "plt.ylabel('Total Revenue')\n",
        "plt.title('Comparison of App by revenue')\n",
        "plt.show()"
      ],
      "id": "pfP9EXacymX9"
    },
    {
      "cell_type": "markdown",
      "metadata": {
        "id": "agiTfb7WLj_d"
      },
      "source": [
        "# 3.Predicting the number of referrals for the first 15 days of November"
      ],
      "id": "agiTfb7WLj_d"
    },
    {
      "cell_type": "code",
      "execution_count": null,
      "metadata": {
        "id": "yalTmnTCzoXO"
      },
      "outputs": [],
      "source": [
        "#Read the dataset\n",
        "sikka_data = pd.read_csv(\"/content/drive/MyDrive/Greedy Game/Q3_Sikka data.csv\")"
      ],
      "id": "yalTmnTCzoXO"
    },
    {
      "cell_type": "code",
      "execution_count": null,
      "metadata": {
        "colab": {
          "base_uri": "https://localhost:8080/",
          "height": 206
        },
        "id": "Hyr7Hnv5MXEB",
        "outputId": "3d49bddd-5ab9-4b4e-e10b-950cad373f1d"
      },
      "outputs": [
        {
          "output_type": "execute_result",
          "data": {
            "text/plain": [
              "         Date    DAU  Installs  Uninstalls  Signups  Referrals\n",
              "0  01-10-2022  24071      6630        6994     3511      962.0\n",
              "1  02-10-2022  23548      6366        6669     3387      941.0\n",
              "2  03-10-2022  24572      6936        6899     3654      940.0\n",
              "3  04-10-2022  24212      6561        6766     3532      960.0\n",
              "4  05-10-2022  23247      6059        6402     3315      923.0"
            ],
            "text/html": [
              "\n",
              "  <div id=\"df-1277938e-5e26-4f3d-802f-f69474af7649\">\n",
              "    <div class=\"colab-df-container\">\n",
              "      <div>\n",
              "<style scoped>\n",
              "    .dataframe tbody tr th:only-of-type {\n",
              "        vertical-align: middle;\n",
              "    }\n",
              "\n",
              "    .dataframe tbody tr th {\n",
              "        vertical-align: top;\n",
              "    }\n",
              "\n",
              "    .dataframe thead th {\n",
              "        text-align: right;\n",
              "    }\n",
              "</style>\n",
              "<table border=\"1\" class=\"dataframe\">\n",
              "  <thead>\n",
              "    <tr style=\"text-align: right;\">\n",
              "      <th></th>\n",
              "      <th>Date</th>\n",
              "      <th>DAU</th>\n",
              "      <th>Installs</th>\n",
              "      <th>Uninstalls</th>\n",
              "      <th>Signups</th>\n",
              "      <th>Referrals</th>\n",
              "    </tr>\n",
              "  </thead>\n",
              "  <tbody>\n",
              "    <tr>\n",
              "      <th>0</th>\n",
              "      <td>01-10-2022</td>\n",
              "      <td>24071</td>\n",
              "      <td>6630</td>\n",
              "      <td>6994</td>\n",
              "      <td>3511</td>\n",
              "      <td>962.0</td>\n",
              "    </tr>\n",
              "    <tr>\n",
              "      <th>1</th>\n",
              "      <td>02-10-2022</td>\n",
              "      <td>23548</td>\n",
              "      <td>6366</td>\n",
              "      <td>6669</td>\n",
              "      <td>3387</td>\n",
              "      <td>941.0</td>\n",
              "    </tr>\n",
              "    <tr>\n",
              "      <th>2</th>\n",
              "      <td>03-10-2022</td>\n",
              "      <td>24572</td>\n",
              "      <td>6936</td>\n",
              "      <td>6899</td>\n",
              "      <td>3654</td>\n",
              "      <td>940.0</td>\n",
              "    </tr>\n",
              "    <tr>\n",
              "      <th>3</th>\n",
              "      <td>04-10-2022</td>\n",
              "      <td>24212</td>\n",
              "      <td>6561</td>\n",
              "      <td>6766</td>\n",
              "      <td>3532</td>\n",
              "      <td>960.0</td>\n",
              "    </tr>\n",
              "    <tr>\n",
              "      <th>4</th>\n",
              "      <td>05-10-2022</td>\n",
              "      <td>23247</td>\n",
              "      <td>6059</td>\n",
              "      <td>6402</td>\n",
              "      <td>3315</td>\n",
              "      <td>923.0</td>\n",
              "    </tr>\n",
              "  </tbody>\n",
              "</table>\n",
              "</div>\n",
              "      <button class=\"colab-df-convert\" onclick=\"convertToInteractive('df-1277938e-5e26-4f3d-802f-f69474af7649')\"\n",
              "              title=\"Convert this dataframe to an interactive table.\"\n",
              "              style=\"display:none;\">\n",
              "        \n",
              "  <svg xmlns=\"http://www.w3.org/2000/svg\" height=\"24px\"viewBox=\"0 0 24 24\"\n",
              "       width=\"24px\">\n",
              "    <path d=\"M0 0h24v24H0V0z\" fill=\"none\"/>\n",
              "    <path d=\"M18.56 5.44l.94 2.06.94-2.06 2.06-.94-2.06-.94-.94-2.06-.94 2.06-2.06.94zm-11 1L8.5 8.5l.94-2.06 2.06-.94-2.06-.94L8.5 2.5l-.94 2.06-2.06.94zm10 10l.94 2.06.94-2.06 2.06-.94-2.06-.94-.94-2.06-.94 2.06-2.06.94z\"/><path d=\"M17.41 7.96l-1.37-1.37c-.4-.4-.92-.59-1.43-.59-.52 0-1.04.2-1.43.59L10.3 9.45l-7.72 7.72c-.78.78-.78 2.05 0 2.83L4 21.41c.39.39.9.59 1.41.59.51 0 1.02-.2 1.41-.59l7.78-7.78 2.81-2.81c.8-.78.8-2.07 0-2.86zM5.41 20L4 18.59l7.72-7.72 1.47 1.35L5.41 20z\"/>\n",
              "  </svg>\n",
              "      </button>\n",
              "      \n",
              "  <style>\n",
              "    .colab-df-container {\n",
              "      display:flex;\n",
              "      flex-wrap:wrap;\n",
              "      gap: 12px;\n",
              "    }\n",
              "\n",
              "    .colab-df-convert {\n",
              "      background-color: #E8F0FE;\n",
              "      border: none;\n",
              "      border-radius: 50%;\n",
              "      cursor: pointer;\n",
              "      display: none;\n",
              "      fill: #1967D2;\n",
              "      height: 32px;\n",
              "      padding: 0 0 0 0;\n",
              "      width: 32px;\n",
              "    }\n",
              "\n",
              "    .colab-df-convert:hover {\n",
              "      background-color: #E2EBFA;\n",
              "      box-shadow: 0px 1px 2px rgba(60, 64, 67, 0.3), 0px 1px 3px 1px rgba(60, 64, 67, 0.15);\n",
              "      fill: #174EA6;\n",
              "    }\n",
              "\n",
              "    [theme=dark] .colab-df-convert {\n",
              "      background-color: #3B4455;\n",
              "      fill: #D2E3FC;\n",
              "    }\n",
              "\n",
              "    [theme=dark] .colab-df-convert:hover {\n",
              "      background-color: #434B5C;\n",
              "      box-shadow: 0px 1px 3px 1px rgba(0, 0, 0, 0.15);\n",
              "      filter: drop-shadow(0px 1px 2px rgba(0, 0, 0, 0.3));\n",
              "      fill: #FFFFFF;\n",
              "    }\n",
              "  </style>\n",
              "\n",
              "      <script>\n",
              "        const buttonEl =\n",
              "          document.querySelector('#df-1277938e-5e26-4f3d-802f-f69474af7649 button.colab-df-convert');\n",
              "        buttonEl.style.display =\n",
              "          google.colab.kernel.accessAllowed ? 'block' : 'none';\n",
              "\n",
              "        async function convertToInteractive(key) {\n",
              "          const element = document.querySelector('#df-1277938e-5e26-4f3d-802f-f69474af7649');\n",
              "          const dataTable =\n",
              "            await google.colab.kernel.invokeFunction('convertToInteractive',\n",
              "                                                     [key], {});\n",
              "          if (!dataTable) return;\n",
              "\n",
              "          const docLinkHtml = 'Like what you see? Visit the ' +\n",
              "            '<a target=\"_blank\" href=https://colab.research.google.com/notebooks/data_table.ipynb>data table notebook</a>'\n",
              "            + ' to learn more about interactive tables.';\n",
              "          element.innerHTML = '';\n",
              "          dataTable['output_type'] = 'display_data';\n",
              "          await google.colab.output.renderOutput(dataTable, element);\n",
              "          const docLink = document.createElement('div');\n",
              "          docLink.innerHTML = docLinkHtml;\n",
              "          element.appendChild(docLink);\n",
              "        }\n",
              "      </script>\n",
              "    </div>\n",
              "  </div>\n",
              "  "
            ]
          },
          "metadata": {},
          "execution_count": 215
        }
      ],
      "source": [
        "#Top five rows\n",
        "sikka_data.head()"
      ],
      "id": "Hyr7Hnv5MXEB"
    },
    {
      "cell_type": "code",
      "execution_count": null,
      "metadata": {
        "id": "-OnaGeJLO6Sm"
      },
      "outputs": [],
      "source": [
        "#converting into datetime type\n",
        "sikka_data['Date'] = pd.to_datetime(sikka_data['Date']).dt.date"
      ],
      "id": "-OnaGeJLO6Sm"
    },
    {
      "cell_type": "code",
      "execution_count": null,
      "metadata": {
        "id": "ourmU3MXPIGb"
      },
      "outputs": [],
      "source": [
        "# Create lagged variables for Referrals, Installs, Uninstalls, Signups, and DAU\n",
        "sikka_data['Referrals_lag1'] = sikka_data['Referrals'].shift(1)\n",
        "sikka_data['Referrals_lag2'] = sikka_data['Referrals'].shift(2)\n",
        "sikka_data['Referrals_lag3'] = sikka_data['Referrals'].shift(3)\n",
        "\n",
        "sikka_data['Installs_lag1'] = sikka_data['Installs'].shift(1)\n",
        "sikka_data['Installs_lag2'] = sikka_data['Installs'].shift(2)\n",
        "sikka_data['Installs_lag3'] = sikka_data['Installs'].shift(3)\n",
        "\n",
        "sikka_data['Uninstalls_lag1'] = sikka_data['Uninstalls'].shift(1)\n",
        "sikka_data['Uninstalls_lag2'] = sikka_data['Uninstalls'].shift(2)\n",
        "sikka_data['Uninstalls_lag3'] = sikka_data['Uninstalls'].shift(3)\n",
        "\n",
        "sikka_data['Signups_lag1'] = sikka_data['Signups'].shift(1)\n",
        "sikka_data['Signups_lag2'] = sikka_data['Signups'].shift(2)\n",
        "sikka_data['Signups_lag3'] = sikka_data['Signups'].shift(3)\n",
        "\n",
        "sikka_data['DAU_lag1'] = sikka_data['DAU'].shift(1)\n",
        "sikka_data['DAU_lag2'] = sikka_data['DAU'].shift(2)\n",
        "sikka_data['DAU_lag3'] = sikka_data['DAU'].shift(3)\n",
        "\n",
        "# # Drop the rows with missing values\n",
        "# sikka_data.dropna(inplace=True)"
      ],
      "id": "ourmU3MXPIGb"
    },
    {
      "cell_type": "code",
      "execution_count": null,
      "metadata": {
        "colab": {
          "base_uri": "https://localhost:8080/",
          "height": 386
        },
        "id": "mag3gxWURIL9",
        "outputId": "d2988e72-6c29-40f9-8720-540ce8beb715"
      },
      "outputs": [
        {
          "output_type": "execute_result",
          "data": {
            "text/plain": [
              "         Date    DAU  Installs  Uninstalls  Signups  Referrals  \\\n",
              "0  2022-01-10  24071      6630        6994     3511      962.0   \n",
              "1  2022-02-10  23548      6366        6669     3387      941.0   \n",
              "2  2022-03-10  24572      6936        6899     3654      940.0   \n",
              "3  2022-04-10  24212      6561        6766     3532      960.0   \n",
              "4  2022-05-10  23247      6059        6402     3315      923.0   \n",
              "\n",
              "   Referrals_lag1  Referrals_lag2  Referrals_lag3  Installs_lag1  ...  \\\n",
              "0             NaN             NaN             NaN            NaN  ...   \n",
              "1           962.0             NaN             NaN         6630.0  ...   \n",
              "2           941.0           962.0             NaN         6366.0  ...   \n",
              "3           940.0           941.0           962.0         6936.0  ...   \n",
              "4           960.0           940.0           941.0         6561.0  ...   \n",
              "\n",
              "   Installs_lag3  Uninstalls_lag1  Uninstalls_lag2  Uninstalls_lag3  \\\n",
              "0            NaN              NaN              NaN              NaN   \n",
              "1            NaN           6994.0              NaN              NaN   \n",
              "2            NaN           6669.0           6994.0              NaN   \n",
              "3         6630.0           6899.0           6669.0           6994.0   \n",
              "4         6366.0           6766.0           6899.0           6669.0   \n",
              "\n",
              "   Signups_lag1  Signups_lag2  Signups_lag3  DAU_lag1  DAU_lag2  DAU_lag3  \n",
              "0           NaN           NaN           NaN       NaN       NaN       NaN  \n",
              "1        3511.0           NaN           NaN   24071.0       NaN       NaN  \n",
              "2        3387.0        3511.0           NaN   23548.0   24071.0       NaN  \n",
              "3        3654.0        3387.0        3511.0   24572.0   23548.0   24071.0  \n",
              "4        3532.0        3654.0        3387.0   24212.0   24572.0   23548.0  \n",
              "\n",
              "[5 rows x 21 columns]"
            ],
            "text/html": [
              "\n",
              "  <div id=\"df-d7170331-bd52-4385-acf2-026b098087e5\">\n",
              "    <div class=\"colab-df-container\">\n",
              "      <div>\n",
              "<style scoped>\n",
              "    .dataframe tbody tr th:only-of-type {\n",
              "        vertical-align: middle;\n",
              "    }\n",
              "\n",
              "    .dataframe tbody tr th {\n",
              "        vertical-align: top;\n",
              "    }\n",
              "\n",
              "    .dataframe thead th {\n",
              "        text-align: right;\n",
              "    }\n",
              "</style>\n",
              "<table border=\"1\" class=\"dataframe\">\n",
              "  <thead>\n",
              "    <tr style=\"text-align: right;\">\n",
              "      <th></th>\n",
              "      <th>Date</th>\n",
              "      <th>DAU</th>\n",
              "      <th>Installs</th>\n",
              "      <th>Uninstalls</th>\n",
              "      <th>Signups</th>\n",
              "      <th>Referrals</th>\n",
              "      <th>Referrals_lag1</th>\n",
              "      <th>Referrals_lag2</th>\n",
              "      <th>Referrals_lag3</th>\n",
              "      <th>Installs_lag1</th>\n",
              "      <th>...</th>\n",
              "      <th>Installs_lag3</th>\n",
              "      <th>Uninstalls_lag1</th>\n",
              "      <th>Uninstalls_lag2</th>\n",
              "      <th>Uninstalls_lag3</th>\n",
              "      <th>Signups_lag1</th>\n",
              "      <th>Signups_lag2</th>\n",
              "      <th>Signups_lag3</th>\n",
              "      <th>DAU_lag1</th>\n",
              "      <th>DAU_lag2</th>\n",
              "      <th>DAU_lag3</th>\n",
              "    </tr>\n",
              "  </thead>\n",
              "  <tbody>\n",
              "    <tr>\n",
              "      <th>0</th>\n",
              "      <td>2022-01-10</td>\n",
              "      <td>24071</td>\n",
              "      <td>6630</td>\n",
              "      <td>6994</td>\n",
              "      <td>3511</td>\n",
              "      <td>962.0</td>\n",
              "      <td>NaN</td>\n",
              "      <td>NaN</td>\n",
              "      <td>NaN</td>\n",
              "      <td>NaN</td>\n",
              "      <td>...</td>\n",
              "      <td>NaN</td>\n",
              "      <td>NaN</td>\n",
              "      <td>NaN</td>\n",
              "      <td>NaN</td>\n",
              "      <td>NaN</td>\n",
              "      <td>NaN</td>\n",
              "      <td>NaN</td>\n",
              "      <td>NaN</td>\n",
              "      <td>NaN</td>\n",
              "      <td>NaN</td>\n",
              "    </tr>\n",
              "    <tr>\n",
              "      <th>1</th>\n",
              "      <td>2022-02-10</td>\n",
              "      <td>23548</td>\n",
              "      <td>6366</td>\n",
              "      <td>6669</td>\n",
              "      <td>3387</td>\n",
              "      <td>941.0</td>\n",
              "      <td>962.0</td>\n",
              "      <td>NaN</td>\n",
              "      <td>NaN</td>\n",
              "      <td>6630.0</td>\n",
              "      <td>...</td>\n",
              "      <td>NaN</td>\n",
              "      <td>6994.0</td>\n",
              "      <td>NaN</td>\n",
              "      <td>NaN</td>\n",
              "      <td>3511.0</td>\n",
              "      <td>NaN</td>\n",
              "      <td>NaN</td>\n",
              "      <td>24071.0</td>\n",
              "      <td>NaN</td>\n",
              "      <td>NaN</td>\n",
              "    </tr>\n",
              "    <tr>\n",
              "      <th>2</th>\n",
              "      <td>2022-03-10</td>\n",
              "      <td>24572</td>\n",
              "      <td>6936</td>\n",
              "      <td>6899</td>\n",
              "      <td>3654</td>\n",
              "      <td>940.0</td>\n",
              "      <td>941.0</td>\n",
              "      <td>962.0</td>\n",
              "      <td>NaN</td>\n",
              "      <td>6366.0</td>\n",
              "      <td>...</td>\n",
              "      <td>NaN</td>\n",
              "      <td>6669.0</td>\n",
              "      <td>6994.0</td>\n",
              "      <td>NaN</td>\n",
              "      <td>3387.0</td>\n",
              "      <td>3511.0</td>\n",
              "      <td>NaN</td>\n",
              "      <td>23548.0</td>\n",
              "      <td>24071.0</td>\n",
              "      <td>NaN</td>\n",
              "    </tr>\n",
              "    <tr>\n",
              "      <th>3</th>\n",
              "      <td>2022-04-10</td>\n",
              "      <td>24212</td>\n",
              "      <td>6561</td>\n",
              "      <td>6766</td>\n",
              "      <td>3532</td>\n",
              "      <td>960.0</td>\n",
              "      <td>940.0</td>\n",
              "      <td>941.0</td>\n",
              "      <td>962.0</td>\n",
              "      <td>6936.0</td>\n",
              "      <td>...</td>\n",
              "      <td>6630.0</td>\n",
              "      <td>6899.0</td>\n",
              "      <td>6669.0</td>\n",
              "      <td>6994.0</td>\n",
              "      <td>3654.0</td>\n",
              "      <td>3387.0</td>\n",
              "      <td>3511.0</td>\n",
              "      <td>24572.0</td>\n",
              "      <td>23548.0</td>\n",
              "      <td>24071.0</td>\n",
              "    </tr>\n",
              "    <tr>\n",
              "      <th>4</th>\n",
              "      <td>2022-05-10</td>\n",
              "      <td>23247</td>\n",
              "      <td>6059</td>\n",
              "      <td>6402</td>\n",
              "      <td>3315</td>\n",
              "      <td>923.0</td>\n",
              "      <td>960.0</td>\n",
              "      <td>940.0</td>\n",
              "      <td>941.0</td>\n",
              "      <td>6561.0</td>\n",
              "      <td>...</td>\n",
              "      <td>6366.0</td>\n",
              "      <td>6766.0</td>\n",
              "      <td>6899.0</td>\n",
              "      <td>6669.0</td>\n",
              "      <td>3532.0</td>\n",
              "      <td>3654.0</td>\n",
              "      <td>3387.0</td>\n",
              "      <td>24212.0</td>\n",
              "      <td>24572.0</td>\n",
              "      <td>23548.0</td>\n",
              "    </tr>\n",
              "  </tbody>\n",
              "</table>\n",
              "<p>5 rows × 21 columns</p>\n",
              "</div>\n",
              "      <button class=\"colab-df-convert\" onclick=\"convertToInteractive('df-d7170331-bd52-4385-acf2-026b098087e5')\"\n",
              "              title=\"Convert this dataframe to an interactive table.\"\n",
              "              style=\"display:none;\">\n",
              "        \n",
              "  <svg xmlns=\"http://www.w3.org/2000/svg\" height=\"24px\"viewBox=\"0 0 24 24\"\n",
              "       width=\"24px\">\n",
              "    <path d=\"M0 0h24v24H0V0z\" fill=\"none\"/>\n",
              "    <path d=\"M18.56 5.44l.94 2.06.94-2.06 2.06-.94-2.06-.94-.94-2.06-.94 2.06-2.06.94zm-11 1L8.5 8.5l.94-2.06 2.06-.94-2.06-.94L8.5 2.5l-.94 2.06-2.06.94zm10 10l.94 2.06.94-2.06 2.06-.94-2.06-.94-.94-2.06-.94 2.06-2.06.94z\"/><path d=\"M17.41 7.96l-1.37-1.37c-.4-.4-.92-.59-1.43-.59-.52 0-1.04.2-1.43.59L10.3 9.45l-7.72 7.72c-.78.78-.78 2.05 0 2.83L4 21.41c.39.39.9.59 1.41.59.51 0 1.02-.2 1.41-.59l7.78-7.78 2.81-2.81c.8-.78.8-2.07 0-2.86zM5.41 20L4 18.59l7.72-7.72 1.47 1.35L5.41 20z\"/>\n",
              "  </svg>\n",
              "      </button>\n",
              "      \n",
              "  <style>\n",
              "    .colab-df-container {\n",
              "      display:flex;\n",
              "      flex-wrap:wrap;\n",
              "      gap: 12px;\n",
              "    }\n",
              "\n",
              "    .colab-df-convert {\n",
              "      background-color: #E8F0FE;\n",
              "      border: none;\n",
              "      border-radius: 50%;\n",
              "      cursor: pointer;\n",
              "      display: none;\n",
              "      fill: #1967D2;\n",
              "      height: 32px;\n",
              "      padding: 0 0 0 0;\n",
              "      width: 32px;\n",
              "    }\n",
              "\n",
              "    .colab-df-convert:hover {\n",
              "      background-color: #E2EBFA;\n",
              "      box-shadow: 0px 1px 2px rgba(60, 64, 67, 0.3), 0px 1px 3px 1px rgba(60, 64, 67, 0.15);\n",
              "      fill: #174EA6;\n",
              "    }\n",
              "\n",
              "    [theme=dark] .colab-df-convert {\n",
              "      background-color: #3B4455;\n",
              "      fill: #D2E3FC;\n",
              "    }\n",
              "\n",
              "    [theme=dark] .colab-df-convert:hover {\n",
              "      background-color: #434B5C;\n",
              "      box-shadow: 0px 1px 3px 1px rgba(0, 0, 0, 0.15);\n",
              "      filter: drop-shadow(0px 1px 2px rgba(0, 0, 0, 0.3));\n",
              "      fill: #FFFFFF;\n",
              "    }\n",
              "  </style>\n",
              "\n",
              "      <script>\n",
              "        const buttonEl =\n",
              "          document.querySelector('#df-d7170331-bd52-4385-acf2-026b098087e5 button.colab-df-convert');\n",
              "        buttonEl.style.display =\n",
              "          google.colab.kernel.accessAllowed ? 'block' : 'none';\n",
              "\n",
              "        async function convertToInteractive(key) {\n",
              "          const element = document.querySelector('#df-d7170331-bd52-4385-acf2-026b098087e5');\n",
              "          const dataTable =\n",
              "            await google.colab.kernel.invokeFunction('convertToInteractive',\n",
              "                                                     [key], {});\n",
              "          if (!dataTable) return;\n",
              "\n",
              "          const docLinkHtml = 'Like what you see? Visit the ' +\n",
              "            '<a target=\"_blank\" href=https://colab.research.google.com/notebooks/data_table.ipynb>data table notebook</a>'\n",
              "            + ' to learn more about interactive tables.';\n",
              "          element.innerHTML = '';\n",
              "          dataTable['output_type'] = 'display_data';\n",
              "          await google.colab.output.renderOutput(dataTable, element);\n",
              "          const docLink = document.createElement('div');\n",
              "          docLink.innerHTML = docLinkHtml;\n",
              "          element.appendChild(docLink);\n",
              "        }\n",
              "      </script>\n",
              "    </div>\n",
              "  </div>\n",
              "  "
            ]
          },
          "metadata": {},
          "execution_count": 218
        }
      ],
      "source": [
        "sikka_data.head()"
      ],
      "id": "mag3gxWURIL9"
    },
    {
      "cell_type": "code",
      "execution_count": null,
      "metadata": {
        "id": "LNy40538aiKv"
      },
      "outputs": [],
      "source": [
        "sikka_data.drop(sikka_data.index[:3], inplace=True)"
      ],
      "id": "LNy40538aiKv"
    },
    {
      "cell_type": "code",
      "execution_count": null,
      "metadata": {
        "colab": {
          "base_uri": "https://localhost:8080/"
        },
        "id": "vheWfgOZRLeO",
        "outputId": "21d864be-231e-4240-9137-ebdac0a3e178"
      },
      "outputs": [
        {
          "output_type": "execute_result",
          "data": {
            "text/plain": [
              "Index(['Date', 'DAU', 'Installs', 'Uninstalls', 'Signups', 'Referrals',\n",
              "       'Referrals_lag1', 'Referrals_lag2', 'Referrals_lag3', 'Installs_lag1',\n",
              "       'Installs_lag2', 'Installs_lag3', 'Uninstalls_lag1', 'Uninstalls_lag2',\n",
              "       'Uninstalls_lag3', 'Signups_lag1', 'Signups_lag2', 'Signups_lag3',\n",
              "       'DAU_lag1', 'DAU_lag2', 'DAU_lag3'],\n",
              "      dtype='object')"
            ]
          },
          "metadata": {},
          "execution_count": 220
        }
      ],
      "source": [
        "sikka_data.columns"
      ],
      "id": "vheWfgOZRLeO"
    },
    {
      "cell_type": "code",
      "execution_count": null,
      "metadata": {
        "id": "nQ0lUDBSRcSf"
      },
      "outputs": [],
      "source": [
        "# separate the input features (lagged data) and the output (referrals)\n",
        "X = sikka_data[['DAU_lag1', 'DAU_lag2', 'DAU_lag3', 'Installs_lag1', 'Installs_lag2', 'Installs_lag3',\n",
        "        'Uninstalls_lag1', 'Uninstalls_lag2', 'Uninstalls_lag3', 'Signups_lag1', 'Signups_lag2',\n",
        "        'Signups_lag3']]\n",
        "y = sikka_data['Referrals']"
      ],
      "id": "nQ0lUDBSRcSf"
    },
    {
      "cell_type": "code",
      "execution_count": null,
      "metadata": {
        "id": "wMNlVlqVTVzu"
      },
      "outputs": [],
      "source": [
        "X_train = X.iloc[:-15, 1:-1]\n",
        "y_train = y.iloc[:-15]\n",
        "X_test = X.iloc[-15:, 1:-1]"
      ],
      "id": "wMNlVlqVTVzu"
    },
    {
      "cell_type": "code",
      "execution_count": null,
      "metadata": {
        "colab": {
          "base_uri": "https://localhost:8080/"
        },
        "id": "WcnI_0qNTDag",
        "outputId": "94ccb55c-d59f-4458-e0ae-fa59dd695379"
      },
      "outputs": [
        {
          "output_type": "execute_result",
          "data": {
            "text/plain": [
              "LinearRegression()"
            ]
          },
          "metadata": {},
          "execution_count": 223
        }
      ],
      "source": [
        "# fit the linear regression model\n",
        "from sklearn.linear_model import LinearRegression\n",
        "model = LinearRegression()\n",
        "model.fit(X_train, y_train)"
      ],
      "id": "WcnI_0qNTDag"
    },
    {
      "cell_type": "code",
      "execution_count": null,
      "metadata": {
        "colab": {
          "base_uri": "https://localhost:8080/"
        },
        "id": "mlVeoFFcb20q",
        "outputId": "d96420a3-b4bb-449f-ad67-749eb8359d02"
      },
      "outputs": [
        {
          "output_type": "execute_result",
          "data": {
            "text/plain": [
              "Index(['DAU_lag2', 'DAU_lag3', 'Installs_lag1', 'Installs_lag2',\n",
              "       'Installs_lag3', 'Uninstalls_lag1', 'Uninstalls_lag2',\n",
              "       'Uninstalls_lag3', 'Signups_lag1', 'Signups_lag2'],\n",
              "      dtype='object')"
            ]
          },
          "metadata": {},
          "execution_count": 224
        }
      ],
      "source": [
        "X_test.columns"
      ],
      "id": "mlVeoFFcb20q"
    },
    {
      "cell_type": "code",
      "execution_count": null,
      "metadata": {
        "id": "PrfOClVbTRk5"
      },
      "outputs": [],
      "source": [
        "y_pred = model.predict(X_test)"
      ],
      "id": "PrfOClVbTRk5"
    },
    {
      "cell_type": "code",
      "execution_count": null,
      "metadata": {
        "colab": {
          "base_uri": "https://localhost:8080/"
        },
        "id": "2IvepWvDT2ix",
        "outputId": "15ded044-33d3-4764-b653-4edd5720c040"
      },
      "outputs": [
        {
          "output_type": "stream",
          "name": "stdout",
          "text": [
            "Predicted number of referrals for the first 15 days of November:\n",
            "[414.92742246 430.65958968 461.80553207 503.01994473 467.7958955\n",
            " 502.30764093 511.4636717  471.56708182 532.83000326 574.46430482\n",
            " 837.78249858 598.21200049 666.62957078 687.57332909 562.0378825 ]\n"
          ]
        }
      ],
      "source": [
        "print(\"Predicted number of referrals for the first 15 days of November:\")\n",
        "print(y_pred)"
      ],
      "id": "2IvepWvDT2ix"
    },
    {
      "cell_type": "code",
      "execution_count": null,
      "metadata": {
        "id": "Ek3xg2pyYYMr"
      },
      "outputs": [],
      "source": [
        "df = sikka_data['Date'][-15:] "
      ],
      "id": "Ek3xg2pyYYMr"
    },
    {
      "cell_type": "code",
      "execution_count": null,
      "metadata": {
        "id": "P3t511hOYOtq"
      },
      "outputs": [],
      "source": [
        "df = pd.DataFrame(df)"
      ],
      "id": "P3t511hOYOtq"
    },
    {
      "cell_type": "code",
      "execution_count": null,
      "metadata": {
        "id": "Iargy36XZD7m"
      },
      "outputs": [],
      "source": [
        "df['Predicted_Referrals'] = y_pred"
      ],
      "id": "Iargy36XZD7m"
    },
    {
      "cell_type": "code",
      "execution_count": null,
      "metadata": {
        "colab": {
          "base_uri": "https://localhost:8080/",
          "height": 519
        },
        "id": "xQyjySFyZYa6",
        "outputId": "572a4db5-a58d-45d7-8342-434e11f054fd"
      },
      "outputs": [
        {
          "output_type": "execute_result",
          "data": {
            "text/plain": [
              "          Date  Predicted_Referrals\n",
              "31  2022-01-11           414.927422\n",
              "32  2022-02-11           430.659590\n",
              "33  2022-03-11           461.805532\n",
              "34  2022-04-11           503.019945\n",
              "35  2022-05-11           467.795895\n",
              "36  2022-06-11           502.307641\n",
              "37  2022-07-11           511.463672\n",
              "38  2022-08-11           471.567082\n",
              "39  2022-09-11           532.830003\n",
              "40  2022-10-11           574.464305\n",
              "41  2022-11-11           837.782499\n",
              "42  2022-12-11           598.212000\n",
              "43  2022-11-13           666.629571\n",
              "44  2022-11-14           687.573329\n",
              "45  2022-11-15           562.037882"
            ],
            "text/html": [
              "\n",
              "  <div id=\"df-7678b589-4592-4b2e-8a3e-a419a2631980\">\n",
              "    <div class=\"colab-df-container\">\n",
              "      <div>\n",
              "<style scoped>\n",
              "    .dataframe tbody tr th:only-of-type {\n",
              "        vertical-align: middle;\n",
              "    }\n",
              "\n",
              "    .dataframe tbody tr th {\n",
              "        vertical-align: top;\n",
              "    }\n",
              "\n",
              "    .dataframe thead th {\n",
              "        text-align: right;\n",
              "    }\n",
              "</style>\n",
              "<table border=\"1\" class=\"dataframe\">\n",
              "  <thead>\n",
              "    <tr style=\"text-align: right;\">\n",
              "      <th></th>\n",
              "      <th>Date</th>\n",
              "      <th>Predicted_Referrals</th>\n",
              "    </tr>\n",
              "  </thead>\n",
              "  <tbody>\n",
              "    <tr>\n",
              "      <th>31</th>\n",
              "      <td>2022-01-11</td>\n",
              "      <td>414.927422</td>\n",
              "    </tr>\n",
              "    <tr>\n",
              "      <th>32</th>\n",
              "      <td>2022-02-11</td>\n",
              "      <td>430.659590</td>\n",
              "    </tr>\n",
              "    <tr>\n",
              "      <th>33</th>\n",
              "      <td>2022-03-11</td>\n",
              "      <td>461.805532</td>\n",
              "    </tr>\n",
              "    <tr>\n",
              "      <th>34</th>\n",
              "      <td>2022-04-11</td>\n",
              "      <td>503.019945</td>\n",
              "    </tr>\n",
              "    <tr>\n",
              "      <th>35</th>\n",
              "      <td>2022-05-11</td>\n",
              "      <td>467.795895</td>\n",
              "    </tr>\n",
              "    <tr>\n",
              "      <th>36</th>\n",
              "      <td>2022-06-11</td>\n",
              "      <td>502.307641</td>\n",
              "    </tr>\n",
              "    <tr>\n",
              "      <th>37</th>\n",
              "      <td>2022-07-11</td>\n",
              "      <td>511.463672</td>\n",
              "    </tr>\n",
              "    <tr>\n",
              "      <th>38</th>\n",
              "      <td>2022-08-11</td>\n",
              "      <td>471.567082</td>\n",
              "    </tr>\n",
              "    <tr>\n",
              "      <th>39</th>\n",
              "      <td>2022-09-11</td>\n",
              "      <td>532.830003</td>\n",
              "    </tr>\n",
              "    <tr>\n",
              "      <th>40</th>\n",
              "      <td>2022-10-11</td>\n",
              "      <td>574.464305</td>\n",
              "    </tr>\n",
              "    <tr>\n",
              "      <th>41</th>\n",
              "      <td>2022-11-11</td>\n",
              "      <td>837.782499</td>\n",
              "    </tr>\n",
              "    <tr>\n",
              "      <th>42</th>\n",
              "      <td>2022-12-11</td>\n",
              "      <td>598.212000</td>\n",
              "    </tr>\n",
              "    <tr>\n",
              "      <th>43</th>\n",
              "      <td>2022-11-13</td>\n",
              "      <td>666.629571</td>\n",
              "    </tr>\n",
              "    <tr>\n",
              "      <th>44</th>\n",
              "      <td>2022-11-14</td>\n",
              "      <td>687.573329</td>\n",
              "    </tr>\n",
              "    <tr>\n",
              "      <th>45</th>\n",
              "      <td>2022-11-15</td>\n",
              "      <td>562.037882</td>\n",
              "    </tr>\n",
              "  </tbody>\n",
              "</table>\n",
              "</div>\n",
              "      <button class=\"colab-df-convert\" onclick=\"convertToInteractive('df-7678b589-4592-4b2e-8a3e-a419a2631980')\"\n",
              "              title=\"Convert this dataframe to an interactive table.\"\n",
              "              style=\"display:none;\">\n",
              "        \n",
              "  <svg xmlns=\"http://www.w3.org/2000/svg\" height=\"24px\"viewBox=\"0 0 24 24\"\n",
              "       width=\"24px\">\n",
              "    <path d=\"M0 0h24v24H0V0z\" fill=\"none\"/>\n",
              "    <path d=\"M18.56 5.44l.94 2.06.94-2.06 2.06-.94-2.06-.94-.94-2.06-.94 2.06-2.06.94zm-11 1L8.5 8.5l.94-2.06 2.06-.94-2.06-.94L8.5 2.5l-.94 2.06-2.06.94zm10 10l.94 2.06.94-2.06 2.06-.94-2.06-.94-.94-2.06-.94 2.06-2.06.94z\"/><path d=\"M17.41 7.96l-1.37-1.37c-.4-.4-.92-.59-1.43-.59-.52 0-1.04.2-1.43.59L10.3 9.45l-7.72 7.72c-.78.78-.78 2.05 0 2.83L4 21.41c.39.39.9.59 1.41.59.51 0 1.02-.2 1.41-.59l7.78-7.78 2.81-2.81c.8-.78.8-2.07 0-2.86zM5.41 20L4 18.59l7.72-7.72 1.47 1.35L5.41 20z\"/>\n",
              "  </svg>\n",
              "      </button>\n",
              "      \n",
              "  <style>\n",
              "    .colab-df-container {\n",
              "      display:flex;\n",
              "      flex-wrap:wrap;\n",
              "      gap: 12px;\n",
              "    }\n",
              "\n",
              "    .colab-df-convert {\n",
              "      background-color: #E8F0FE;\n",
              "      border: none;\n",
              "      border-radius: 50%;\n",
              "      cursor: pointer;\n",
              "      display: none;\n",
              "      fill: #1967D2;\n",
              "      height: 32px;\n",
              "      padding: 0 0 0 0;\n",
              "      width: 32px;\n",
              "    }\n",
              "\n",
              "    .colab-df-convert:hover {\n",
              "      background-color: #E2EBFA;\n",
              "      box-shadow: 0px 1px 2px rgba(60, 64, 67, 0.3), 0px 1px 3px 1px rgba(60, 64, 67, 0.15);\n",
              "      fill: #174EA6;\n",
              "    }\n",
              "\n",
              "    [theme=dark] .colab-df-convert {\n",
              "      background-color: #3B4455;\n",
              "      fill: #D2E3FC;\n",
              "    }\n",
              "\n",
              "    [theme=dark] .colab-df-convert:hover {\n",
              "      background-color: #434B5C;\n",
              "      box-shadow: 0px 1px 3px 1px rgba(0, 0, 0, 0.15);\n",
              "      filter: drop-shadow(0px 1px 2px rgba(0, 0, 0, 0.3));\n",
              "      fill: #FFFFFF;\n",
              "    }\n",
              "  </style>\n",
              "\n",
              "      <script>\n",
              "        const buttonEl =\n",
              "          document.querySelector('#df-7678b589-4592-4b2e-8a3e-a419a2631980 button.colab-df-convert');\n",
              "        buttonEl.style.display =\n",
              "          google.colab.kernel.accessAllowed ? 'block' : 'none';\n",
              "\n",
              "        async function convertToInteractive(key) {\n",
              "          const element = document.querySelector('#df-7678b589-4592-4b2e-8a3e-a419a2631980');\n",
              "          const dataTable =\n",
              "            await google.colab.kernel.invokeFunction('convertToInteractive',\n",
              "                                                     [key], {});\n",
              "          if (!dataTable) return;\n",
              "\n",
              "          const docLinkHtml = 'Like what you see? Visit the ' +\n",
              "            '<a target=\"_blank\" href=https://colab.research.google.com/notebooks/data_table.ipynb>data table notebook</a>'\n",
              "            + ' to learn more about interactive tables.';\n",
              "          element.innerHTML = '';\n",
              "          dataTable['output_type'] = 'display_data';\n",
              "          await google.colab.output.renderOutput(dataTable, element);\n",
              "          const docLink = document.createElement('div');\n",
              "          docLink.innerHTML = docLinkHtml;\n",
              "          element.appendChild(docLink);\n",
              "        }\n",
              "      </script>\n",
              "    </div>\n",
              "  </div>\n",
              "  "
            ]
          },
          "metadata": {},
          "execution_count": 230
        }
      ],
      "source": [
        "df"
      ],
      "id": "xQyjySFyZYa6"
    },
    {
      "cell_type": "code",
      "execution_count": null,
      "metadata": {
        "colab": {
          "base_uri": "https://localhost:8080/",
          "height": 283
        },
        "id": "Yj1MM1wfZZY9",
        "outputId": "77cf3c2a-fc4b-455d-f619-ba8e87a4c26c"
      },
      "outputs": [
        {
          "output_type": "execute_result",
          "data": {
            "text/plain": [
              "<matplotlib.axes._subplots.AxesSubplot at 0x7fc2347e2dc0>"
            ]
          },
          "metadata": {},
          "execution_count": 231
        },
        {
          "output_type": "display_data",
          "data": {
            "text/plain": [
              "<Figure size 432x288 with 1 Axes>"
            ],
            "image/png": "[encoded data removed]"
          },
          "metadata": {
            "needs_background": "light"
          }
        }
      ],
      "source": [
        "df['Predicted_Referrals'].plot(legend=True)\n",
        "sikka_data['Referrals'][:-15].plot(legend=True)"
      ],
      "id": "Yj1MM1wfZZY9"
    },
    {
      "cell_type": "markdown",
      "source": [
        "4. Anomaly Detection on ADX_data"
      ],
      "metadata": {
        "id": "t0u9bSTluRp6"
      },
      "id": "t0u9bSTluRp6"
    },
    {
      "cell_type": "code",
      "execution_count": 6,
      "metadata": {
        "id": "4UAvp1d8ZveA"
      },
      "outputs": [],
      "source": [
        "ADX_data = pd.read_csv(\"/content/drive/MyDrive/Greedy Game/Q4_ADX_Sample_data (1).csv\")"
      ],
      "id": "4UAvp1d8ZveA"
    },
    {
      "cell_type": "code",
      "execution_count": 7,
      "metadata": {
        "colab": {
          "base_uri": "https://localhost:8080/",
          "height": 206
        },
        "id": "busZin2hY5k-",
        "outputId": "d2020712-21e7-4bb5-f195-804e3f7c230c"
      },
      "outputs": [
        {
          "output_type": "execute_result",
          "data": {
            "text/plain": [
              "         date  pub_id    app_id  ad_unit_code   country  requests  \\\n",
              "0  20-10-2022    1987  16243270   22832846443  Tanzania        36   \n",
              "1  20-10-2022    1987  16243270   22832846593  Tanzania        24   \n",
              "2  20-10-2022    1987  16243270   22832846443  Thailand       949   \n",
              "3  20-10-2022    1987  16243270   22832846593  Thailand      1006   \n",
              "4  20-10-2022    1987  16243270   22832827729  Thailand       373   \n",
              "\n",
              "   ae_responses  ae_impressions  ae_clicks  ae_revenue  \n",
              "0            36              34          0    0.035738  \n",
              "1            24              23          0    0.064384  \n",
              "2           949             876         20    4.943878  \n",
              "3           907             688        134   24.226836  \n",
              "4           287             156         20    2.759392  "
            ],
            "text/html": [
              "\n",
              "  <div id=\"df-91de3420-569c-40c8-82aa-28271fb2a239\">\n",
              "    <div class=\"colab-df-container\">\n",
              "      <div>\n",
              "<style scoped>\n",
              "    .dataframe tbody tr th:only-of-type {\n",
              "        vertical-align: middle;\n",
              "    }\n",
              "\n",
              "    .dataframe tbody tr th {\n",
              "        vertical-align: top;\n",
              "    }\n",
              "\n",
              "    .dataframe thead th {\n",
              "        text-align: right;\n",
              "    }\n",
              "</style>\n",
              "<table border=\"1\" class=\"dataframe\">\n",
              "  <thead>\n",
              "    <tr style=\"text-align: right;\">\n",
              "      <th></th>\n",
              "      <th>date</th>\n",
              "      <th>pub_id</th>\n",
              "      <th>app_id</th>\n",
              "      <th>ad_unit_code</th>\n",
              "      <th>country</th>\n",
              "      <th>requests</th>\n",
              "      <th>ae_responses</th>\n",
              "      <th>ae_impressions</th>\n",
              "      <th>ae_clicks</th>\n",
              "      <th>ae_revenue</th>\n",
              "    </tr>\n",
              "  </thead>\n",
              "  <tbody>\n",
              "    <tr>\n",
              "      <th>0</th>\n",
              "      <td>20-10-2022</td>\n",
              "      <td>1987</td>\n",
              "      <td>16243270</td>\n",
              "      <td>22832846443</td>\n",
              "      <td>Tanzania</td>\n",
              "      <td>36</td>\n",
              "      <td>36</td>\n",
              "      <td>34</td>\n",
              "      <td>0</td>\n",
              "      <td>0.035738</td>\n",
              "    </tr>\n",
              "    <tr>\n",
              "      <th>1</th>\n",
              "      <td>20-10-2022</td>\n",
              "      <td>1987</td>\n",
              "      <td>16243270</td>\n",
              "      <td>22832846593</td>\n",
              "      <td>Tanzania</td>\n",
              "      <td>24</td>\n",
              "      <td>24</td>\n",
              "      <td>23</td>\n",
              "      <td>0</td>\n",
              "      <td>0.064384</td>\n",
              "    </tr>\n",
              "    <tr>\n",
              "      <th>2</th>\n",
              "      <td>20-10-2022</td>\n",
              "      <td>1987</td>\n",
              "      <td>16243270</td>\n",
              "      <td>22832846443</td>\n",
              "      <td>Thailand</td>\n",
              "      <td>949</td>\n",
              "      <td>949</td>\n",
              "      <td>876</td>\n",
              "      <td>20</td>\n",
              "      <td>4.943878</td>\n",
              "    </tr>\n",
              "    <tr>\n",
              "      <th>3</th>\n",
              "      <td>20-10-2022</td>\n",
              "      <td>1987</td>\n",
              "      <td>16243270</td>\n",
              "      <td>22832846593</td>\n",
              "      <td>Thailand</td>\n",
              "      <td>1006</td>\n",
              "      <td>907</td>\n",
              "      <td>688</td>\n",
              "      <td>134</td>\n",
              "      <td>24.226836</td>\n",
              "    </tr>\n",
              "    <tr>\n",
              "      <th>4</th>\n",
              "      <td>20-10-2022</td>\n",
              "      <td>1987</td>\n",
              "      <td>16243270</td>\n",
              "      <td>22832827729</td>\n",
              "      <td>Thailand</td>\n",
              "      <td>373</td>\n",
              "      <td>287</td>\n",
              "      <td>156</td>\n",
              "      <td>20</td>\n",
              "      <td>2.759392</td>\n",
              "    </tr>\n",
              "  </tbody>\n",
              "</table>\n",
              "</div>\n",
              "      <button class=\"colab-df-convert\" onclick=\"convertToInteractive('df-91de3420-569c-40c8-82aa-28271fb2a239')\"\n",
              "              title=\"Convert this dataframe to an interactive table.\"\n",
              "              style=\"display:none;\">\n",
              "        \n",
              "  <svg xmlns=\"http://www.w3.org/2000/svg\" height=\"24px\"viewBox=\"0 0 24 24\"\n",
              "       width=\"24px\">\n",
              "    <path d=\"M0 0h24v24H0V0z\" fill=\"none\"/>\n",
              "    <path d=\"M18.56 5.44l.94 2.06.94-2.06 2.06-.94-2.06-.94-.94-2.06-.94 2.06-2.06.94zm-11 1L8.5 8.5l.94-2.06 2.06-.94-2.06-.94L8.5 2.5l-.94 2.06-2.06.94zm10 10l.94 2.06.94-2.06 2.06-.94-2.06-.94-.94-2.06-.94 2.06-2.06.94z\"/><path d=\"M17.41 7.96l-1.37-1.37c-.4-.4-.92-.59-1.43-.59-.52 0-1.04.2-1.43.59L10.3 9.45l-7.72 7.72c-.78.78-.78 2.05 0 2.83L4 21.41c.39.39.9.59 1.41.59.51 0 1.02-.2 1.41-.59l7.78-7.78 2.81-2.81c.8-.78.8-2.07 0-2.86zM5.41 20L4 18.59l7.72-7.72 1.47 1.35L5.41 20z\"/>\n",
              "  </svg>\n",
              "      </button>\n",
              "      \n",
              "  <style>\n",
              "    .colab-df-container {\n",
              "      display:flex;\n",
              "      flex-wrap:wrap;\n",
              "      gap: 12px;\n",
              "    }\n",
              "\n",
              "    .colab-df-convert {\n",
              "      background-color: #E8F0FE;\n",
              "      border: none;\n",
              "      border-radius: 50%;\n",
              "      cursor: pointer;\n",
              "      display: none;\n",
              "      fill: #1967D2;\n",
              "      height: 32px;\n",
              "      padding: 0 0 0 0;\n",
              "      width: 32px;\n",
              "    }\n",
              "\n",
              "    .colab-df-convert:hover {\n",
              "      background-color: #E2EBFA;\n",
              "      box-shadow: 0px 1px 2px rgba(60, 64, 67, 0.3), 0px 1px 3px 1px rgba(60, 64, 67, 0.15);\n",
              "      fill: #174EA6;\n",
              "    }\n",
              "\n",
              "    [theme=dark] .colab-df-convert {\n",
              "      background-color: #3B4455;\n",
              "      fill: #D2E3FC;\n",
              "    }\n",
              "\n",
              "    [theme=dark] .colab-df-convert:hover {\n",
              "      background-color: #434B5C;\n",
              "      box-shadow: 0px 1px 3px 1px rgba(0, 0, 0, 0.15);\n",
              "      filter: drop-shadow(0px 1px 2px rgba(0, 0, 0, 0.3));\n",
              "      fill: #FFFFFF;\n",
              "    }\n",
              "  </style>\n",
              "\n",
              "      <script>\n",
              "        const buttonEl =\n",
              "          document.querySelector('#df-91de3420-569c-40c8-82aa-28271fb2a239 button.colab-df-convert');\n",
              "        buttonEl.style.display =\n",
              "          google.colab.kernel.accessAllowed ? 'block' : 'none';\n",
              "\n",
              "        async function convertToInteractive(key) {\n",
              "          const element = document.querySelector('#df-91de3420-569c-40c8-82aa-28271fb2a239');\n",
              "          const dataTable =\n",
              "            await google.colab.kernel.invokeFunction('convertToInteractive',\n",
              "                                                     [key], {});\n",
              "          if (!dataTable) return;\n",
              "\n",
              "          const docLinkHtml = 'Like what you see? Visit the ' +\n",
              "            '<a target=\"_blank\" href=https://colab.research.google.com/notebooks/data_table.ipynb>data table notebook</a>'\n",
              "            + ' to learn more about interactive tables.';\n",
              "          element.innerHTML = '';\n",
              "          dataTable['output_type'] = 'display_data';\n",
              "          await google.colab.output.renderOutput(dataTable, element);\n",
              "          const docLink = document.createElement('div');\n",
              "          docLink.innerHTML = docLinkHtml;\n",
              "          element.appendChild(docLink);\n",
              "        }\n",
              "      </script>\n",
              "    </div>\n",
              "  </div>\n",
              "  "
            ]
          },
          "metadata": {},
          "execution_count": 7
        }
      ],
      "source": [
        "ADX_data.head()"
      ],
      "id": "busZin2hY5k-"
    },
    {
      "cell_type": "code",
      "execution_count": 8,
      "metadata": {
        "colab": {
          "base_uri": "https://localhost:8080/"
        },
        "id": "RuBCKjB7Y8P1",
        "outputId": "df5bbadd-b020-4a3b-d73b-e19cc7072788"
      },
      "outputs": [
        {
          "output_type": "execute_result",
          "data": {
            "text/plain": [
              "date                0\n",
              "pub_id              0\n",
              "app_id              0\n",
              "ad_unit_code        0\n",
              "country           420\n",
              "requests            0\n",
              "ae_responses        0\n",
              "ae_impressions      0\n",
              "ae_clicks           0\n",
              "ae_revenue          0\n",
              "dtype: int64"
            ]
          },
          "metadata": {},
          "execution_count": 8
        }
      ],
      "source": [
        "ADX_data.isnull().sum()"
      ],
      "id": "RuBCKjB7Y8P1"
    },
    {
      "cell_type": "code",
      "execution_count": 9,
      "metadata": {
        "colab": {
          "base_uri": "https://localhost:8080/"
        },
        "id": "RCgX9rj9ZXrt",
        "outputId": "736464a1-bd0f-4f94-9827-6ffb6e037b4e"
      },
      "outputs": [
        {
          "output_type": "execute_result",
          "data": {
            "text/plain": [
              "Index(['date', 'pub_id', 'app_id', 'ad_unit_code', 'country', 'requests',\n",
              "       'ae_responses', 'ae_impressions', 'ae_clicks', 'ae_revenue'],\n",
              "      dtype='object')"
            ]
          },
          "metadata": {},
          "execution_count": 9
        }
      ],
      "source": [
        "ADX_data.columns"
      ],
      "id": "RCgX9rj9ZXrt"
    },
    {
      "cell_type": "code",
      "execution_count": null,
      "metadata": {
        "colab": {
          "base_uri": "https://localhost:8080/"
        },
        "id": "5eUXofoCZpTj",
        "outputId": "014eb14e-02b3-4b38-aeda-75157b602ba8"
      },
      "outputs": [
        {
          "output_type": "execute_result",
          "data": {
            "text/plain": [
              "47862278    14949\n",
              "22693095    11291\n",
              "95674771     6058\n",
              "43840611     5442\n",
              "84650721     4906\n",
              "40931528     2317\n",
              "25596802     1605\n",
              "63338696      557\n",
              "16243270      521\n",
              "66981243      289\n",
              "Name: app_id, dtype: int64"
            ]
          },
          "metadata": {},
          "execution_count": 236
        }
      ],
      "source": [
        "ADX_data['app_id'].value_counts()"
      ],
      "id": "5eUXofoCZpTj"
    },
    {
      "cell_type": "code",
      "execution_count": 10,
      "metadata": {
        "colab": {
          "base_uri": "https://localhost:8080/"
        },
        "id": "ntBvT04OkH4g",
        "outputId": "df3e67d2-057e-4a31-eb9e-cd9c2ec05ead"
      },
      "outputs": [
        {
          "output_type": "stream",
          "name": "stdout",
          "text": [
            "<class 'pandas.core.frame.DataFrame'>\n",
            "RangeIndex: 47935 entries, 0 to 47934\n",
            "Data columns (total 10 columns):\n",
            " #   Column          Non-Null Count  Dtype  \n",
            "---  ------          --------------  -----  \n",
            " 0   date            47935 non-null  object \n",
            " 1   pub_id          47935 non-null  int64  \n",
            " 2   app_id          47935 non-null  int64  \n",
            " 3   ad_unit_code    47935 non-null  int64  \n",
            " 4   country         47515 non-null  object \n",
            " 5   requests        47935 non-null  int64  \n",
            " 6   ae_responses    47935 non-null  int64  \n",
            " 7   ae_impressions  47935 non-null  int64  \n",
            " 8   ae_clicks       47935 non-null  int64  \n",
            " 9   ae_revenue      47935 non-null  float64\n",
            "dtypes: float64(1), int64(7), object(2)\n",
            "memory usage: 3.7+ MB\n"
          ]
        }
      ],
      "source": [
        "ADX_data.info()"
      ],
      "id": "ntBvT04OkH4g"
    },
    {
      "cell_type": "code",
      "execution_count": 11,
      "metadata": {
        "id": "REbBJL3wjzu6"
      },
      "outputs": [],
      "source": [
        "import seaborn as sns"
      ],
      "id": "REbBJL3wjzu6"
    },
    {
      "cell_type": "code",
      "execution_count": 12,
      "metadata": {
        "colab": {
          "base_uri": "https://localhost:8080/"
        },
        "id": "dBnUW_cLneZU",
        "outputId": "7a73e89f-a349-457a-dec5-97c9eeb08d7a"
      },
      "outputs": [
        {
          "output_type": "execute_result",
          "data": {
            "text/plain": [
              "(47935, 10)"
            ]
          },
          "metadata": {},
          "execution_count": 12
        }
      ],
      "source": [
        "ADX_data.shape"
      ],
      "id": "dBnUW_cLneZU"
    },
    {
      "cell_type": "code",
      "execution_count": 13,
      "metadata": {
        "id": "bRKTrKe9cdeQ"
      },
      "outputs": [],
      "source": [
        "from sklearn.preprocessing import MinMaxScaler\n",
        "from sklearn.ensemble import IsolationForest"
      ],
      "id": "bRKTrKe9cdeQ"
    },
    {
      "cell_type": "code",
      "execution_count": 14,
      "metadata": {
        "id": "wS87lrW-kZg4"
      },
      "outputs": [],
      "source": [
        "inputs = ['requests',\n",
        "       'ae_responses', 'ae_impressions', 'ae_clicks', 'ae_revenue']"
      ],
      "id": "wS87lrW-kZg4"
    },
    {
      "cell_type": "code",
      "execution_count": 15,
      "metadata": {
        "id": "mNtJfdxdcFVX"
      },
      "outputs": [],
      "source": [
        "minmax = MinMaxScaler(feature_range=(0, 1))\n",
        "X = minmax.fit_transform(ADX_data[inputs])"
      ],
      "id": "mNtJfdxdcFVX"
    },
    {
      "cell_type": "code",
      "execution_count": 16,
      "metadata": {
        "id": "KYHZVHqiabUh"
      },
      "outputs": [],
      "source": [
        "clf = IsolationForest(n_estimators=100, contamination=0.01, random_state=0)\n",
        "clf.fit(X)\n",
        "\n",
        "# predict raw anomaly score\n",
        "ADX_data['anomaly_score'] = clf.decision_function(X)\n",
        "        \n",
        "# prediction of a datapoint category outlier or inlier\n",
        "ADX_data['anomaly'] = clf.predict(X)"
      ],
      "id": "KYHZVHqiabUh"
    },
    {
      "cell_type": "code",
      "execution_count": 17,
      "metadata": {
        "colab": {
          "base_uri": "https://localhost:8080/",
          "height": 467
        },
        "id": "wIvRhMlqc7Xb",
        "outputId": "450f6647-926e-46fb-e2a3-c8717fbdb9a4"
      },
      "outputs": [
        {
          "output_type": "execute_result",
          "data": {
            "text/plain": [
              "             date  pub_id    app_id  ad_unit_code        country  requests  \\\n",
              "675    11-10-2022      14  22693095   22752632444          India     13381   \n",
              "692    11-10-2022      14  22693095   22752080475         Brazil      5099   \n",
              "694    11-10-2022      14  22693095   22752632444         Brazil     10804   \n",
              "842    11-10-2022      14  22693095   22752080475  United States     14469   \n",
              "844    11-10-2022      14  22693095   22752632444  United States     21589   \n",
              "...           ...     ...       ...           ...            ...       ...   \n",
              "40777  16-10-2022      72  84650721   22477473702          India      5424   \n",
              "40898  26-10-2022      72  84650721   22477473702          India      5200   \n",
              "41037  18-10-2022      72  84650721   22477473702          India      6710   \n",
              "41379  28-10-2022      72  84650721   22477473702          India      4999   \n",
              "41730  22-10-2022      72  84650721   22477473702          India      5392   \n",
              "\n",
              "       ae_responses  ae_impressions  ae_clicks  ae_revenue  anomaly_score  \\\n",
              "675           11254            3303        126    1.344264      -0.008930   \n",
              "692            4642            2069        390   34.695616      -0.011062   \n",
              "694           10789            2346        133    8.692469      -0.002344   \n",
              "842           11127            4808        522  289.267323      -0.078063   \n",
              "844           20848            4405        244  112.000234      -0.067351   \n",
              "...             ...             ...        ...         ...            ...   \n",
              "40777          5424            4979        658    5.299380      -0.003377   \n",
              "40898          5200            4678        556    4.308571      -0.001205   \n",
              "41037          6708            6176        737    7.139920      -0.027529   \n",
              "41379          4998            4557        472    4.383488      -0.000690   \n",
              "41730          5392            4947        524    4.776323      -0.002344   \n",
              "\n",
              "       anomaly  \n",
              "675         -1  \n",
              "692         -1  \n",
              "694         -1  \n",
              "842         -1  \n",
              "844         -1  \n",
              "...        ...  \n",
              "40777       -1  \n",
              "40898       -1  \n",
              "41037       -1  \n",
              "41379       -1  \n",
              "41730       -1  \n",
              "\n",
              "[480 rows x 12 columns]"
            ],
            "text/html": [
              "\n",
              "  <div id=\"df-a73e0b1d-b213-40c0-810a-a4760abd0bfc\">\n",
              "    <div class=\"colab-df-container\">\n",
              "      <div>\n",
              "<style scoped>\n",
              "    .dataframe tbody tr th:only-of-type {\n",
              "        vertical-align: middle;\n",
              "    }\n",
              "\n",
              "    .dataframe tbody tr th {\n",
              "        vertical-align: top;\n",
              "    }\n",
              "\n",
              "    .dataframe thead th {\n",
              "        text-align: right;\n",
              "    }\n",
              "</style>\n",
              "<table border=\"1\" class=\"dataframe\">\n",
              "  <thead>\n",
              "    <tr style=\"text-align: right;\">\n",
              "      <th></th>\n",
              "      <th>date</th>\n",
              "      <th>pub_id</th>\n",
              "      <th>app_id</th>\n",
              "      <th>ad_unit_code</th>\n",
              "      <th>country</th>\n",
              "      <th>requests</th>\n",
              "      <th>ae_responses</th>\n",
              "      <th>ae_impressions</th>\n",
              "      <th>ae_clicks</th>\n",
              "      <th>ae_revenue</th>\n",
              "      <th>anomaly_score</th>\n",
              "      <th>anomaly</th>\n",
              "    </tr>\n",
              "  </thead>\n",
              "  <tbody>\n",
              "    <tr>\n",
              "      <th>675</th>\n",
              "      <td>11-10-2022</td>\n",
              "      <td>14</td>\n",
              "      <td>22693095</td>\n",
              "      <td>22752632444</td>\n",
              "      <td>India</td>\n",
              "      <td>13381</td>\n",
              "      <td>11254</td>\n",
              "      <td>3303</td>\n",
              "      <td>126</td>\n",
              "      <td>1.344264</td>\n",
              "      <td>-0.008930</td>\n",
              "      <td>-1</td>\n",
              "    </tr>\n",
              "    <tr>\n",
              "      <th>692</th>\n",
              "      <td>11-10-2022</td>\n",
              "      <td>14</td>\n",
              "      <td>22693095</td>\n",
              "      <td>22752080475</td>\n",
              "      <td>Brazil</td>\n",
              "      <td>5099</td>\n",
              "      <td>4642</td>\n",
              "      <td>2069</td>\n",
              "      <td>390</td>\n",
              "      <td>34.695616</td>\n",
              "      <td>-0.011062</td>\n",
              "      <td>-1</td>\n",
              "    </tr>\n",
              "    <tr>\n",
              "      <th>694</th>\n",
              "      <td>11-10-2022</td>\n",
              "      <td>14</td>\n",
              "      <td>22693095</td>\n",
              "      <td>22752632444</td>\n",
              "      <td>Brazil</td>\n",
              "      <td>10804</td>\n",
              "      <td>10789</td>\n",
              "      <td>2346</td>\n",
              "      <td>133</td>\n",
              "      <td>8.692469</td>\n",
              "      <td>-0.002344</td>\n",
              "      <td>-1</td>\n",
              "    </tr>\n",
              "    <tr>\n",
              "      <th>842</th>\n",
              "      <td>11-10-2022</td>\n",
              "      <td>14</td>\n",
              "      <td>22693095</td>\n",
              "      <td>22752080475</td>\n",
              "      <td>United States</td>\n",
              "      <td>14469</td>\n",
              "      <td>11127</td>\n",
              "      <td>4808</td>\n",
              "      <td>522</td>\n",
              "      <td>289.267323</td>\n",
              "      <td>-0.078063</td>\n",
              "      <td>-1</td>\n",
              "    </tr>\n",
              "    <tr>\n",
              "      <th>844</th>\n",
              "      <td>11-10-2022</td>\n",
              "      <td>14</td>\n",
              "      <td>22693095</td>\n",
              "      <td>22752632444</td>\n",
              "      <td>United States</td>\n",
              "      <td>21589</td>\n",
              "      <td>20848</td>\n",
              "      <td>4405</td>\n",
              "      <td>244</td>\n",
              "      <td>112.000234</td>\n",
              "      <td>-0.067351</td>\n",
              "      <td>-1</td>\n",
              "    </tr>\n",
              "    <tr>\n",
              "      <th>...</th>\n",
              "      <td>...</td>\n",
              "      <td>...</td>\n",
              "      <td>...</td>\n",
              "      <td>...</td>\n",
              "      <td>...</td>\n",
              "      <td>...</td>\n",
              "      <td>...</td>\n",
              "      <td>...</td>\n",
              "      <td>...</td>\n",
              "      <td>...</td>\n",
              "      <td>...</td>\n",
              "      <td>...</td>\n",
              "    </tr>\n",
              "    <tr>\n",
              "      <th>40777</th>\n",
              "      <td>16-10-2022</td>\n",
              "      <td>72</td>\n",
              "      <td>84650721</td>\n",
              "      <td>22477473702</td>\n",
              "      <td>India</td>\n",
              "      <td>5424</td>\n",
              "      <td>5424</td>\n",
              "      <td>4979</td>\n",
              "      <td>658</td>\n",
              "      <td>5.299380</td>\n",
              "      <td>-0.003377</td>\n",
              "      <td>-1</td>\n",
              "    </tr>\n",
              "    <tr>\n",
              "      <th>40898</th>\n",
              "      <td>26-10-2022</td>\n",
              "      <td>72</td>\n",
              "      <td>84650721</td>\n",
              "      <td>22477473702</td>\n",
              "      <td>India</td>\n",
              "      <td>5200</td>\n",
              "      <td>5200</td>\n",
              "      <td>4678</td>\n",
              "      <td>556</td>\n",
              "      <td>4.308571</td>\n",
              "      <td>-0.001205</td>\n",
              "      <td>-1</td>\n",
              "    </tr>\n",
              "    <tr>\n",
              "      <th>41037</th>\n",
              "      <td>18-10-2022</td>\n",
              "      <td>72</td>\n",
              "      <td>84650721</td>\n",
              "      <td>22477473702</td>\n",
              "      <td>India</td>\n",
              "      <td>6710</td>\n",
              "      <td>6708</td>\n",
              "      <td>6176</td>\n",
              "      <td>737</td>\n",
              "      <td>7.139920</td>\n",
              "      <td>-0.027529</td>\n",
              "      <td>-1</td>\n",
              "    </tr>\n",
              "    <tr>\n",
              "      <th>41379</th>\n",
              "      <td>28-10-2022</td>\n",
              "      <td>72</td>\n",
              "      <td>84650721</td>\n",
              "      <td>22477473702</td>\n",
              "      <td>India</td>\n",
              "      <td>4999</td>\n",
              "      <td>4998</td>\n",
              "      <td>4557</td>\n",
              "      <td>472</td>\n",
              "      <td>4.383488</td>\n",
              "      <td>-0.000690</td>\n",
              "      <td>-1</td>\n",
              "    </tr>\n",
              "    <tr>\n",
              "      <th>41730</th>\n",
              "      <td>22-10-2022</td>\n",
              "      <td>72</td>\n",
              "      <td>84650721</td>\n",
              "      <td>22477473702</td>\n",
              "      <td>India</td>\n",
              "      <td>5392</td>\n",
              "      <td>5392</td>\n",
              "      <td>4947</td>\n",
              "      <td>524</td>\n",
              "      <td>4.776323</td>\n",
              "      <td>-0.002344</td>\n",
              "      <td>-1</td>\n",
              "    </tr>\n",
              "  </tbody>\n",
              "</table>\n",
              "<p>480 rows × 12 columns</p>\n",
              "</div>\n",
              "      <button class=\"colab-df-convert\" onclick=\"convertToInteractive('df-a73e0b1d-b213-40c0-810a-a4760abd0bfc')\"\n",
              "              title=\"Convert this dataframe to an interactive table.\"\n",
              "              style=\"display:none;\">\n",
              "        \n",
              "  <svg xmlns=\"http://www.w3.org/2000/svg\" height=\"24px\"viewBox=\"0 0 24 24\"\n",
              "       width=\"24px\">\n",
              "    <path d=\"M0 0h24v24H0V0z\" fill=\"none\"/>\n",
              "    <path d=\"M18.56 5.44l.94 2.06.94-2.06 2.06-.94-2.06-.94-.94-2.06-.94 2.06-2.06.94zm-11 1L8.5 8.5l.94-2.06 2.06-.94-2.06-.94L8.5 2.5l-.94 2.06-2.06.94zm10 10l.94 2.06.94-2.06 2.06-.94-2.06-.94-.94-2.06-.94 2.06-2.06.94z\"/><path d=\"M17.41 7.96l-1.37-1.37c-.4-.4-.92-.59-1.43-.59-.52 0-1.04.2-1.43.59L10.3 9.45l-7.72 7.72c-.78.78-.78 2.05 0 2.83L4 21.41c.39.39.9.59 1.41.59.51 0 1.02-.2 1.41-.59l7.78-7.78 2.81-2.81c.8-.78.8-2.07 0-2.86zM5.41 20L4 18.59l7.72-7.72 1.47 1.35L5.41 20z\"/>\n",
              "  </svg>\n",
              "      </button>\n",
              "      \n",
              "  <style>\n",
              "    .colab-df-container {\n",
              "      display:flex;\n",
              "      flex-wrap:wrap;\n",
              "      gap: 12px;\n",
              "    }\n",
              "\n",
              "    .colab-df-convert {\n",
              "      background-color: #E8F0FE;\n",
              "      border: none;\n",
              "      border-radius: 50%;\n",
              "      cursor: pointer;\n",
              "      display: none;\n",
              "      fill: #1967D2;\n",
              "      height: 32px;\n",
              "      padding: 0 0 0 0;\n",
              "      width: 32px;\n",
              "    }\n",
              "\n",
              "    .colab-df-convert:hover {\n",
              "      background-color: #E2EBFA;\n",
              "      box-shadow: 0px 1px 2px rgba(60, 64, 67, 0.3), 0px 1px 3px 1px rgba(60, 64, 67, 0.15);\n",
              "      fill: #174EA6;\n",
              "    }\n",
              "\n",
              "    [theme=dark] .colab-df-convert {\n",
              "      background-color: #3B4455;\n",
              "      fill: #D2E3FC;\n",
              "    }\n",
              "\n",
              "    [theme=dark] .colab-df-convert:hover {\n",
              "      background-color: #434B5C;\n",
              "      box-shadow: 0px 1px 3px 1px rgba(0, 0, 0, 0.15);\n",
              "      filter: drop-shadow(0px 1px 2px rgba(0, 0, 0, 0.3));\n",
              "      fill: #FFFFFF;\n",
              "    }\n",
              "  </style>\n",
              "\n",
              "      <script>\n",
              "        const buttonEl =\n",
              "          document.querySelector('#df-a73e0b1d-b213-40c0-810a-a4760abd0bfc button.colab-df-convert');\n",
              "        buttonEl.style.display =\n",
              "          google.colab.kernel.accessAllowed ? 'block' : 'none';\n",
              "\n",
              "        async function convertToInteractive(key) {\n",
              "          const element = document.querySelector('#df-a73e0b1d-b213-40c0-810a-a4760abd0bfc');\n",
              "          const dataTable =\n",
              "            await google.colab.kernel.invokeFunction('convertToInteractive',\n",
              "                                                     [key], {});\n",
              "          if (!dataTable) return;\n",
              "\n",
              "          const docLinkHtml = 'Like what you see? Visit the ' +\n",
              "            '<a target=\"_blank\" href=https://colab.research.google.com/notebooks/data_table.ipynb>data table notebook</a>'\n",
              "            + ' to learn more about interactive tables.';\n",
              "          element.innerHTML = '';\n",
              "          dataTable['output_type'] = 'display_data';\n",
              "          await google.colab.output.renderOutput(dataTable, element);\n",
              "          const docLink = document.createElement('div');\n",
              "          docLink.innerHTML = docLinkHtml;\n",
              "          element.appendChild(docLink);\n",
              "        }\n",
              "      </script>\n",
              "    </div>\n",
              "  </div>\n",
              "  "
            ]
          },
          "metadata": {},
          "execution_count": 17
        }
      ],
      "source": [
        "ADX_data[ADX_data['anomaly'] == -1]"
      ],
      "id": "wIvRhMlqc7Xb"
    },
    {
      "cell_type": "code",
      "source": [
        "#Count of anomalies detected for each app. \n",
        "ADX_data[ADX_data['anomaly'] == -1]['app_id'].value_counts()"
      ],
      "metadata": {
        "colab": {
          "base_uri": "https://localhost:8080/"
        },
        "id": "RGZh5pcXzqJz",
        "outputId": "6337d3e8-dd66-4537-c525-f1f15624b498"
      },
      "id": "RGZh5pcXzqJz",
      "execution_count": 25,
      "outputs": [
        {
          "output_type": "execute_result",
          "data": {
            "text/plain": [
              "22693095    190\n",
              "63338696     82\n",
              "47862278     69\n",
              "40931528     50\n",
              "43840611     49\n",
              "66981243     31\n",
              "84650721      9\n",
              "Name: app_id, dtype: int64"
            ]
          },
          "metadata": {},
          "execution_count": 25
        }
      ]
    },
    {
      "cell_type": "code",
      "execution_count": 18,
      "metadata": {
        "colab": {
          "base_uri": "https://localhost:8080/",
          "height": 920
        },
        "id": "T6QBPLSJftWU",
        "outputId": "84c55547-b9eb-4398-dad3-92f50ec56a3f"
      },
      "outputs": [
        {
          "output_type": "execute_result",
          "data": {
            "text/plain": [
              "<seaborn.axisgrid.PairGrid at 0x7ff195cf1550>"
            ]
          },
          "metadata": {},
          "execution_count": 18
        },
        {
          "output_type": "display_data",
          "data": {
            "text/plain": [
              "<Figure size 951x900 with 30 Axes>"
            ],
            "image/png": "[encoded data removed]"
          },
          "metadata": {
            "needs_background": "light"
          }
        }
      ],
      "source": [
        "sns.pairplot(ADX_data, vars = inputs,hue='anomaly',palette='rainbow')"
      ],
      "id": "T6QBPLSJftWU"
    },
    {
      "cell_type": "markdown",
      "source": [
        "It is observed that when there are more number of requests the clicks, impressions, responses and revenue gets influenced."
      ],
      "metadata": {
        "id": "Bki-4dGYt51q"
      },
      "id": "Bki-4dGYt51q"
    },
    {
      "cell_type": "code",
      "source": [],
      "metadata": {
        "id": "-U00c9rXx7BV"
      },
      "id": "-U00c9rXx7BV",
      "execution_count": null,
      "outputs": []
    }
  ],
  "metadata": {
    "colab": {
      "provenance": [],
      "include_colab_link": true
    },
    "kernelspec": {
      "display_name": "Python 3 (ipykernel)",
      "language": "python",
      "name": "python3"
    },
    "language_info": {
      "codemirror_mode": {
        "name": "ipython",
        "version": 3
      },
      "file_extension": ".py",
      "mimetype": "text/x-python",
      "name": "python",
      "nbconvert_exporter": "python",
      "pygments_lexer": "ipython3",
      "version": "3.9.7"
    }
  },
  "nbformat": 4,
  "nbformat_minor": 5
}